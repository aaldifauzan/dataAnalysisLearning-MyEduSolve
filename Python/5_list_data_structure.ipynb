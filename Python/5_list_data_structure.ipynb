{
 "cells": [
  {
   "cell_type": "markdown",
   "id": "6776eae5-c5b3-49a7-9e25-2897b6b62351",
   "metadata": {},
   "source": [
    "## Python List Datatype"
   ]
  },
  {
   "cell_type": "markdown",
   "id": "96d8fecf-ebc7-4b91-90b1-b25f7fb76901",
   "metadata": {},
   "source": [
    "> ### Introduction\n",
    "> Python lists can store an ordered collection of items, or elements, of varying types. They are often used to compile multiple items into a single, mutable variable, which is helpful for retrieving items, specifying outputs or performing calculations quickly. \n",
    "> \n",
    "> Lists are also a type of built-in data structure in Python (along with tuples, sets and dictionaries), which is a specified way of storing and formatting data.\n",
    ">\n",
    "> To create a list in Python, write a set of items within square brackets ([]) and separate each item with a comma. Items in a list can be any basic object type found in Python, including integers, strings, floating point values or boolean values."
   ]
  },
  {
   "cell_type": "code",
   "execution_count": 1,
   "id": "b5e08f2f-dabe-497c-8dcd-0ace9961828e",
   "metadata": {},
   "outputs": [
    {
     "data": {
      "text/plain": [
       "[1, 2, 3, 4, 5]"
      ]
     },
     "execution_count": 1,
     "metadata": {},
     "output_type": "execute_result"
    }
   ],
   "source": [
    "int_list = [1,2,3,4,5]\n",
    "int_list"
   ]
  },
  {
   "cell_type": "code",
   "execution_count": 2,
   "id": "dcae9386-b2a0-4696-bb7d-b2557d3b193a",
   "metadata": {},
   "outputs": [
    {
     "data": {
      "text/plain": [
       "['apple', 'banana', 'cherry']"
      ]
     },
     "execution_count": 2,
     "metadata": {},
     "output_type": "execute_result"
    }
   ],
   "source": [
    "# Create a list of string\n",
    "string_list = [\"apple\",\"banana\",\"cherry\"]\n",
    "string_list"
   ]
  },
  {
   "cell_type": "markdown",
   "id": "6422978c-3e72-41c4-b589-a2d2d2edd2ee",
   "metadata": {},
   "source": [
    "> ### Access Values in a Python List\n",
    "> Each item in a list has an assigned index value. It’s important to note that Python is a zero-indexed based language. All this means is that the first item in the list starts at index 0 and ascends accordingly.\n",
    ">\n",
    "> To access an item value, print the index of the associated item in the list.\n",
    "> ![](https://builtin.com/sites/www.builtin.com/files/styles/ckeditor_optimize/public/inline-images/4_python-list.png)"
   ]
  },
  {
   "cell_type": "code",
   "execution_count": 3,
   "id": "d062944a-948a-48b0-bc66-247eaa9fd9d9",
   "metadata": {},
   "outputs": [
    {
     "data": {
      "text/plain": [
       "5"
      ]
     },
     "execution_count": 3,
     "metadata": {},
     "output_type": "execute_result"
    }
   ],
   "source": [
    "len(int_list)"
   ]
  },
  {
   "cell_type": "code",
   "execution_count": 4,
   "id": "fb07de5c-5ce0-4e3e-8237-80ee534ff61e",
   "metadata": {},
   "outputs": [
    {
     "data": {
      "text/plain": [
       "'apple'"
      ]
     },
     "execution_count": 4,
     "metadata": {},
     "output_type": "execute_result"
    }
   ],
   "source": [
    "first_element = string_list[0]\n",
    "first_element"
   ]
  },
  {
   "cell_type": "code",
   "execution_count": 5,
   "id": "90c2805e-bf8c-43cd-bd84-4089e61434d4",
   "metadata": {},
   "outputs": [
    {
     "data": {
      "text/plain": [
       "'cherry'"
      ]
     },
     "execution_count": 5,
     "metadata": {},
     "output_type": "execute_result"
    }
   ],
   "source": [
    "last_element = string_list[-1]\n",
    "last_element"
   ]
  },
  {
   "cell_type": "code",
   "execution_count": 6,
   "id": "1012c259-37ed-4266-8ec2-35e80456477d",
   "metadata": {},
   "outputs": [
    {
     "data": {
      "text/plain": [
       "'banana'"
      ]
     },
     "execution_count": 6,
     "metadata": {},
     "output_type": "execute_result"
    }
   ],
   "source": [
    "second_last_element = string_list[-2]\n",
    "second_last_element"
   ]
  },
  {
   "cell_type": "code",
   "execution_count": 7,
   "id": "2a286189-13ad-4a0c-84ad-85e914d82c2e",
   "metadata": {},
   "outputs": [
    {
     "data": {
      "text/plain": [
       "True"
      ]
     },
     "execution_count": 7,
     "metadata": {},
     "output_type": "execute_result"
    }
   ],
   "source": [
    "'apple' in string_list"
   ]
  },
  {
   "cell_type": "markdown",
   "id": "e120aa40-c949-4fd7-8bd3-4433335909c0",
   "metadata": {},
   "source": [
    "> ### Slicing\n",
    "> Slicing allows you to obtain a subset of the list. It is done by specifying two indices separated by a colon `:`.\n",
    ">\n",
    "> The returned list will start from the first index and go up to (but not include) the second index."
   ]
  },
  {
   "cell_type": "code",
   "execution_count": 8,
   "id": "6c061b3d-2dda-4469-8f4d-d01ee73a3097",
   "metadata": {},
   "outputs": [
    {
     "data": {
      "text/plain": [
       "[1, 2, 3, 4, 5]"
      ]
     },
     "execution_count": 8,
     "metadata": {},
     "output_type": "execute_result"
    }
   ],
   "source": [
    "int_list"
   ]
  },
  {
   "cell_type": "code",
   "execution_count": 9,
   "id": "3c37daab-e006-4b29-b663-3a1277376304",
   "metadata": {},
   "outputs": [
    {
     "data": {
      "text/plain": [
       "[1, 2, 3, 4, 5]"
      ]
     },
     "execution_count": 9,
     "metadata": {},
     "output_type": "execute_result"
    }
   ],
   "source": [
    "int_list[0:]"
   ]
  },
  {
   "cell_type": "code",
   "execution_count": 10,
   "id": "048d0e99-f209-4399-9050-70cd48bc14aa",
   "metadata": {},
   "outputs": [
    {
     "data": {
      "text/plain": [
       "['apple', 'banana', 'cherry']"
      ]
     },
     "execution_count": 10,
     "metadata": {},
     "output_type": "execute_result"
    }
   ],
   "source": [
    "string_list"
   ]
  },
  {
   "cell_type": "code",
   "execution_count": 11,
   "id": "91bf33e0-d493-411c-9348-0299db4d8fcc",
   "metadata": {},
   "outputs": [
    {
     "data": {
      "text/plain": [
       "['banana', 'cherry']"
      ]
     },
     "execution_count": 11,
     "metadata": {},
     "output_type": "execute_result"
    }
   ],
   "source": [
    "sliced_list = string_list[1:]\n",
    "sliced_list"
   ]
  },
  {
   "cell_type": "markdown",
   "id": "663ab24e-7e3d-429c-848e-936cc4425318",
   "metadata": {},
   "source": [
    "> ### Adding Element\n",
    "> There are several ways to add elements to a list.\n",
    ">\n",
    "> The most common methods are using the `append()` method (to add a single item), the `extend()` method (to add multiple items) and `insert()` method to add item to certain index."
   ]
  },
  {
   "cell_type": "code",
   "execution_count": 12,
   "id": "e4432906-41c7-4d8f-8508-64d62f9d48e7",
   "metadata": {},
   "outputs": [
    {
     "data": {
      "text/plain": [
       "['apple', 'banana', 'cherry']"
      ]
     },
     "execution_count": 12,
     "metadata": {},
     "output_type": "execute_result"
    }
   ],
   "source": [
    "string_list"
   ]
  },
  {
   "cell_type": "code",
   "execution_count": 13,
   "id": "d4993d32-8e6a-4e5b-8c35-b17b358a6e92",
   "metadata": {},
   "outputs": [
    {
     "data": {
      "text/plain": [
       "['apple', 'banana', 'cherry', 'orange']"
      ]
     },
     "execution_count": 13,
     "metadata": {},
     "output_type": "execute_result"
    }
   ],
   "source": [
    "# Using the append() methode to add a single item to the list\n",
    "string_list.append('orange')\n",
    "string_list"
   ]
  },
  {
   "cell_type": "code",
   "execution_count": 14,
   "id": "064f8c24-b6a5-49ba-b180-e4ff87c65cfe",
   "metadata": {},
   "outputs": [
    {
     "data": {
      "text/plain": [
       "['apple', 'banana', 'cherry', 'orange', 'grape', 'pineapple']"
      ]
     },
     "execution_count": 14,
     "metadata": {},
     "output_type": "execute_result"
    }
   ],
   "source": [
    "# Using the extend() methode to add multiple items to the list\n",
    "string_list.extend(['grape','pineapple'])\n",
    "string_list"
   ]
  },
  {
   "cell_type": "code",
   "execution_count": 15,
   "id": "378ad79f-a4bd-4301-94ea-b0d6dcc46e30",
   "metadata": {},
   "outputs": [
    {
     "data": {
      "text/plain": [
       "['apple', 'banana', 'watermelon', 'cherry', 'orange', 'grape', 'pineapple']"
      ]
     },
     "execution_count": 15,
     "metadata": {},
     "output_type": "execute_result"
    }
   ],
   "source": [
    "# Using the insert() methode to add items to the list\n",
    "string_list.insert(2,\"watermelon\")\n",
    "string_list"
   ]
  },
  {
   "cell_type": "markdown",
   "id": "6eafe72c-3ff1-4298-8530-6e771dd17176",
   "metadata": {},
   "source": [
    "> ### Change Items\n",
    ">\n",
    "> You can modify an item in a list by referring to its index number."
   ]
  },
  {
   "cell_type": "code",
   "execution_count": 16,
   "id": "d611f041-1734-4fef-9073-5028a5241517",
   "metadata": {},
   "outputs": [
    {
     "data": {
      "text/plain": [
       "['apple', 'banana', 'watermelon', 'cherry', 'orange', 'grape', 'pineapple']"
      ]
     },
     "execution_count": 16,
     "metadata": {},
     "output_type": "execute_result"
    }
   ],
   "source": [
    "string_list"
   ]
  },
  {
   "cell_type": "code",
   "execution_count": 17,
   "id": "beaee893-8260-4ff9-a1b7-ba245a027689",
   "metadata": {},
   "outputs": [
    {
     "data": {
      "text/plain": [
       "['apple', 'blueberry', 'watermelon', 'cherry', 'orange', 'grape', 'pineapple']"
      ]
     },
     "execution_count": 17,
     "metadata": {},
     "output_type": "execute_result"
    }
   ],
   "source": [
    "# Changing the second item in the list\n",
    "string_list[1] = 'blueberry'\n",
    "string_list"
   ]
  },
  {
   "cell_type": "code",
   "execution_count": 18,
   "id": "8e84426f-d438-4134-a011-6dcdbaf95c15",
   "metadata": {},
   "outputs": [
    {
     "data": {
      "text/plain": [
       "['apple', 'watermelon', 'cherry', 'orange', 'grape', 'pineapple']"
      ]
     },
     "execution_count": 18,
     "metadata": {},
     "output_type": "execute_result"
    }
   ],
   "source": [
    "# Using the remove() method to remove a specifiedy item\n",
    "string_list.remove('blueberry')\n",
    "string_list"
   ]
  },
  {
   "cell_type": "code",
   "execution_count": 19,
   "id": "a5c8c188-eaa8-4c78-bcd5-a7625236042c",
   "metadata": {},
   "outputs": [
    {
     "data": {
      "text/plain": [
       "('pineapple', ['apple', 'watermelon', 'cherry', 'orange', 'grape'])"
      ]
     },
     "execution_count": 19,
     "metadata": {},
     "output_type": "execute_result"
    }
   ],
   "source": [
    "# Using the pop() methode to remove an item by index (removing the last item in this case)\n",
    "popped_item = string_list.pop()\n",
    "popped_item, string_list"
   ]
  },
  {
   "cell_type": "markdown",
   "id": "056aa24e-01cf-423d-bf0f-221b0945c42e",
   "metadata": {},
   "source": [
    "> ### List Method\n",
    "> Python provides various methods that you can use on lists.\n",
    ">\n",
    "> Here are some of the most commonly used [list methods](https://www.w3schools.com/python/python_lists_methods.asp)."
   ]
  },
  {
   "cell_type": "code",
   "execution_count": 20,
   "id": "3e7f53e1-46c9-4dd4-977f-2d20641b81b4",
   "metadata": {},
   "outputs": [],
   "source": [
    "# list of methods available for a list object\n",
    "# list_methods = [method for method in dir(list) if not method.startswith('___')]\n",
    "# list_methods"
   ]
  },
  {
   "cell_type": "code",
   "execution_count": 21,
   "id": "343b468b-ee7b-4752-ac49-d8c5b05d2aa7",
   "metadata": {},
   "outputs": [],
   "source": [
    "# Demonstrating some commonly used list methods\n",
    "sample_list = [3, 1, 4, 1, 5, 9, 2, 6, 5, 3, 5]"
   ]
  },
  {
   "cell_type": "code",
   "execution_count": 22,
   "id": "300a7389-568f-4c70-9aed-0c5346a9bbeb",
   "metadata": {},
   "outputs": [
    {
     "data": {
      "text/plain": [
       "[3, 1, 4, 1, 5, 9, 2, 6, 5, 3, 5]"
      ]
     },
     "execution_count": 22,
     "metadata": {},
     "output_type": "execute_result"
    }
   ],
   "source": [
    "# Copy method\n",
    "sample_list2 = sample_list.copy()\n",
    "sample_list2"
   ]
  },
  {
   "cell_type": "code",
   "execution_count": 23,
   "id": "10aad451-3ec0-4972-a892-daaf9059eba3",
   "metadata": {},
   "outputs": [
    {
     "data": {
      "text/plain": [
       "[3, 1, 4, 1, 5, 9, 2, 6, 5, 3, 5, 7]"
      ]
     },
     "execution_count": 23,
     "metadata": {},
     "output_type": "execute_result"
    }
   ],
   "source": [
    "# Append method\n",
    "sample_list.append(7)\n",
    "sample_list"
   ]
  },
  {
   "cell_type": "code",
   "execution_count": 24,
   "id": "1ae20397-2302-4adc-9d4c-577baa050435",
   "metadata": {},
   "outputs": [
    {
     "data": {
      "text/plain": [
       "(3, 5)"
      ]
     },
     "execution_count": 24,
     "metadata": {},
     "output_type": "execute_result"
    }
   ],
   "source": [
    "# Count method\n",
    "count_of_5 = sample_list.count(5)\n",
    "\n",
    "# Index method\n",
    "index_of_9 = sample_list.index(9)\n",
    "count_of_5, index_of_9"
   ]
  },
  {
   "cell_type": "code",
   "execution_count": 25,
   "id": "30f4966a-e3f1-4765-8b10-42ce0d666004",
   "metadata": {},
   "outputs": [
    {
     "data": {
      "text/plain": [
       "[7, 5, 3, 5, 6, 2, 9, 5, 1, 4, 1, 3]"
      ]
     },
     "execution_count": 25,
     "metadata": {},
     "output_type": "execute_result"
    }
   ],
   "source": [
    "# Reverse method\n",
    "sample_list.reverse()\n",
    "sample_list"
   ]
  },
  {
   "cell_type": "code",
   "execution_count": 26,
   "id": "d71c5eec-a756-4d13-9865-b463795d374f",
   "metadata": {},
   "outputs": [
    {
     "data": {
      "text/plain": [
       "[1, 1, 2, 3, 3, 4, 5, 5, 5, 6, 7, 9]"
      ]
     },
     "execution_count": 26,
     "metadata": {},
     "output_type": "execute_result"
    }
   ],
   "source": [
    "# Sort method\n",
    "sample_list.sort()\n",
    "sample_list"
   ]
  },
  {
   "cell_type": "code",
   "execution_count": 27,
   "id": "7ac200f5-c9ec-442f-bf20-b83c2d7a7c93",
   "metadata": {},
   "outputs": [
    {
     "data": {
      "text/plain": [
       "[]"
      ]
     },
     "execution_count": 27,
     "metadata": {},
     "output_type": "execute_result"
    }
   ],
   "source": [
    "# Clear method\n",
    "sample_list.clear()\n",
    "sample_list"
   ]
  },
  {
   "cell_type": "markdown",
   "id": "7d7d40c5-76f6-438c-a37c-65972809f578",
   "metadata": {},
   "source": [
    "## References"
   ]
  },
  {
   "cell_type": "markdown",
   "id": "765e6bd0-2aac-4c2a-b790-c8ee9b06575f",
   "metadata": {},
   "source": [
    "> 1. https://builtin.com/data-science/python-list\n",
    "> 2. https://www.w3schools.com/python/python_lists.asp\n",
    "> 3. https://python-course.eu/python-tutorial/list-manipulation.php\n",
    "> 4. https://www.geeksforgeeks.org/data-structures/"
   ]
  }
 ],
 "metadata": {
  "kernelspec": {
   "display_name": "Python 3 (ipykernel)",
   "language": "python",
   "name": "python3"
  },
  "language_info": {
   "codemirror_mode": {
    "name": "ipython",
    "version": 3
   },
   "file_extension": ".py",
   "mimetype": "text/x-python",
   "name": "python",
   "nbconvert_exporter": "python",
   "pygments_lexer": "ipython3",
   "version": "3.10.9"
  }
 },
 "nbformat": 4,
 "nbformat_minor": 5
}
