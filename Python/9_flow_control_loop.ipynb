{
 "cells": [
  {
   "cell_type": "markdown",
   "id": "6a809ebd-532c-43b9-979a-61c30c8a2d5f",
   "metadata": {},
   "source": [
    "### Flow Control Loop"
   ]
  },
  {
   "cell_type": "markdown",
   "id": "4c4babdd-5ede-4a49-9b5b-f28656417355",
   "metadata": {},
   "source": [
    "> ### Common Built-In Function\n",
    "> Python provides several built-in functions that are readily [available for user](https://www.w3schools.com/python/python_ref_functions.asp)\n",
    ">\n",
    "> Below are some commonly used built-in functions along with examples demonstrating their use."
   ]
  },
  {
   "cell_type": "markdown",
   "id": "f0b464f6-0667-413f-be38-c51408bea5f3",
   "metadata": {},
   "source": [
    "> ### input()\n",
    ">\n",
    "> The `input()` function is used to take input from the user.\n",
    ">\n",
    "> The function reads a line from input and returns it as a string"
   ]
  },
  {
   "cell_type": "code",
   "execution_count": 1,
   "id": "3c6f6822-37b9-4c67-9d9b-ebeda9e8d7f9",
   "metadata": {},
   "outputs": [
    {
     "name": "stdin",
     "output_type": "stream",
     "text": [
      "Enter your name:  Aldi\n"
     ]
    }
   ],
   "source": [
    "name = input('Enter your name: ')"
   ]
  },
  {
   "cell_type": "code",
   "execution_count": 2,
   "id": "b8b90ca2-bbc2-497e-b937-fa20248fdb2b",
   "metadata": {},
   "outputs": [
    {
     "name": "stdout",
     "output_type": "stream",
     "text": [
      "Hello, Aldi!\n"
     ]
    }
   ],
   "source": [
    "print(f\"Hello, {name}!\")"
   ]
  },
  {
   "cell_type": "code",
   "execution_count": 3,
   "id": "385f461d-fa6a-4ee2-98dd-33843648fb1f",
   "metadata": {},
   "outputs": [
    {
     "name": "stdin",
     "output_type": "stream",
     "text": [
      "Enter number:  7\n"
     ]
    },
    {
     "name": "stdout",
     "output_type": "stream",
     "text": [
      "7\n",
      "6\n",
      "5\n",
      "4\n",
      "3\n",
      "2\n",
      "1\n",
      "End Loop!\n"
     ]
    }
   ],
   "source": [
    "count = int(input(\"Enter number: \"))\n",
    "while count > 0:\n",
    "    print(f'{count}')\n",
    "    count -= 1\n",
    "print(\"End Loop!\")"
   ]
  },
  {
   "cell_type": "markdown",
   "id": "3fcf1eea-ff8f-4bc7-a24f-31bf9ffa9694",
   "metadata": {},
   "source": [
    "> `zip()`\n",
    ">\n",
    "> The `zip()` function takes two or more iterable objects and returns an iterator that generates tuples containing elements from the input iterables."
   ]
  },
  {
   "cell_type": "code",
   "execution_count": 4,
   "id": "3b27c8c2-89c7-4843-b841-058eb1a2771c",
   "metadata": {},
   "outputs": [],
   "source": [
    "x = [1, 2, 3]\n",
    "y = [\"one\", \"two\", \"three\"]"
   ]
  },
  {
   "cell_type": "code",
   "execution_count": 5,
   "id": "07c7b01d-aaa6-41ee-b961-1377c30745aa",
   "metadata": {},
   "outputs": [
    {
     "name": "stdout",
     "output_type": "stream",
     "text": [
      "1 one\n",
      "2 two\n",
      "3 three\n"
     ]
    }
   ],
   "source": [
    "for i, j in zip(x,y):\n",
    "    print (i,j)"
   ]
  },
  {
   "cell_type": "code",
   "execution_count": 6,
   "id": "abcdf95d-03cd-4cf1-8966-4c02fa137545",
   "metadata": {},
   "outputs": [
    {
     "name": "stdout",
     "output_type": "stream",
     "text": [
      "Alice is 25 years old.\n",
      "Bob is 30 years old.\n",
      "Charlie is 35 years old.\n"
     ]
    }
   ],
   "source": [
    "names = ['Alice', 'Bob', 'Charlie']\n",
    "ages = [25, 30, 35]\n",
    "for name, age in zip(names, ages):\n",
    "    print(f'{name} is {age} years old.')"
   ]
  },
  {
   "cell_type": "markdown",
   "id": "71b8948e-0cfb-4bd6-83e5-25475ba49a88",
   "metadata": {},
   "source": [
    "> `enumerate()`\n",
    ">\n",
    "> The `enumerate()` function takes an iterable and returns as iterator that produces tuples containing the index and value of each elemnt in the input iterable."
   ]
  },
  {
   "cell_type": "code",
   "execution_count": 7,
   "id": "c9598e61-ba87-4fbb-8e6b-5b841bc983bb",
   "metadata": {},
   "outputs": [],
   "source": [
    "x = [\"a\", \"b\", \"c\"]"
   ]
  },
  {
   "cell_type": "code",
   "execution_count": 8,
   "id": "7a0d18b4-32e4-46ed-bd38-bc6b7e0b77b4",
   "metadata": {},
   "outputs": [
    {
     "name": "stdout",
     "output_type": "stream",
     "text": [
      "0 a\n",
      "1 b\n",
      "2 c\n"
     ]
    }
   ],
   "source": [
    "for idx, val in enumerate(x):\n",
    "    print(idx, val)"
   ]
  },
  {
   "cell_type": "code",
   "execution_count": 9,
   "id": "afe3a9bb-2a4f-452a-bbda-b14cb0a2b67f",
   "metadata": {},
   "outputs": [
    {
     "name": "stdout",
     "output_type": "stream",
     "text": [
      "Fruit 1: Apple\n",
      "Fruit 2: Banana\n",
      "Fruit 3: Cherry\n"
     ]
    }
   ],
   "source": [
    "fruits = ['Apple', 'Banana', 'Cherry']\n",
    "for index, fruit in enumerate(fruits):\n",
    "    print(f\"Fruit {index + 1}: {fruit}\")"
   ]
  },
  {
   "cell_type": "markdown",
   "id": "085dec45-4a5d-4e24-b6f1-b385aab94133",
   "metadata": {},
   "source": [
    "> `range()`\n",
    ">\n",
    "> The `range()` function returns a sequence of numbers, starting from 0 by default, and increments by 1 (also default), and stops befor a specified number."
   ]
  },
  {
   "cell_type": "code",
   "execution_count": 10,
   "id": "aee357a3-2885-42a3-8bd5-55dd35bfc911",
   "metadata": {},
   "outputs": [
    {
     "name": "stdout",
     "output_type": "stream",
     "text": [
      "0\n",
      "1\n",
      "2\n",
      "3\n",
      "4\n"
     ]
    }
   ],
   "source": [
    "for i in range(5):\n",
    "    print(i)"
   ]
  },
  {
   "cell_type": "markdown",
   "id": "9608e273-1261-42cf-b2d6-24424ddb776f",
   "metadata": {},
   "source": [
    "> ### Additional Concept\n",
    "> We will cover the common additional concept in Python such as `break`, `pass`, and `continue` statements, as well as nested `for` and `while` loops."
   ]
  },
  {
   "cell_type": "markdown",
   "id": "eff69e4d-b81a-4f8f-9414-bc03c0370c1c",
   "metadata": {},
   "source": [
    "> ### Break\n",
    ">\n",
    "> The `break` statement is used to exit a loop prematurely when a certain condition is met."
   ]
  },
  {
   "cell_type": "code",
   "execution_count": 11,
   "id": "0c9c222c-ef52-4624-8f77-62bbe35c67aa",
   "metadata": {},
   "outputs": [
    {
     "name": "stdout",
     "output_type": "stream",
     "text": [
      "0\n",
      "1\n",
      "2\n",
      "3\n",
      "4\n"
     ]
    }
   ],
   "source": [
    "for i in range(10):\n",
    "    if i == 5:\n",
    "        break\n",
    "    print(i)"
   ]
  },
  {
   "cell_type": "code",
   "execution_count": 12,
   "id": "fbb89466-f2bb-4e90-a8b9-d0c1e13b6aaf",
   "metadata": {},
   "outputs": [
    {
     "name": "stdout",
     "output_type": "stream",
     "text": [
      "1\n",
      "2\n",
      "3\n"
     ]
    }
   ],
   "source": [
    "i = 1\n",
    "while i < 9:\n",
    "    print(i)\n",
    "    if i == 3:\n",
    "        break\n",
    "    i += 1"
   ]
  },
  {
   "cell_type": "markdown",
   "id": "8f07e375-d5a7-422b-98aa-4fe816aca3ee",
   "metadata": {},
   "source": [
    "> ### Continue\n",
    ">\n",
    "> The `continue` statement is used to skip the current iteration of a loop and continue with the next iteration."
   ]
  },
  {
   "cell_type": "code",
   "execution_count": 13,
   "id": "35959b5a-f85e-4228-a514-075a0a729ac0",
   "metadata": {},
   "outputs": [
    {
     "name": "stdout",
     "output_type": "stream",
     "text": [
      "0\n",
      "1\n",
      "2\n",
      "3\n",
      "4\n",
      "6\n",
      "7\n",
      "8\n",
      "9\n"
     ]
    }
   ],
   "source": [
    "for i in range(10):\n",
    "    if i == 5:\n",
    "        continue\n",
    "    print(i)"
   ]
  },
  {
   "cell_type": "code",
   "execution_count": 14,
   "id": "1f78fc8b-2536-44c5-9344-4a8d5cf0e6a6",
   "metadata": {},
   "outputs": [
    {
     "name": "stdout",
     "output_type": "stream",
     "text": [
      "1\n",
      "2\n",
      "4\n",
      "5\n",
      "6\n",
      "7\n",
      "8\n",
      "9\n"
     ]
    }
   ],
   "source": [
    "i = 0\n",
    "while i < 9:\n",
    "    i += 1\n",
    "    if i == 3:\n",
    "        continue\n",
    "    print(i)"
   ]
  },
  {
   "cell_type": "markdown",
   "id": "68bb761b-7b7e-440b-946a-977b24226003",
   "metadata": {},
   "source": [
    "> ### Pass\n",
    "> The `pass` statement is used as a placeholder for future code. It allows the loop to run without any interruption while doing nothing. Below is an example demonstrating the use of the `pass` statement in a `for` loop."
   ]
  },
  {
   "cell_type": "code",
   "execution_count": 15,
   "id": "bb3cf325-bb44-4661-81bb-3621e9f77d35",
   "metadata": {},
   "outputs": [
    {
     "name": "stdout",
     "output_type": "stream",
     "text": [
      "0\n",
      "1\n",
      "2\n",
      "3\n",
      "4\n",
      "5\n",
      "6\n",
      "7\n",
      "8\n",
      "9\n"
     ]
    }
   ],
   "source": [
    "for i in range(10):\n",
    "    if i != 2:\n",
    "        pass\n",
    "    print(i)"
   ]
  },
  {
   "cell_type": "code",
   "execution_count": 16,
   "id": "9618daf5-bb02-4d1a-b2e9-a981f9835f3c",
   "metadata": {},
   "outputs": [],
   "source": [
    "a = 33\n",
    "b = 200\n",
    "if b > a:\n",
    "    pass"
   ]
  },
  {
   "cell_type": "markdown",
   "id": "fcb82bbb-5593-4b28-a9cd-3dfc234fd5a8",
   "metadata": {},
   "source": [
    "> ### Nested Loop\n",
    ">\n",
    "> A nested loop is loop inside a loop. The `for` loop inside it, as well as the while. Below is an example demonstrating the use of a nested `for` and `while` loop to print a pattern."
   ]
  },
  {
   "cell_type": "code",
   "execution_count": 17,
   "id": "4e6a1ac9-bbeb-4dc5-a539-682e072b65fc",
   "metadata": {},
   "outputs": [
    {
     "name": "stdout",
     "output_type": "stream",
     "text": [
      "red apple\n",
      "red banana\n",
      "red cherry\n",
      "big apple\n",
      "big banana\n",
      "big cherry\n",
      "tasty apple\n",
      "tasty banana\n",
      "tasty cherry\n"
     ]
    }
   ],
   "source": [
    "adj = [\"red\", \"big\", \"tasty\"]\n",
    "fruits = [\"apple\", \"banana\", \"cherry\"]\n",
    "for i in adj:\n",
    "    for j in fruits:\n",
    "        print(i,j)"
   ]
  },
  {
   "cell_type": "code",
   "execution_count": 18,
   "id": "c7b5341a-a1cc-446a-bcb7-90ebd6fb3b25",
   "metadata": {},
   "outputs": [
    {
     "name": "stdout",
     "output_type": "stream",
     "text": [
      "0\n",
      "01\n",
      "012\n",
      "0123\n",
      "01234\n"
     ]
    }
   ],
   "source": [
    "for i in range(5):\n",
    "    for j in range(i+1):\n",
    "        print(j, end='')\n",
    "    print()"
   ]
  },
  {
   "cell_type": "markdown",
   "id": "4521b9a4-bb79-4e9b-baee-92050d0ff7aa",
   "metadata": {},
   "source": [
    "> Use a nested loop to find common elements in two lists."
   ]
  },
  {
   "cell_type": "code",
   "execution_count": 19,
   "id": "6518e48a-a55b-49d0-8ceb-21a33af1c888",
   "metadata": {},
   "outputs": [
    {
     "name": "stdout",
     "output_type": "stream",
     "text": [
      "Common elements:  [4, 5]\n"
     ]
    }
   ],
   "source": [
    "list1 = [1, 2, 3, 4, 5]\n",
    "list2 = [4, 5, 6, 7, 8]\n",
    "common_elements = []\n",
    "for element1 in list1:\n",
    "    for element2 in list2:\n",
    "        if element1 == element2:\n",
    "            common_elements.append(element1)\n",
    "print(\"Common elements: \", common_elements)"
   ]
  },
  {
   "cell_type": "markdown",
   "id": "347a2dcd-451f-475d-8118-08a90a68c2d6",
   "metadata": {},
   "source": [
    "## References"
   ]
  },
  {
   "cell_type": "markdown",
   "id": "23cfc254-9996-4b51-9254-4df171ff486f",
   "metadata": {},
   "source": [
    "> 1. https://www.w3schools.com/python/python_ref_functions.asp\n",
    "> 2. https://www.geeksforgeeks.org/python-if-else/?ref=lbp\n",
    "> 3. https://www.freecodecamp.org/news/how-to-use-conditional-statements-if-else-elif-in-python/"
   ]
  }
 ],
 "metadata": {
  "kernelspec": {
   "display_name": "Python 3 (ipykernel)",
   "language": "python",
   "name": "python3"
  },
  "language_info": {
   "codemirror_mode": {
    "name": "ipython",
    "version": 3
   },
   "file_extension": ".py",
   "mimetype": "text/x-python",
   "name": "python",
   "nbconvert_exporter": "python",
   "pygments_lexer": "ipython3",
   "version": "3.10.9"
  }
 },
 "nbformat": 4,
 "nbformat_minor": 5
}
