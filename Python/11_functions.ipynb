{
 "cells": [
  {
   "cell_type": "markdown",
   "id": "e6b0bea6-ae77-42ea-a29c-0ea466708055",
   "metadata": {},
   "source": [
    "## Functions"
   ]
  },
  {
   "cell_type": "markdown",
   "id": "e218cda0-c413-40a1-8c2f-2607e57a3609",
   "metadata": {},
   "source": [
    "> In Python, a function is a group of related statements that performs a specific task. Functions help break our program into smaller and modular chunks. As our program grows larger and more complex, functions make it more organized and manageable.\n",
    ">\n",
    "> Furthermore, it avoids repetition and makes the code reusable."
   ]
  },
  {
   "cell_type": "markdown",
   "id": "d8e38cff-55f6-4de8-96fc-4f37582ad199",
   "metadata": {},
   "source": [
    "> ### Type of Functions\n",
    "> \n",
    "> In Python, you can define two types of functions:\n",
    ">\n",
    "> 1. **Built-in Functions**: Functions that are built into Python, like `print()`, `len()`, `type()`, and many others.\n",
    "> 2. **User-defined Functions**: Functions defined by the users themselves to perform a specific task\n",
    ">\n",
    "> To declare a function in Python, use the `def` keyword followed by the function name and parentheses `()`.\n",
    ">\n",
    "> The code block within every function starts with a colon `( : )` and is indented."
   ]
  },
  {
   "cell_type": "code",
   "execution_count": 1,
   "id": "f74e897e-c3ea-4473-9c62-0a514bf8b2f5",
   "metadata": {},
   "outputs": [],
   "source": [
    "def greet():\n",
    "    print(\"Hello, World!\")\n",
    "\n",
    "def add_numbers(a,b):\n",
    "    num = a + b\n",
    "    print(f'The sum of {a} and {b} is {num}')"
   ]
  },
  {
   "cell_type": "code",
   "execution_count": 2,
   "id": "98d7d598-57a6-43ce-85ff-fcc7d3687490",
   "metadata": {},
   "outputs": [
    {
     "name": "stdout",
     "output_type": "stream",
     "text": [
      "Hello, World!\n"
     ]
    }
   ],
   "source": [
    "greet()"
   ]
  },
  {
   "cell_type": "code",
   "execution_count": 3,
   "id": "496bf3db-2466-4f24-b152-809f9e4ccef9",
   "metadata": {},
   "outputs": [
    {
     "name": "stdout",
     "output_type": "stream",
     "text": [
      "The sum of 5 and 2 is 7\n"
     ]
    }
   ],
   "source": [
    "add_numbers(5,2)"
   ]
  },
  {
   "cell_type": "markdown",
   "id": "6ed1a236-937f-429b-bae7-fd4e4876b14d",
   "metadata": {},
   "source": [
    "> ### Function Arguments\n",
    "> In Python, you can pass arguments to a function to use them inside the function. You can pass different types of argument:\n",
    ">\n",
    "> 1. **Positional Arguments** : Arguments passed to the function in the correct positional order.\n",
    "> 2. **Keyword Arguments** : Argument passed to the function with a keyword and value.\n",
    "> 3. **Default Arguments** : Arguments that take a default value if no value is provided.\n",
    ">\n",
    "> ![](https://www.tutorialspoint.com/python/images/function_arguments.jpg)"
   ]
  },
  {
   "cell_type": "code",
   "execution_count": 4,
   "id": "cfa6507e-d6d3-44dd-8890-6087018a4bb9",
   "metadata": {},
   "outputs": [],
   "source": [
    "# function wih positional arguments\n",
    "def subtract(a,b):\n",
    "    print(f'The difference between {a} and {b} is {a-b}')\n",
    "\n",
    "# function with keyword arguments\n",
    "def greet(name, greeting='Hallo'):\n",
    "    print(f'{greeting}, {name}!')"
   ]
  },
  {
   "cell_type": "code",
   "execution_count": 5,
   "id": "f406ca36-fbb1-4b55-8cc3-fc6873c810b1",
   "metadata": {},
   "outputs": [
    {
     "name": "stdout",
     "output_type": "stream",
     "text": [
      "The difference between 20 and 19 is 1\n"
     ]
    }
   ],
   "source": [
    "# call positional arguments function\n",
    "subtract(20,19)"
   ]
  },
  {
   "cell_type": "code",
   "execution_count": 6,
   "id": "ab119331-4a93-49dd-ae1e-1d2fbb456a98",
   "metadata": {},
   "outputs": [
    {
     "name": "stdout",
     "output_type": "stream",
     "text": [
      "Hallo, John!\n",
      "Hi, John!\n"
     ]
    }
   ],
   "source": [
    "# call keyword arguments function\n",
    "greet('John')\n",
    "greet('John', 'Hi')"
   ]
  },
  {
   "cell_type": "markdown",
   "id": "e8e2c918-16d8-40e4-8e49-468476cda68d",
   "metadata": {},
   "source": [
    "> ### Return Statement\n",
    ">\n",
    "> The `return` statement is used to exit a function and return a value.\n",
    ">\n",
    "> If no expression is provided with `return`, or if `return` is not used within the function, the function will return `None`."
   ]
  },
  {
   "cell_type": "code",
   "execution_count": 7,
   "id": "9b495181-c567-4722-8c37-4bf9fe73dc8c",
   "metadata": {},
   "outputs": [],
   "source": [
    "# function without return statement\n",
    "def print_square(num):\n",
    "    print(num ** 2)\n",
    "\n",
    "# function with return statement\n",
    "def get_square(num):\n",
    "    return num ** 2"
   ]
  },
  {
   "cell_type": "code",
   "execution_count": 8,
   "id": "74d9c3d8-2076-448d-9114-e24920219315",
   "metadata": {},
   "outputs": [
    {
     "name": "stdout",
     "output_type": "stream",
     "text": [
      "16\n",
      "None\n"
     ]
    }
   ],
   "source": [
    "# call function without return statement\n",
    "result = print_square(4)\n",
    "print(result)"
   ]
  },
  {
   "cell_type": "code",
   "execution_count": 9,
   "id": "99f565c9-7ff7-4127-b221-0e199c5fdaaa",
   "metadata": {},
   "outputs": [
    {
     "name": "stdout",
     "output_type": "stream",
     "text": [
      "16\n"
     ]
    }
   ],
   "source": [
    "# call function without return statement\n",
    "result = get_square(4)\n",
    "print(result)"
   ]
  },
  {
   "cell_type": "markdown",
   "id": "8fd44bc6-1785-46b5-8a1f-f5483a296e78",
   "metadata": {},
   "source": [
    "> ### Benefits\n",
    "> 1. **Code Reusability** : Functions allow code reusability. Once a function is defined. It can be used multiple times.\n",
    "> 2. **Code Organization** : Functions help in organizing the code. Related operations can be grouped inside a function.\n",
    "> 3. **Code Maintenance** : Functions make the code more manageable and organized, making it easier to maintain.\n",
    "> 4. **Code Readability** : Properly defined functions make the code more readable and understandable\n",
    "> 5. **Modular Programming** : Functions support the concept of modular programming, where the program is divided into multiple modules or functions."
   ]
  },
  {
   "cell_type": "code",
   "execution_count": 10,
   "id": "a93954a7-4ee3-4071-ba64-f167244bc413",
   "metadata": {},
   "outputs": [],
   "source": [
    "# defining a function to calculate factorial\n",
    "def factorial (n):\n",
    "    if n == 0:\n",
    "        return 1\n",
    "    else:\n",
    "        return n * factorial(n-1)"
   ]
  },
  {
   "cell_type": "code",
   "execution_count": 11,
   "id": "cda26a37-fca9-48a8-ab73-fb0f097cd027",
   "metadata": {},
   "outputs": [
    {
     "name": "stdin",
     "output_type": "stream",
     "text": [
      " 5\n"
     ]
    },
    {
     "data": {
      "text/plain": [
       "120"
      ]
     },
     "execution_count": 11,
     "metadata": {},
     "output_type": "execute_result"
    }
   ],
   "source": [
    "# call the factorial function\n",
    "factorial(int(input()))"
   ]
  },
  {
   "cell_type": "markdown",
   "id": "4e537349-7f8c-4df1-8db9-67895975e974",
   "metadata": {},
   "source": [
    "> ### Advanced Function"
   ]
  },
  {
   "cell_type": "markdown",
   "id": "97c9727b-ba75-4721-8de6-1db12b4cf435",
   "metadata": {},
   "source": [
    "> ### 1. First-Class Objects\n",
    ">\n",
    "> In Python, functions are first-class object\n",
    ">\n",
    "> This means that functions can be passed as arguments to other functions, returned as values from other functions, and assigned to variables."
   ]
  },
  {
   "cell_type": "code",
   "execution_count": 12,
   "id": "a09cb540-ed09-48bb-b93e-a79aa1dd02ab",
   "metadata": {},
   "outputs": [],
   "source": [
    "# example of function as first-class object\n",
    "# function 1\n",
    "def square(x):\n",
    "    return x * x\n",
    "\n",
    "# function 2\n",
    "def apply(func, x):\n",
    "    return func(x)"
   ]
  },
  {
   "cell_type": "code",
   "execution_count": 13,
   "id": "6697c77b-db93-455d-903b-b43673fad2ac",
   "metadata": {},
   "outputs": [
    {
     "name": "stdout",
     "output_type": "stream",
     "text": [
      "25\n"
     ]
    }
   ],
   "source": [
    "# call function 2\n",
    "result = apply(square, 5) # notice that square is function 1\n",
    "print(result)"
   ]
  },
  {
   "cell_type": "markdown",
   "id": "9b7fca68-f7f9-4fbb-9e8e-614063b6fc9c",
   "metadata": {},
   "source": [
    "> ### 2. Anonymous Functions (Lambda)\n",
    ">\n",
    "> Lambda functions are small anonymous functions that are defined with the `lambda` keyword.\n",
    ">\n",
    "> They can take any number of arguments, but can only have one expression"
   ]
  },
  {
   "cell_type": "code",
   "execution_count": 14,
   "id": "ab78423e-78c2-421c-83ff-2df6631728da",
   "metadata": {},
   "outputs": [],
   "source": [
    "def var_a(a, b, c):\n",
    "    return (a+b)**c"
   ]
  },
  {
   "cell_type": "code",
   "execution_count": 15,
   "id": "84545aa6-608a-4c97-a658-db3491719942",
   "metadata": {},
   "outputs": [],
   "source": [
    "# example of lambda function\n",
    "var_a = lambda a, b, c: (a+b)**c\n",
    "result = var_a(10, 5, 2)"
   ]
  },
  {
   "cell_type": "code",
   "execution_count": 16,
   "id": "4fbe6ade-9d08-4d3d-af4d-27e41e9f3c4d",
   "metadata": {},
   "outputs": [
    {
     "name": "stdout",
     "output_type": "stream",
     "text": [
      "225\n"
     ]
    }
   ],
   "source": [
    "print(result)"
   ]
  },
  {
   "cell_type": "markdown",
   "id": "cf971912-8206-4b84-91c3-d4915457b24d",
   "metadata": {},
   "source": [
    "> ### 3. Higher-Order Functions\n",
    "> Higher-order functions are function that either take one or more functions as arguments, or return a function as a result.\n",
    ">\n",
    "> This is possible because in Python, functions are first-class citizens."
   ]
  },
  {
   "cell_type": "code",
   "execution_count": 17,
   "id": "cf1e77b7-9574-48d3-a0ad-5259e2a678b2",
   "metadata": {},
   "outputs": [],
   "source": [
    "# example of high order functions\n",
    "def calculate(operation, a, b):\n",
    "    return operation(a, b)\n",
    "\n",
    "# function 2\n",
    "addition = lambda a,b: a+b\n",
    "subtract = lambda a,b: a-b\n",
    "multiply = lambda a,b: a*b\n",
    "division = lambda a,b: a/b"
   ]
  },
  {
   "cell_type": "code",
   "execution_count": 18,
   "id": "fadf395e-69fd-4e0f-9806-0f0489cfc45b",
   "metadata": {},
   "outputs": [],
   "source": [
    "add_res = calculate(addition, 5, 3)\n",
    "sub_res = calculate(subtract, 5, 3)\n",
    "mult_res = calculate(multiply, 5, 3)\n",
    "div_res = calculate(division, 5, 3)"
   ]
  },
  {
   "cell_type": "code",
   "execution_count": 19,
   "id": "27fe4647-1cd7-4e5d-9413-7fd38c870890",
   "metadata": {},
   "outputs": [],
   "source": [
    "result = [add_res,sub_res,mult_res,div_res]"
   ]
  },
  {
   "cell_type": "code",
   "execution_count": 20,
   "id": "e794941a-ab31-4a1b-9602-d8eb660e37ef",
   "metadata": {},
   "outputs": [
    {
     "name": "stdout",
     "output_type": "stream",
     "text": [
      "[8, 2, 15, 1.6666666666666667]\n"
     ]
    }
   ],
   "source": [
    "print(result)"
   ]
  },
  {
   "cell_type": "markdown",
   "id": "1e0bdbb1-c330-490c-9a9b-9af5aad7ec4e",
   "metadata": {},
   "source": [
    "> ### 4. Recursive Functions\n",
    "> \n",
    "> A recursive function is a function that calls itself to solve a smaller instance of the same problems."
   ]
  },
  {
   "cell_type": "code",
   "execution_count": 1,
   "id": "9ba845ee-8ab5-4d4c-9c20-0c45f044735f",
   "metadata": {},
   "outputs": [],
   "source": [
    "def factorial(n):\n",
    "    if n == 0:\n",
    "        return 1\n",
    "    else:\n",
    "        return n * factorial(n-1)"
   ]
  },
  {
   "cell_type": "code",
   "execution_count": 3,
   "id": "ba0bc9d1-5466-4aaf-8966-95fb0e7102e9",
   "metadata": {},
   "outputs": [],
   "source": [
    "result = factorial(5)"
   ]
  },
  {
   "cell_type": "code",
   "execution_count": 4,
   "id": "d59fa3d5-db8e-4296-a8d3-d6f318ab6cec",
   "metadata": {},
   "outputs": [
    {
     "name": "stdout",
     "output_type": "stream",
     "text": [
      "120\n"
     ]
    }
   ],
   "source": [
    "print(result)"
   ]
  },
  {
   "cell_type": "markdown",
   "id": "a51a0dd0-7df6-439d-9f54-b62f503f24cf",
   "metadata": {},
   "source": [
    "## References"
   ]
  },
  {
   "cell_type": "markdown",
   "id": "8f90b38c-dc99-4d26-83bc-1bc853ce050d",
   "metadata": {},
   "source": [
    "> 1. https://www.w3schools.com/python/python_functions.asp\n",
    "> 2. https://www.geeksforgeeks.org/python-functions/\n",
    "> 3. https://www.tutorialspoint.com/python/python_functions.htm\n",
    "> 4. https://www.freecodecamp.org/news/python-functions-define-and-call-a-function/\n",
    "> 5. https://docs.python.org/3/library/functions.html"
   ]
  }
 ],
 "metadata": {
  "kernelspec": {
   "display_name": "Python 3 (ipykernel)",
   "language": "python",
   "name": "python3"
  },
  "language_info": {
   "codemirror_mode": {
    "name": "ipython",
    "version": 3
   },
   "file_extension": ".py",
   "mimetype": "text/x-python",
   "name": "python",
   "nbconvert_exporter": "python",
   "pygments_lexer": "ipython3",
   "version": "3.10.9"
  }
 },
 "nbformat": 4,
 "nbformat_minor": 5
}
