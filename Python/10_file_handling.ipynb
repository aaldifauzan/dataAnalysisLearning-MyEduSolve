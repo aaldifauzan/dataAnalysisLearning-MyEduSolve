{
 "cells": [
  {
   "cell_type": "markdown",
   "id": "71f8cc6e-553d-43f0-9ae8-a4b79e1cf84b",
   "metadata": {},
   "source": [
    "## Python File Handling"
   ]
  },
  {
   "cell_type": "markdown",
   "id": "f33ac2ae-755d-4534-a854-4117484c748e",
   "metadata": {},
   "source": [
    "> File handling is a crucial part of any web application. Python allows you to handle files, i.e., to read and write files, along with many other file handling options, to operate on files.\n",
    ">\n",
    "> The concept of file handling has stretched over various other languages, but the implementation is either complicated or lengthy, but alike other concepts of Python, this concept here is also easy and short.\n",
    ">\n",
    "> Python uses file objects to interact with external files on your computer. These file objects can be any sort of file you have on your computer, whether it be an audio file, a text file, emails, Excel documents, etc."
   ]
  },
  {
   "cell_type": "markdown",
   "id": "816b38fb-695e-4e8d-968b-46ae4f9bb9e1",
   "metadata": {},
   "source": [
    "> ### Opening Files\n",
    ">\n",
    "> In Python, you can open a file using the `open()` function. The `open()` function takes two parameters: the name of the file you want to open and the mode in which you want to open and the mode in which you want to open the file. The different modes you can use to open a file in Python are:\n",
    "> - `'r'` Read - Default value. Opens a file for reading, error if the file does not exist.\n",
    "> - `'a'` Append - Opens a file for appending, creates the file if it does not exist.\n",
    "> - `'w'` Write - Opens a file for writing, creates the file if it does not exist.\n",
    "> - `'x'` Create - Creates the specified file, error if the file exists.\n",
    ">\n",
    "> In addition to these basic modes, you can also specify if the file should be handled as binary or text mode:\n",
    "> - `'t'` Text - Default value. Text Mode.\n",
    "> - `'b'` Binary - Binary mode (e.g., images)."
   ]
  },
  {
   "cell_type": "code",
   "execution_count": 8,
   "id": "d3afc30f-36f1-426f-9e6b-920519952ed8",
   "metadata": {},
   "outputs": [],
   "source": [
    "# Open a file for reading\n",
    "file = open(\"data/example.txt\", 'r')"
   ]
  },
  {
   "cell_type": "code",
   "execution_count": 9,
   "id": "0f8639f5-a1d0-45a9-b1e9-25060b361e28",
   "metadata": {},
   "outputs": [
    {
     "name": "stdout",
     "output_type": "stream",
     "text": [
      "<_io.TextIOWrapper name='data/example.txt' mode='r' encoding='cp1252'>\n"
     ]
    }
   ],
   "source": [
    "print(file)"
   ]
  },
  {
   "cell_type": "markdown",
   "id": "7e42480e-002d-4fab-a026-4f5996b8b371",
   "metadata": {},
   "source": [
    "> ### Reading Files\n",
    "> After opening a file in reading mode (`'r'`), you can read the file's contents using the `read()` method.\n",
    ">\n",
    "> Additionally, you can use the `readline()` methode to read a file the line by line, and the `readlines()` method to read all lines in the file and return them as a list for strings."
   ]
  },
  {
   "cell_type": "code",
   "execution_count": 10,
   "id": "0f1e63ee-a80e-4409-a07e-c89e6c0b861a",
   "metadata": {},
   "outputs": [],
   "source": [
    "file = open(\"data/example.txt\", 'r')\n",
    "file_content = file.read()"
   ]
  },
  {
   "cell_type": "code",
   "execution_count": 11,
   "id": "584efeb6-979e-44ad-aee1-b0c515c5c27d",
   "metadata": {},
   "outputs": [
    {
     "name": "stdout",
     "output_type": "stream",
     "text": [
      "The Zen of Python, by Tim Peters\n",
      "\n",
      "Beautiful is better than ugly.\n",
      "Explicit is better than implicit.\n",
      "Simple is better than complex.\n",
      "Complex is better than complicated.\n",
      "Flat is better than nested.\n",
      "Sparse is better than dense.\n",
      "Readability counts.\n",
      "Special cases aren't special enough to break the rules.\n",
      "Although practicality beats purity.\n",
      "Errors should never pass silently.\n",
      "Unless explicitly silenced.\n",
      "In the face of ambiguity, refuse the temptation to guess.\n",
      "There should be one-- and preferably only one --obvious way to do it.\n",
      "Although that way may not be obvious at first unless you're Dutch.\n",
      "Now is better than never.\n",
      "Although never is often better than *right* now.\n",
      "If the implementation is hard to explain, it's a bad idea.\n",
      "If the implementation is easy to explain, it may be a good idea.\n",
      "Namespaces are one honking great idea -- let's do more of those!\n"
     ]
    }
   ],
   "source": [
    "print(file_content)"
   ]
  },
  {
   "cell_type": "code",
   "execution_count": 12,
   "id": "3794f54e-c9d9-4544-8878-018d01f37c31",
   "metadata": {},
   "outputs": [],
   "source": [
    "file = open(\"data/example.txt\", 'r')\n",
    "file_line = file.readline()"
   ]
  },
  {
   "cell_type": "code",
   "execution_count": 13,
   "id": "8b5531f5-a8d6-4059-9390-cfc0fe8eb73d",
   "metadata": {},
   "outputs": [
    {
     "name": "stdout",
     "output_type": "stream",
     "text": [
      "The Zen of Python, by Tim Peters\n",
      "\n"
     ]
    }
   ],
   "source": [
    "print(file_line)"
   ]
  },
  {
   "cell_type": "code",
   "execution_count": 14,
   "id": "ac16f93a-a983-4e93-873b-02201bc8604b",
   "metadata": {},
   "outputs": [],
   "source": [
    "file = open(\"data/example.txt\", 'r')\n",
    "file_lines = file.readlines()"
   ]
  },
  {
   "cell_type": "code",
   "execution_count": 15,
   "id": "ac79b057-5840-4ef7-bf1a-02e38bf2310c",
   "metadata": {},
   "outputs": [
    {
     "name": "stdout",
     "output_type": "stream",
     "text": [
      "['The Zen of Python, by Tim Peters\\n', '\\n', 'Beautiful is better than ugly.\\n', 'Explicit is better than implicit.\\n', 'Simple is better than complex.\\n', 'Complex is better than complicated.\\n', 'Flat is better than nested.\\n', 'Sparse is better than dense.\\n', 'Readability counts.\\n', \"Special cases aren't special enough to break the rules.\\n\", 'Although practicality beats purity.\\n', 'Errors should never pass silently.\\n', 'Unless explicitly silenced.\\n', 'In the face of ambiguity, refuse the temptation to guess.\\n', 'There should be one-- and preferably only one --obvious way to do it.\\n', \"Although that way may not be obvious at first unless you're Dutch.\\n\", 'Now is better than never.\\n', 'Although never is often better than *right* now.\\n', \"If the implementation is hard to explain, it's a bad idea.\\n\", 'If the implementation is easy to explain, it may be a good idea.\\n', \"Namespaces are one honking great idea -- let's do more of those!\"]\n"
     ]
    }
   ],
   "source": [
    "print(file_lines)"
   ]
  },
  {
   "cell_type": "code",
   "execution_count": 16,
   "id": "2f4302f3-642a-4aee-be75-67ca634f16fb",
   "metadata": {},
   "outputs": [],
   "source": [
    "file.close()"
   ]
  },
  {
   "cell_type": "markdown",
   "id": "8ba02f8f-8649-4d99-99c0-b2e90ad8bb28",
   "metadata": {},
   "source": [
    "> ### Use of `With...Open` Syntax\n",
    ">\n",
    "> Python provides a `with...open` syntax that automatically closes the file once the nested block of code is executed, eliminating the need to explicitly close the file."
   ]
  },
  {
   "cell_type": "code",
   "execution_count": 19,
   "id": "1df4dd69-ae8a-4184-b480-a229c6583724",
   "metadata": {},
   "outputs": [],
   "source": [
    "with open('data/example.txt', 'r') as file:\n",
    "    content = file.read()"
   ]
  },
  {
   "cell_type": "code",
   "execution_count": 20,
   "id": "f5f364a0-81b6-4164-a795-969a2fe4eb42",
   "metadata": {},
   "outputs": [
    {
     "name": "stdout",
     "output_type": "stream",
     "text": [
      "The Zen of Python, by Tim Peters\n",
      "\n",
      "Beautiful is better than ugly.\n",
      "Explicit is better than implicit.\n",
      "Simple is better than complex.\n",
      "Complex is better than complicated.\n",
      "Flat is better than nested.\n",
      "Sparse is better than dense.\n",
      "Readability counts.\n",
      "Special cases aren't special enough to break the rules.\n",
      "Although practicality beats purity.\n",
      "Errors should never pass silently.\n",
      "Unless explicitly silenced.\n",
      "In the face of ambiguity, refuse the temptation to guess.\n",
      "There should be one-- and preferably only one --obvious way to do it.\n",
      "Although that way may not be obvious at first unless you're Dutch.\n",
      "Now is better than never.\n",
      "Although never is often better than *right* now.\n",
      "If the implementation is hard to explain, it's a bad idea.\n",
      "If the implementation is easy to explain, it may be a good idea.\n",
      "Namespaces are one honking great idea -- let's do more of those!\n"
     ]
    }
   ],
   "source": [
    "print(content)"
   ]
  },
  {
   "cell_type": "markdown",
   "id": "fc64abd3-f1a1-4629-aa2c-a6cc42a1c3ec",
   "metadata": {},
   "source": [
    "> ### Writing Files\n",
    ">\n",
    "> You can write to files in Python by opening a file in write (`'w'`) or append (`'a'`) mode.\n",
    ">\n",
    "> The `write()` method is used to write data to a file"
   ]
  },
  {
   "cell_type": "code",
   "execution_count": 29,
   "id": "85185ab2-a3b5-46d8-8ba5-caf095e028f5",
   "metadata": {},
   "outputs": [],
   "source": [
    "with open('data/output.txt', 'w') as file:\n",
    "    file.write('Hello World!')"
   ]
  },
  {
   "cell_type": "code",
   "execution_count": 31,
   "id": "e467f350-170a-4a98-8064-a4d5bfb31a5c",
   "metadata": {},
   "outputs": [],
   "source": [
    "with open('data/output.txt', 'a') as file:\n",
    "    file.write('Hello World! 2')"
   ]
  },
  {
   "cell_type": "markdown",
   "id": "654a01bd-1a7e-49cb-baa4-f6c9064f8ea9",
   "metadata": {},
   "source": [
    "> ### Methods\n",
    ">\n",
    "> Python provides several file methos that allow you to perform various operations on files.\n",
    ">\n",
    "> Below are some commonly used file methods:\n",
    "> - `file.read(size)`: Reads and returns the content of the file up to the specified size.\n",
    "> - `file.readline()`: Reads and returns one line from the file.\n",
    "> - `file.readlines()`: Reads and returns all the line in the file as a list of strings.\n",
    "> - `file.write(string)`: Writes the specified string to the file.\n",
    "> - `file.writelines(seq)`: Writes a list of strings to the file.\n",
    "> - `file.close()`: Close the file.\n",
    "> - `file.seek(offset)`: Moves the file cursor to the specified offset.\n",
    "> - `file.tell()`: Returns the current position of the file cursor."
   ]
  },
  {
   "cell_type": "code",
   "execution_count": 32,
   "id": "434315a9-4b40-46fa-aa20-09b6ff8d1a8f",
   "metadata": {},
   "outputs": [],
   "source": [
    "# Common file reading\n",
    "with open('data/example.txt', 'r') as file:\n",
    "    content = file.readlines()"
   ]
  },
  {
   "cell_type": "code",
   "execution_count": 33,
   "id": "5949006d-e520-47f7-9e37-ba9c0392441a",
   "metadata": {},
   "outputs": [
    {
     "name": "stdout",
     "output_type": "stream",
     "text": [
      "['The Zen of Python, by Tim Peters\\n', '\\n', 'Beautiful is better than ugly.\\n', 'Explicit is better than implicit.\\n', 'Simple is better than complex.\\n', 'Complex is better than complicated.\\n', 'Flat is better than nested.\\n', 'Sparse is better than dense.\\n', 'Readability counts.\\n', \"Special cases aren't special enough to break the rules.\\n\", 'Although practicality beats purity.\\n', 'Errors should never pass silently.\\n', 'Unless explicitly silenced.\\n', 'In the face of ambiguity, refuse the temptation to guess.\\n', 'There should be one-- and preferably only one --obvious way to do it.\\n', \"Although that way may not be obvious at first unless you're Dutch.\\n\", 'Now is better than never.\\n', 'Although never is often better than *right* now.\\n', \"If the implementation is hard to explain, it's a bad idea.\\n\", 'If the implementation is easy to explain, it may be a good idea.\\n', \"Namespaces are one honking great idea -- let's do more of those!\"]\n"
     ]
    }
   ],
   "source": [
    "print(content)"
   ]
  },
  {
   "cell_type": "code",
   "execution_count": 34,
   "id": "df3f6e84-3bb0-47fa-a371-a6f9e0c19379",
   "metadata": {},
   "outputs": [],
   "source": [
    "# Common read and write mode\n",
    "with open('data/example.txt', 'r') as read_file, open('data/output2.txt', 'w') as write_file:\n",
    "    content = read_file.read() # read content\n",
    "    write_file.write(content) # write content"
   ]
  },
  {
   "cell_type": "code",
   "execution_count": 42,
   "id": "fe1f1b8f-49d3-4dad-b3e6-5f2ab8fd4e9f",
   "metadata": {},
   "outputs": [],
   "source": [
    "# Common file and write mode using list\n",
    "with open('data/example.txt', 'r') as read_file, open('data/output3.txt', 'w') as write_file:\n",
    "    content = read_file.readlines() # read in list format\n",
    "    for i in content:\n",
    "        write_file.write(i) # write using for loop"
   ]
  },
  {
   "cell_type": "markdown",
   "id": "445b2cc2-bc5f-4001-9ebc-a517318ac4d4",
   "metadata": {},
   "source": [
    "## References"
   ]
  },
  {
   "cell_type": "markdown",
   "id": "6f120cbe-b6bf-4aaa-a7a0-8db8cfe738c7",
   "metadata": {},
   "source": [
    "> 1. https://www.w3schools.com/python/python_file_handling.asp\n",
    "> 2. https://www.geeksforgeeks.org/how-to-read-from-a-file-in-python/\n",
    "> 3. https://pynative.com/python-write-list-to-file/"
   ]
  }
 ],
 "metadata": {
  "kernelspec": {
   "display_name": "Python 3 (ipykernel)",
   "language": "python",
   "name": "python3"
  },
  "language_info": {
   "codemirror_mode": {
    "name": "ipython",
    "version": 3
   },
   "file_extension": ".py",
   "mimetype": "text/x-python",
   "name": "python",
   "nbconvert_exporter": "python",
   "pygments_lexer": "ipython3",
   "version": "3.10.9"
  }
 },
 "nbformat": 4,
 "nbformat_minor": 5
}
