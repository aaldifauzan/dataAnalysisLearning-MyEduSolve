{
 "cells": [
  {
   "cell_type": "markdown",
   "id": "f6cd72c5-2386-4694-8297-ad2a8ba62cf0",
   "metadata": {},
   "source": [
    "### Import Libraries"
   ]
  },
  {
   "cell_type": "code",
   "execution_count": 7,
   "id": "8fd6c312-c16b-4003-977b-5bf6505cfc00",
   "metadata": {},
   "outputs": [],
   "source": [
    "# Import Libraries\n",
    "\n",
    "# Data wrangling\n",
    "import numpy as np\n",
    "import pandas as pd\n",
    "\n",
    "# Data visualization\n",
    "import matplotlib.pyplot as plt\n",
    "import seaborn as sns\n",
    "\n",
    "# Import warning\n",
    "import warnings\n",
    "warnings.filterwarnings(\"ignore\")"
   ]
  },
  {
   "cell_type": "code",
   "execution_count": 8,
   "id": "dc415f11-062d-4529-857a-7d13c1dc4687",
   "metadata": {},
   "outputs": [],
   "source": [
    "### Overview"
   ]
  },
  {
   "cell_type": "code",
   "execution_count": 9,
   "id": "c9204c36-6706-44d5-abfe-00d4462b79dc",
   "metadata": {},
   "outputs": [],
   "source": [
    "df = pd.read_csv(\"data/rfm_data.csv\")"
   ]
  },
  {
   "cell_type": "code",
   "execution_count": 10,
   "id": "1a7cc071-e482-430f-8fab-8a21a8e31c74",
   "metadata": {},
   "outputs": [
    {
     "name": "stdout",
     "output_type": "stream",
     "text": [
      "<class 'pandas.core.frame.DataFrame'>\n",
      "RangeIndex: 1000 entries, 0 to 999\n",
      "Data columns (total 6 columns):\n",
      " #   Column              Non-Null Count  Dtype  \n",
      "---  ------              --------------  -----  \n",
      " 0   CustomerID          1000 non-null   int64  \n",
      " 1   PurchaseDate        1000 non-null   object \n",
      " 2   TransactionAmount   1000 non-null   float64\n",
      " 3   ProductInformation  1000 non-null   object \n",
      " 4   OrderID             1000 non-null   int64  \n",
      " 5   Location            1000 non-null   object \n",
      "dtypes: float64(1), int64(2), object(3)\n",
      "memory usage: 47.0+ KB\n"
     ]
    }
   ],
   "source": [
    "df.info()"
   ]
  },
  {
   "cell_type": "markdown",
   "id": "506366c5-8ec4-48e1-a2dd-3b2b4fa3f41f",
   "metadata": {},
   "source": [
    "### Preprocessing"
   ]
  },
  {
   "cell_type": "markdown",
   "id": "7e20ddd0-d1c6-4d9f-aeab-53ce63f2c998",
   "metadata": {},
   "source": [
    "**Get RFM Values**"
   ]
  },
  {
   "cell_type": "code",
   "execution_count": 18,
   "id": "1d462c33-223f-47cb-a032-5d91d7278a3a",
   "metadata": {},
   "outputs": [],
   "source": [
    "# Check last date\n",
    "max_date = pd.to_datetime(df[\"PurchaseDate\"].max())"
   ]
  },
  {
   "cell_type": "code",
   "execution_count": 19,
   "id": "f82a3a64-5ab3-4c6a-bd97-8eff266aa2ac",
   "metadata": {},
   "outputs": [],
   "source": [
    "# Insert to dataframe\n",
    "df[\"LastPurchase\"] = max_date"
   ]
  },
  {
   "cell_type": "code",
   "execution_count": 20,
   "id": "5ad64355-69a6-4ef2-93a5-91cdbf572933",
   "metadata": {},
   "outputs": [],
   "source": [
    "# Change to datetime\n",
    "df[\"PurchaseDate\"] = pd.to_datetime(df[\"PurchaseDate\"])"
   ]
  },
  {
   "cell_type": "code",
   "execution_count": 22,
   "id": "672c3fb9-5071-4b24-8d5f-185dc8c484c9",
   "metadata": {},
   "outputs": [],
   "source": [
    "# Get Recency\n",
    "df[\"Recency\"] = df[\"LastPurchase\"] - df[\"PurchaseDate\"]\n",
    "df[\"Recency\"] = df[\"Recency\"].dt.days"
   ]
  },
  {
   "cell_type": "code",
   "execution_count": 25,
   "id": "3e93d21a-168b-4b93-a0f1-bfa54989be83",
   "metadata": {},
   "outputs": [
    {
     "data": {
      "text/html": [
       "<div>\n",
       "<style scoped>\n",
       "    .dataframe tbody tr th:only-of-type {\n",
       "        vertical-align: middle;\n",
       "    }\n",
       "\n",
       "    .dataframe tbody tr th {\n",
       "        vertical-align: top;\n",
       "    }\n",
       "\n",
       "    .dataframe thead th {\n",
       "        text-align: right;\n",
       "    }\n",
       "</style>\n",
       "<table border=\"1\" class=\"dataframe\">\n",
       "  <thead>\n",
       "    <tr style=\"text-align: right;\">\n",
       "      <th></th>\n",
       "      <th>CustomerID</th>\n",
       "      <th>PurchaseDate</th>\n",
       "      <th>TransactionAmount</th>\n",
       "      <th>ProductInformation</th>\n",
       "      <th>OrderID</th>\n",
       "      <th>Location</th>\n",
       "      <th>LastPurchase</th>\n",
       "      <th>Recency</th>\n",
       "    </tr>\n",
       "  </thead>\n",
       "  <tbody>\n",
       "    <tr>\n",
       "      <th>0</th>\n",
       "      <td>8814</td>\n",
       "      <td>2023-04-11</td>\n",
       "      <td>943.31</td>\n",
       "      <td>Product C</td>\n",
       "      <td>890075</td>\n",
       "      <td>Tokyo</td>\n",
       "      <td>2023-06-10</td>\n",
       "      <td>60</td>\n",
       "    </tr>\n",
       "    <tr>\n",
       "      <th>1</th>\n",
       "      <td>2188</td>\n",
       "      <td>2023-04-11</td>\n",
       "      <td>463.70</td>\n",
       "      <td>Product A</td>\n",
       "      <td>176819</td>\n",
       "      <td>London</td>\n",
       "      <td>2023-06-10</td>\n",
       "      <td>60</td>\n",
       "    </tr>\n",
       "    <tr>\n",
       "      <th>2</th>\n",
       "      <td>4608</td>\n",
       "      <td>2023-04-11</td>\n",
       "      <td>80.28</td>\n",
       "      <td>Product A</td>\n",
       "      <td>340062</td>\n",
       "      <td>New York</td>\n",
       "      <td>2023-06-10</td>\n",
       "      <td>60</td>\n",
       "    </tr>\n",
       "    <tr>\n",
       "      <th>3</th>\n",
       "      <td>2559</td>\n",
       "      <td>2023-04-11</td>\n",
       "      <td>221.29</td>\n",
       "      <td>Product A</td>\n",
       "      <td>239145</td>\n",
       "      <td>London</td>\n",
       "      <td>2023-06-10</td>\n",
       "      <td>60</td>\n",
       "    </tr>\n",
       "    <tr>\n",
       "      <th>4</th>\n",
       "      <td>9482</td>\n",
       "      <td>2023-04-11</td>\n",
       "      <td>739.56</td>\n",
       "      <td>Product A</td>\n",
       "      <td>194545</td>\n",
       "      <td>Paris</td>\n",
       "      <td>2023-06-10</td>\n",
       "      <td>60</td>\n",
       "    </tr>\n",
       "  </tbody>\n",
       "</table>\n",
       "</div>"
      ],
      "text/plain": [
       "   CustomerID PurchaseDate  TransactionAmount ProductInformation  OrderID  \\\n",
       "0        8814   2023-04-11             943.31          Product C   890075   \n",
       "1        2188   2023-04-11             463.70          Product A   176819   \n",
       "2        4608   2023-04-11              80.28          Product A   340062   \n",
       "3        2559   2023-04-11             221.29          Product A   239145   \n",
       "4        9482   2023-04-11             739.56          Product A   194545   \n",
       "\n",
       "   Location LastPurchase  Recency  \n",
       "0     Tokyo   2023-06-10       60  \n",
       "1    London   2023-06-10       60  \n",
       "2  New York   2023-06-10       60  \n",
       "3    London   2023-06-10       60  \n",
       "4     Paris   2023-06-10       60  "
      ]
     },
     "execution_count": 25,
     "metadata": {},
     "output_type": "execute_result"
    }
   ],
   "source": [
    "df.head()"
   ]
  },
  {
   "cell_type": "code",
   "execution_count": 24,
   "id": "67ea713e-ac3f-4528-9d12-34074b381818",
   "metadata": {},
   "outputs": [],
   "source": [
    "# Get Frequency\n",
    "freq = df.groupby(\"CustomerID\", as_index=False)[\"OrderID\"].count()\n",
    "freq = freq.rename(columns={\"OrderID\":\"Frequency\"})"
   ]
  },
  {
   "cell_type": "code",
   "execution_count": 26,
   "id": "a83b9d09-541c-4c8e-b56a-010e61da0c87",
   "metadata": {},
   "outputs": [],
   "source": [
    "# Merge Frequency vals to original df\n",
    "df_new = pd.merge(df, freq, on=\"CustomerID\")"
   ]
  },
  {
   "cell_type": "code",
   "execution_count": 32,
   "id": "5aa892d9-e07d-4d53-8aa2-3d51a2d55ead",
   "metadata": {},
   "outputs": [],
   "source": [
    "mone = df.groupby(\"CustomerID\", as_index=False)[\"TransactionAmount\"].sum()\n",
    "mone = mone.rename(columns={\"TransactionAmount\":\"Monetary\"})"
   ]
  },
  {
   "cell_type": "code",
   "execution_count": 33,
   "id": "a245664b-40e0-4485-b39a-eab003ac7357",
   "metadata": {},
   "outputs": [],
   "source": [
    "# Merge Monetary vals to original df\n",
    "df_rfm = pd.merge(df_new, mone, on=\"CustomerID\")"
   ]
  },
  {
   "cell_type": "code",
   "execution_count": 34,
   "id": "58b9f705-a1c6-42cd-bf69-1aa823efb15a",
   "metadata": {},
   "outputs": [
    {
     "data": {
      "text/html": [
       "<div>\n",
       "<style scoped>\n",
       "    .dataframe tbody tr th:only-of-type {\n",
       "        vertical-align: middle;\n",
       "    }\n",
       "\n",
       "    .dataframe tbody tr th {\n",
       "        vertical-align: top;\n",
       "    }\n",
       "\n",
       "    .dataframe thead th {\n",
       "        text-align: right;\n",
       "    }\n",
       "</style>\n",
       "<table border=\"1\" class=\"dataframe\">\n",
       "  <thead>\n",
       "    <tr style=\"text-align: right;\">\n",
       "      <th></th>\n",
       "      <th>CustomerID</th>\n",
       "      <th>PurchaseDate</th>\n",
       "      <th>TransactionAmount</th>\n",
       "      <th>ProductInformation</th>\n",
       "      <th>OrderID</th>\n",
       "      <th>Location</th>\n",
       "      <th>LastPurchase</th>\n",
       "      <th>Recency</th>\n",
       "      <th>Frequency</th>\n",
       "      <th>Monetary</th>\n",
       "    </tr>\n",
       "  </thead>\n",
       "  <tbody>\n",
       "    <tr>\n",
       "      <th>0</th>\n",
       "      <td>8814</td>\n",
       "      <td>2023-04-11</td>\n",
       "      <td>943.31</td>\n",
       "      <td>Product C</td>\n",
       "      <td>890075</td>\n",
       "      <td>Tokyo</td>\n",
       "      <td>2023-06-10</td>\n",
       "      <td>60</td>\n",
       "      <td>1</td>\n",
       "      <td>943.31</td>\n",
       "    </tr>\n",
       "    <tr>\n",
       "      <th>1</th>\n",
       "      <td>2188</td>\n",
       "      <td>2023-04-11</td>\n",
       "      <td>463.70</td>\n",
       "      <td>Product A</td>\n",
       "      <td>176819</td>\n",
       "      <td>London</td>\n",
       "      <td>2023-06-10</td>\n",
       "      <td>60</td>\n",
       "      <td>1</td>\n",
       "      <td>463.70</td>\n",
       "    </tr>\n",
       "    <tr>\n",
       "      <th>2</th>\n",
       "      <td>4608</td>\n",
       "      <td>2023-04-11</td>\n",
       "      <td>80.28</td>\n",
       "      <td>Product A</td>\n",
       "      <td>340062</td>\n",
       "      <td>New York</td>\n",
       "      <td>2023-06-10</td>\n",
       "      <td>60</td>\n",
       "      <td>1</td>\n",
       "      <td>80.28</td>\n",
       "    </tr>\n",
       "    <tr>\n",
       "      <th>3</th>\n",
       "      <td>2559</td>\n",
       "      <td>2023-04-11</td>\n",
       "      <td>221.29</td>\n",
       "      <td>Product A</td>\n",
       "      <td>239145</td>\n",
       "      <td>London</td>\n",
       "      <td>2023-06-10</td>\n",
       "      <td>60</td>\n",
       "      <td>1</td>\n",
       "      <td>221.29</td>\n",
       "    </tr>\n",
       "    <tr>\n",
       "      <th>4</th>\n",
       "      <td>9482</td>\n",
       "      <td>2023-04-11</td>\n",
       "      <td>739.56</td>\n",
       "      <td>Product A</td>\n",
       "      <td>194545</td>\n",
       "      <td>Paris</td>\n",
       "      <td>2023-06-10</td>\n",
       "      <td>60</td>\n",
       "      <td>1</td>\n",
       "      <td>739.56</td>\n",
       "    </tr>\n",
       "  </tbody>\n",
       "</table>\n",
       "</div>"
      ],
      "text/plain": [
       "   CustomerID PurchaseDate  TransactionAmount ProductInformation  OrderID  \\\n",
       "0        8814   2023-04-11             943.31          Product C   890075   \n",
       "1        2188   2023-04-11             463.70          Product A   176819   \n",
       "2        4608   2023-04-11              80.28          Product A   340062   \n",
       "3        2559   2023-04-11             221.29          Product A   239145   \n",
       "4        9482   2023-04-11             739.56          Product A   194545   \n",
       "\n",
       "   Location LastPurchase  Recency  Frequency  Monetary  \n",
       "0     Tokyo   2023-06-10       60          1    943.31  \n",
       "1    London   2023-06-10       60          1    463.70  \n",
       "2  New York   2023-06-10       60          1     80.28  \n",
       "3    London   2023-06-10       60          1    221.29  \n",
       "4     Paris   2023-06-10       60          1    739.56  "
      ]
     },
     "execution_count": 34,
     "metadata": {},
     "output_type": "execute_result"
    }
   ],
   "source": [
    "df_rfm.head()"
   ]
  },
  {
   "cell_type": "markdown",
   "id": "d9c03cd6-b11a-4ed8-a39b-85069b798ed8",
   "metadata": {},
   "source": [
    "### Get RFM Score"
   ]
  },
  {
   "cell_type": "code",
   "execution_count": 37,
   "id": "81b164a0-e18d-447f-8d20-699d28883aa6",
   "metadata": {},
   "outputs": [
    {
     "data": {
      "text/html": [
       "<div>\n",
       "<style scoped>\n",
       "    .dataframe tbody tr th:only-of-type {\n",
       "        vertical-align: middle;\n",
       "    }\n",
       "\n",
       "    .dataframe tbody tr th {\n",
       "        vertical-align: top;\n",
       "    }\n",
       "\n",
       "    .dataframe thead th {\n",
       "        text-align: right;\n",
       "    }\n",
       "</style>\n",
       "<table border=\"1\" class=\"dataframe\">\n",
       "  <thead>\n",
       "    <tr style=\"text-align: right;\">\n",
       "      <th></th>\n",
       "      <th>Recency</th>\n",
       "      <th>Frequency</th>\n",
       "      <th>Monetary</th>\n",
       "    </tr>\n",
       "  </thead>\n",
       "  <tbody>\n",
       "    <tr>\n",
       "      <th>0.25</th>\n",
       "      <td>15.0</td>\n",
       "      <td>1.0</td>\n",
       "      <td>283.9250</td>\n",
       "    </tr>\n",
       "    <tr>\n",
       "      <th>0.50</th>\n",
       "      <td>32.0</td>\n",
       "      <td>1.0</td>\n",
       "      <td>566.7100</td>\n",
       "    </tr>\n",
       "    <tr>\n",
       "      <th>0.75</th>\n",
       "      <td>45.0</td>\n",
       "      <td>1.0</td>\n",
       "      <td>805.3725</td>\n",
       "    </tr>\n",
       "  </tbody>\n",
       "</table>\n",
       "</div>"
      ],
      "text/plain": [
       "      Recency  Frequency  Monetary\n",
       "0.25     15.0        1.0  283.9250\n",
       "0.50     32.0        1.0  566.7100\n",
       "0.75     45.0        1.0  805.3725"
      ]
     },
     "execution_count": 37,
     "metadata": {},
     "output_type": "execute_result"
    }
   ],
   "source": [
    "df_rfm[[\"Recency\", \"Frequency\", \"Monetary\"]].quantile([0.25, 0.5, 0.75])"
   ]
  },
  {
   "cell_type": "code",
   "execution_count": 38,
   "id": "45b75b75-7ebd-41cb-860e-5969def5976e",
   "metadata": {},
   "outputs": [],
   "source": [
    "df_rfm.to_csv(\"df_rfm_cleaned.csv\")"
   ]
  },
  {
   "cell_type": "markdown",
   "id": "7b9439e7-fa46-424c-91e8-eb15aacfc21f",
   "metadata": {},
   "source": [
    "![](https://blog.rsquaredacademy.com/img/rfm_segments_table.png)"
   ]
  },
  {
   "cell_type": "code",
   "execution_count": null,
   "id": "9a8879c4-d428-473a-ad51-b7fe8c884342",
   "metadata": {},
   "outputs": [],
   "source": []
  }
 ],
 "metadata": {
  "kernelspec": {
   "display_name": "Python 3 (ipykernel)",
   "language": "python",
   "name": "python3"
  },
  "language_info": {
   "codemirror_mode": {
    "name": "ipython",
    "version": 3
   },
   "file_extension": ".py",
   "mimetype": "text/x-python",
   "name": "python",
   "nbconvert_exporter": "python",
   "pygments_lexer": "ipython3",
   "version": "3.10.9"
  }
 },
 "nbformat": 4,
 "nbformat_minor": 5
}
