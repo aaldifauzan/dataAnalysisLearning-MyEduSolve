{
 "cells": [
  {
   "cell_type": "markdown",
   "id": "dfcd3e6c-7b49-46c8-b94a-bbb40ca61297",
   "metadata": {},
   "source": [
    "## PYTHON VARIABLE AND DATA TYPE"
   ]
  },
  {
   "cell_type": "markdown",
   "id": "11c14673-9e53-4417-80c7-40c6c1e79be6",
   "metadata": {},
   "source": [
    ">## Variable\n",
    ">Variables are containers for storing data values.\n",
    ">\n",
    ">Python has no command for declaring a variable. A variable is created the moment you first assign a value to it."
   ]
  },
  {
   "cell_type": "code",
   "execution_count": 1,
   "id": "b112ad38-017c-417c-aa62-02c93473adad",
   "metadata": {},
   "outputs": [],
   "source": [
    "# example of variable\n",
    "x = 10\n",
    "y = 10+1\n",
    "z = \"Hello\""
   ]
  },
  {
   "cell_type": "code",
   "execution_count": 2,
   "id": "12351b1d-f33a-4ed8-bf00-a56e3406a9cd",
   "metadata": {},
   "outputs": [
    {
     "name": "stdout",
     "output_type": "stream",
     "text": [
      "x\n"
     ]
    }
   ],
   "source": [
    "# calling variable\n",
    "print(\"x\")"
   ]
  },
  {
   "cell_type": "code",
   "execution_count": 3,
   "id": "442158c6-5031-4218-b1f5-62653147f4cd",
   "metadata": {},
   "outputs": [
    {
     "data": {
      "text/plain": [
       "(10, 11, 'Hello')"
      ]
     },
     "execution_count": 3,
     "metadata": {},
     "output_type": "execute_result"
    }
   ],
   "source": [
    "# calling variable horizontally\n",
    "x, y, z"
   ]
  },
  {
   "cell_type": "code",
   "execution_count": 4,
   "id": "852a1e54-ad93-43ec-9eae-2488fccd8e55",
   "metadata": {},
   "outputs": [
    {
     "name": "stdout",
     "output_type": "stream",
     "text": [
      "10 11 Hello\n"
     ]
    }
   ],
   "source": [
    "# calling variable horizontally with print\n",
    "print(x,y,z)"
   ]
  },
  {
   "cell_type": "code",
   "execution_count": 5,
   "id": "fea661bd-8e60-4002-9df5-687dea54230f",
   "metadata": {},
   "outputs": [],
   "source": [
    "# variable can be replaced easily\n",
    "x = \"this is x\""
   ]
  },
  {
   "cell_type": "code",
   "execution_count": 6,
   "id": "6d80fea1-3fde-4125-a3e1-56336eadfa61",
   "metadata": {},
   "outputs": [
    {
     "name": "stdout",
     "output_type": "stream",
     "text": [
      "this is x\n"
     ]
    }
   ],
   "source": [
    "# calling the replaced easily\n",
    "print(x)"
   ]
  },
  {
   "cell_type": "code",
   "execution_count": 7,
   "id": "c62852e7-0d80-446a-8fb3-f3afbe5dff3f",
   "metadata": {},
   "outputs": [
    {
     "name": "stdout",
     "output_type": "stream",
     "text": [
      "this is x 11 Hello\n"
     ]
    }
   ],
   "source": [
    "# calling variable horizontally with print, after replace\n",
    "print(x,y,z)"
   ]
  },
  {
   "cell_type": "code",
   "execution_count": 8,
   "id": "c8b5b387-308b-4af2-9a28-82e94f61a067",
   "metadata": {},
   "outputs": [],
   "source": [
    "ini_variable_a = 'ini variable a'"
   ]
  },
  {
   "cell_type": "code",
   "execution_count": 9,
   "id": "34a5f15f-f5fd-415a-a435-0e9a5226ccc4",
   "metadata": {},
   "outputs": [
    {
     "data": {
      "text/plain": [
       "'ini variable a'"
      ]
     },
     "execution_count": 9,
     "metadata": {},
     "output_type": "execute_result"
    }
   ],
   "source": [
    "ini_variable_a"
   ]
  },
  {
   "cell_type": "markdown",
   "id": "352b60c5-828c-4421-9a56-4e7b37aba129",
   "metadata": {},
   "source": [
    "> ### Variable Names\n",
    ">A variable can have a short name (like x and y) or a more descriptive name (age, carname, total_volume). \n",
    ">\n",
    ">Rules for Python variables:\n",
    ">\n",
    ">A variable name must start with a letter or the underscore character\n",
    ">\n",
    ">A variable name cannot start with a number\n",
    ">\n",
    ">A variable name can only contain alpha-numeric characters and underscores (A-z, 0-9, and _ )\n",
    ">\n",
    ">Variable names are case-sensitive (age, Age and AGE are three different variables)\n",
    ">\n",
    ">Avariable name cannot be any of the [Python keywords](https://www.w3schools.com/python/python_ref_keywords.asp).\n",
    ">\n",
    ">We can delete our variable using del()"
   ]
  },
  {
   "cell_type": "code",
   "execution_count": 10,
   "id": "17c3296f-21ba-4c60-adb8-2d0e4183b578",
   "metadata": {},
   "outputs": [],
   "source": [
    "# creating variable with different naming\n",
    "myvar = \"John\"\n",
    "my_var = \"John\"\n",
    "_my_var = \"John\"\n",
    "myVar = \"John\"\n",
    "MYVAR = \"John\"\n",
    "myvar2 = \"John\""
   ]
  },
  {
   "cell_type": "code",
   "execution_count": 11,
   "id": "39afe9ec-158e-4196-ba37-f863cdd5c11d",
   "metadata": {},
   "outputs": [
    {
     "name": "stdout",
     "output_type": "stream",
     "text": [
      "Hello World\n"
     ]
    }
   ],
   "source": [
    "var_a = \"Hello World\"\n",
    "print(var_a)"
   ]
  },
  {
   "cell_type": "code",
   "execution_count": 12,
   "id": "9b3c3dad-dd8b-47ef-a550-88736787e987",
   "metadata": {},
   "outputs": [],
   "source": [
    "del(var_a)"
   ]
  },
  {
   "cell_type": "code",
   "execution_count": 13,
   "id": "83b2582a-f057-4945-a4a9-596adbb7b577",
   "metadata": {},
   "outputs": [
    {
     "ename": "NameError",
     "evalue": "name 'var_a' is not defined",
     "output_type": "error",
     "traceback": [
      "\u001b[1;31m---------------------------------------------------------------------------\u001b[0m",
      "\u001b[1;31mNameError\u001b[0m                                 Traceback (most recent call last)",
      "Cell \u001b[1;32mIn[13], line 2\u001b[0m\n\u001b[0;32m      1\u001b[0m \u001b[38;5;66;03m# printing deleted variable will return an error\u001b[39;00m\n\u001b[1;32m----> 2\u001b[0m \u001b[38;5;28mprint\u001b[39m(\u001b[43mvar_a\u001b[49m)\n",
      "\u001b[1;31mNameError\u001b[0m: name 'var_a' is not defined"
     ]
    }
   ],
   "source": [
    "# printing deleted variable will return an error\n",
    "print(var_a)"
   ]
  },
  {
   "cell_type": "code",
   "execution_count": null,
   "id": "c1d86c59-1137-4814-89ab-099a7c8078f5",
   "metadata": {},
   "outputs": [],
   "source": [
    "# assign one value to multiple variable\n",
    "x, y, z = \"Orange\", 11, 12\n",
    "print(x)\n",
    "print(y)\n",
    "print(z)"
   ]
  },
  {
   "cell_type": "code",
   "execution_count": null,
   "id": "8557bff4-5da0-4e9d-9552-752d564cc2df",
   "metadata": {},
   "outputs": [],
   "source": [
    "# unpacking list\n",
    "fruits = [\"Apple\",\"Banana\",\"Cherry\"]\n",
    "x,y,z = fruits\n",
    "print(x)\n",
    "print(y)\n",
    "print(z)"
   ]
  },
  {
   "cell_type": "markdown",
   "id": "72d887d1-6dfa-4c2d-a5a5-b7879e373a14",
   "metadata": {},
   "source": [
    "> ### Data Type\n",
    ">In programming languages, a data type is an attribute or characteristic that defines the type of data that a variable, expression, or value can hold. It specifies the nature of the data and the operations that can be performed on it.\n",
    ">\n",
    ">![](https://miro.medium.com/v2/resize:fit:1100/format:webp/1*1YG9HuYt7fp-CEPBdNnlSA.png)\n",
    ">Python provides several built-in data types that are readily available for use without requiring additional libraries or modules. These have defined structures, attributes, and behaviors specific to your problem domain. "
   ]
  },
  {
   "cell_type": "code",
   "execution_count": null,
   "id": "9830014f-1157-464f-aaad-10d738aa9449",
   "metadata": {},
   "outputs": [],
   "source": [
    "# numeric type\n",
    "\n",
    "# int\n",
    "x = 5\n",
    "print(x) # Output: 5\n",
    "\n",
    "# float\n",
    "y = 3.14\n",
    "print(y) # Output: 3.14\n",
    "\n",
    "# complex\n",
    "z = 2 + 3j\n",
    "print(z) # Output: (2+3j)"
   ]
  },
  {
   "cell_type": "code",
   "execution_count": null,
   "id": "1807a200-1a6f-4d1d-9f86-64e5f533a5e1",
   "metadata": {},
   "outputs": [],
   "source": [
    "# str\n",
    "mes = \"Hello, World!\"\n",
    "print(mes)  # Output: Hello, World!"
   ]
  },
  {
   "cell_type": "code",
   "execution_count": null,
   "id": "9385dbbb-426a-437b-a55d-125a3f03063b",
   "metadata": {},
   "outputs": [],
   "source": [
    "# bool\n",
    "is_true = True\n",
    "is_false = False\n",
    "print(is_true)   # Output: True\n",
    "print(is_false)  # Output: False"
   ]
  },
  {
   "cell_type": "code",
   "execution_count": null,
   "id": "deb4270c-6f9b-45e1-bc28-2fa5292fa099",
   "metadata": {},
   "outputs": [],
   "source": [
    "# use to check datatype\n",
    "print(type(x))\n",
    "print(type(y))\n",
    "print(type(z))"
   ]
  },
  {
   "cell_type": "markdown",
   "id": "e2a125cd-417d-49fa-9253-b18a79fbf5e2",
   "metadata": {},
   "source": [
    "> ### Built-In Data Type (Structures)\n",
    "> Python provides several built-in data types that are readily available for use without requiring additional libraries or modules. These have defined structures, attributes, and behaviors specific to your problem domain.\n",
    "> 1. Text Type:\tstr\n",
    "> 2. Numeric Types:\tint, float, complex\n",
    "> 3. Sequence Types:\tlist, tuple, range\n",
    "> 4. Mapping Type:\tdict\n",
    "> 5. Set Types:\tset, frozenset\n",
    "> 6. Boolean Type:\tbool\n",
    "> 7. Binary Types:\tbytes, bytearray, memoryview\n",
    "> 8. None Type:\tNoneType\n"
   ]
  },
  {
   "cell_type": "code",
   "execution_count": 37,
   "id": "cf87713f-79c2-41b1-a78f-2e110458eae0",
   "metadata": {},
   "outputs": [
    {
     "name": "stdout",
     "output_type": "stream",
     "text": [
      "['apple', 'banana', 'cherry']\n",
      "<class 'list'>\n"
     ]
    }
   ],
   "source": [
    "# list type\n",
    "list1 = [\"apple\", \"banana\", \"cherry\"]\n",
    "list2 = [1, 2, 3, \"four\"]\n",
    "print(list1)\n",
    "print(type(list2))"
   ]
  },
  {
   "cell_type": "code",
   "execution_count": 35,
   "id": "18200076-7c0c-47c4-a8c2-881192f17b72",
   "metadata": {},
   "outputs": [
    {
     "name": "stdout",
     "output_type": "stream",
     "text": [
      "('apple', 'banana', 'cherry')\n",
      "<class 'tuple'>\n"
     ]
    }
   ],
   "source": [
    "# tuple type\n",
    "tp1 = (\"apple\", \"banana\", \"cherry\")\n",
    "tp2 = (1,2,\"three\")\n",
    "print(tp1)\n",
    "print(type(tp2))"
   ]
  },
  {
   "cell_type": "code",
   "execution_count": 34,
   "id": "1a10ebcc-168d-4095-b322-bd03073b61d1",
   "metadata": {},
   "outputs": [
    {
     "name": "stdout",
     "output_type": "stream",
     "text": [
      "{1, 2, 3, 4, 5}\n",
      "<class 'set'>\n"
     ]
    }
   ],
   "source": [
    "# set type\n",
    "set1 = {1, 2, 3, 4, 5}\n",
    "set2 = {\"apple\", \"banana\", \"cherry\"}\n",
    "print(set1)\n",
    "print(type(set2))"
   ]
  },
  {
   "cell_type": "code",
   "execution_count": 33,
   "id": "b3fcbc9c-a7c9-48ad-8195-1b039d16156c",
   "metadata": {},
   "outputs": [
    {
     "name": "stdout",
     "output_type": "stream",
     "text": [
      "{'name': 'John', 'age': 36}\n",
      "<class 'dict'>\n"
     ]
    }
   ],
   "source": [
    "# dictionary type\n",
    "dict1 = {\"name\" : \"John\", \"age\" : 36}\n",
    "# dict is using {key : value}\n",
    "print(dict1)\n",
    "print(type(dict1))"
   ]
  }
 ],
 "metadata": {
  "kernelspec": {
   "display_name": "Python 3 (ipykernel)",
   "language": "python",
   "name": "python3"
  },
  "language_info": {
   "codemirror_mode": {
    "name": "ipython",
    "version": 3
   },
   "file_extension": ".py",
   "mimetype": "text/x-python",
   "name": "python",
   "nbconvert_exporter": "python",
   "pygments_lexer": "ipython3",
   "version": "3.10.9"
  }
 },
 "nbformat": 4,
 "nbformat_minor": 5
}
