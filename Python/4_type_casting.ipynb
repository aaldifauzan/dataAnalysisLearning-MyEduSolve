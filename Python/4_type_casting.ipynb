{
 "cells": [
  {
   "cell_type": "markdown",
   "id": "2e21f0c0-a0f1-4126-a687-8aa8767f2a4c",
   "metadata": {},
   "source": [
    "## Type Casting"
   ]
  },
  {
   "cell_type": "markdown",
   "id": "d200f619-07dd-4a52-9e24-ae533b40405e",
   "metadata": {},
   "source": [
    "> Python defines type conversion functions to directly convert one data type to another which is useful in day-to-day and competitive programming.\n",
    ">\n",
    ">There are two types of Type Conversion in Python:\n",
    ">\n",
    ">1. Python Implicit Type Conversion\n",
    ">2. Python Explicit Type Conversion"
   ]
  },
  {
   "cell_type": "markdown",
   "id": "1db6713d-e7b7-43fd-bcc8-3aa253dcfda3",
   "metadata": {},
   "source": [
    "> ### Implicit Style\n",
    "> In Implicit type conversion of data types in Python, the Python interpreter automatically converts one data type to another without any user involvement."
   ]
  },
  {
   "cell_type": "code",
   "execution_count": 1,
   "id": "9ede1eaa-6737-4189-9104-133fbd16886d",
   "metadata": {},
   "outputs": [],
   "source": [
    "# implicit type conversion\n",
    "x = 10\n",
    "y = 10.6\n",
    "z = 'this is z'"
   ]
  },
  {
   "cell_type": "code",
   "execution_count": 2,
   "id": "32766229-272c-4121-99e2-5b8868e61d3e",
   "metadata": {},
   "outputs": [
    {
     "name": "stdout",
     "output_type": "stream",
     "text": [
      "x is of type: <class 'int'>\n",
      "y is of type: <class 'float'>\n",
      "z is of type: <class 'str'>\n"
     ]
    }
   ],
   "source": [
    "# type result\n",
    "print(\"x is of type:\",type(x))\n",
    "print(\"y is of type:\",type(y))\n",
    "print(\"z is of type:\",type(z))"
   ]
  },
  {
   "cell_type": "markdown",
   "id": "06dea1e7-f934-478f-9f5c-2dbd5b1bc499",
   "metadata": {},
   "source": [
    "> ### Explicit Type\n",
    "> In Explicit Type Conversion in Python, the data type is manually changed by the user as per their requirement. \n",
    ">\n",
    "> With explicit type conversion, there is a risk of data loss since we are forcing an expression to be changed in some specific data type. Various forms of explicit type conversion are explained below:\n",
    "> 1. int() : Converts a value \n",
    "> 2. float(): Converts a value to a floating-point number\n",
    "> 3. str() : Converts a value to string\n",
    "> 4. list() : Converts a value to list\n",
    "> 5. tuple() : Converts a value to tuple\n",
    "> 6. set() : Converts a value to set\n",
    "> 7. dict() : Converts a value to dict"
   ]
  },
  {
   "cell_type": "markdown",
   "id": "d6c51b28-4c93-4f94-b0ec-cf130715a889",
   "metadata": {},
   "source": [
    "> ## Integer Conversion\n",
    "> The `int()` function is used to convert a value to a integer\n",
    ">\n",
    "> This can be applied to floating-point numbers, string (provided they represent a valid integer), and other numeric types."
   ]
  },
  {
   "cell_type": "code",
   "execution_count": 3,
   "id": "befa206e-311d-4a97-9f1d-a63669e2787f",
   "metadata": {},
   "outputs": [
    {
     "data": {
      "text/plain": [
       "12"
      ]
     },
     "execution_count": 3,
     "metadata": {},
     "output_type": "execute_result"
    }
   ],
   "source": [
    "# Converting a float to an integer\n",
    "float_num = 12.34\n",
    "int_num = int(float_num)\n",
    "int_num"
   ]
  },
  {
   "cell_type": "code",
   "execution_count": 4,
   "id": "3f3b4f6f-9f5c-4130-9883-ee596512ec9b",
   "metadata": {},
   "outputs": [
    {
     "data": {
      "text/plain": [
       "123"
      ]
     },
     "execution_count": 4,
     "metadata": {},
     "output_type": "execute_result"
    }
   ],
   "source": [
    "# Converting a string represent an int to an int\n",
    "string_num = '123'\n",
    "int_from_string = int(string_num)\n",
    "int_from_string"
   ]
  },
  {
   "cell_type": "markdown",
   "id": "1c25fb22-11ae-47e7-bce6-7011d0a1801d",
   "metadata": {},
   "source": [
    "> ## Float Conversion\n",
    "> The `float()` function is used to convert a value to a floating-point number.\n",
    ">\n",
    "> This can be applied to integers, string (provided they represent a valid floating point number or integer), and other numeric types."
   ]
  },
  {
   "cell_type": "code",
   "execution_count": 5,
   "id": "3b6d4537-98a3-4451-b727-fda4668d9715",
   "metadata": {},
   "outputs": [
    {
     "data": {
      "text/plain": [
       "123.0"
      ]
     },
     "execution_count": 5,
     "metadata": {},
     "output_type": "execute_result"
    }
   ],
   "source": [
    "# Converting an integer to a float\n",
    "integer_num = 123\n",
    "float_from_int = float(integer_num)\n",
    "float_from_int"
   ]
  },
  {
   "cell_type": "code",
   "execution_count": 6,
   "id": "5ebab8ef-5d74-4971-bc8e-abd949c6d892",
   "metadata": {},
   "outputs": [
    {
     "data": {
      "text/plain": [
       "123.45"
      ]
     },
     "execution_count": 6,
     "metadata": {},
     "output_type": "execute_result"
    }
   ],
   "source": [
    "# Converting a string representing a float to a float\n",
    "string_float = '123.45'\n",
    "float_from_string = float(string_float)\n",
    "float_from_string"
   ]
  },
  {
   "cell_type": "markdown",
   "id": "eb095fcf-487d-472c-aae7-c23fe17264a5",
   "metadata": {},
   "source": [
    "> ## String Conversion\n",
    "> The `str()` function is used to convert a value to a string.\n",
    ">\n",
    "> This can be applied to almost any data type in Python, including numbers, lists, tuples, sets, and dictionaries."
   ]
  },
  {
   "cell_type": "code",
   "execution_count": 7,
   "id": "e4d5b553-8076-499f-9a7d-dfa4365e61cd",
   "metadata": {},
   "outputs": [
    {
     "data": {
      "text/plain": [
       "'456'"
      ]
     },
     "execution_count": 7,
     "metadata": {},
     "output_type": "execute_result"
    }
   ],
   "source": [
    "# Converting an integer to a string\n",
    "integer_val = 456\n",
    "string_from_int = str(integer_val)\n",
    "string_from_int"
   ]
  },
  {
   "cell_type": "code",
   "execution_count": 8,
   "id": "7ee257fb-1d95-40eb-a530-06d13ca10e17",
   "metadata": {},
   "outputs": [
    {
     "data": {
      "text/plain": [
       "\"['one', 'two', 'three']\""
      ]
     },
     "execution_count": 8,
     "metadata": {},
     "output_type": "execute_result"
    }
   ],
   "source": [
    "# Converting a list to a string\n",
    "list_val = [\"one\", \"two\", \"three\"]\n",
    "string_from_list = str(list_val)\n",
    "string_from_list"
   ]
  },
  {
   "cell_type": "markdown",
   "id": "840178df-3fcf-4879-aa1f-bcaa702acf21",
   "metadata": {
    "tags": []
   },
   "source": [
    "> ## List Conversion\n",
    "> The `list()` function is used to convert a value to a list\n",
    ">\n",
    "> This can be applied to string, tuple, set, and other iterable data type"
   ]
  },
  {
   "cell_type": "code",
   "execution_count": 9,
   "id": "37dc9e02-d2ca-42b9-b23b-099307f9e707",
   "metadata": {},
   "outputs": [
    {
     "data": {
      "text/plain": [
       "['H', 'e', 'l', 'l', 'o', ' ', 'W', 'o', 'r', 'l', 'd']"
      ]
     },
     "execution_count": 9,
     "metadata": {},
     "output_type": "execute_result"
    }
   ],
   "source": [
    "# Converting a string to a list\n",
    "string_val = \"Hello World\"\n",
    "list_from_string = list(string_val)\n",
    "list_from_string"
   ]
  },
  {
   "cell_type": "code",
   "execution_count": 10,
   "id": "2ad3a30c-68ba-4d10-b5de-e4c4b1f85e87",
   "metadata": {},
   "outputs": [
    {
     "data": {
      "text/plain": [
       "['Hello', 'World']"
      ]
     },
     "execution_count": 10,
     "metadata": {},
     "output_type": "execute_result"
    }
   ],
   "source": [
    "# Converting a string to a list, without iterating the elements\n",
    "string_val1, string_val2 = \"Hello\", \"World\"\n",
    "list_from_string1 = [string_val1, string_val2]\n",
    "list_from_string1"
   ]
  },
  {
   "cell_type": "code",
   "execution_count": 11,
   "id": "e6134aa6-f302-41ac-9f27-3b66fae23f9f",
   "metadata": {},
   "outputs": [
    {
     "data": {
      "text/plain": [
       "[1, 2, 3, 4, 5]"
      ]
     },
     "execution_count": 11,
     "metadata": {},
     "output_type": "execute_result"
    }
   ],
   "source": [
    "# Converting a tuple to a list\n",
    "tuple_val = (1,2,3,4,5)\n",
    "list_from_tuple = list(tuple_val)\n",
    "list_from_tuple"
   ]
  },
  {
   "cell_type": "code",
   "execution_count": 12,
   "id": "980bb662-54d8-46ac-a765-fa3a50908e24",
   "metadata": {},
   "outputs": [
    {
     "data": {
      "text/plain": [
       "[1, 2, 3, 4, 5]"
      ]
     },
     "execution_count": 12,
     "metadata": {},
     "output_type": "execute_result"
    }
   ],
   "source": [
    "# Converting a set to a list\n",
    "set_val = {1,2,3,4,5}\n",
    "list_from_set = list(set_val)\n",
    "list_from_set"
   ]
  },
  {
   "cell_type": "markdown",
   "id": "b04c2ea7-6dbc-4147-8b6b-5ff9b1cee964",
   "metadata": {},
   "source": [
    "> ## Tuple Conversion\n",
    "> The `tuple()` function is used to convert a value to a tuple\n",
    ">\n",
    "> This can be applied to string, list, set, and other iterable data type"
   ]
  },
  {
   "cell_type": "code",
   "execution_count": 13,
   "id": "98a7351a-a186-44c0-9217-1c12c85c2afe",
   "metadata": {},
   "outputs": [
    {
     "data": {
      "text/plain": [
       "(1, 2, 3, 4, 5)"
      ]
     },
     "execution_count": 13,
     "metadata": {},
     "output_type": "execute_result"
    }
   ],
   "source": [
    "# Converting a list to a tuple\n",
    "list_val = [1,2,3,4,5]\n",
    "tuple_from_list = tuple(list_val)\n",
    "tuple_from_list"
   ]
  },
  {
   "cell_type": "code",
   "execution_count": 14,
   "id": "70389540-55cc-4ea8-93c6-9a88b06ae612",
   "metadata": {},
   "outputs": [
    {
     "data": {
      "text/plain": [
       "(1, 2, 3, 4, 5)"
      ]
     },
     "execution_count": 14,
     "metadata": {},
     "output_type": "execute_result"
    }
   ],
   "source": [
    "# Converting a set to a tuple\n",
    "set_val = {1,2,3,4,5}\n",
    "tuple_from_set = tuple(set_val)\n",
    "tuple_from_set"
   ]
  },
  {
   "cell_type": "code",
   "execution_count": 15,
   "id": "062f6983-ccaa-4336-9d9a-961a22daed42",
   "metadata": {},
   "outputs": [
    {
     "data": {
      "text/plain": [
       "('Hello', 'World')"
      ]
     },
     "execution_count": 15,
     "metadata": {},
     "output_type": "execute_result"
    }
   ],
   "source": [
    "# Converting a string to a list, without iterating the elements\n",
    "string_val1, string_val2 = \"Hello\", \"World\"\n",
    "tuple_from_string1 = tuple([string_val1, string_val2])\n",
    "tuple_from_string1"
   ]
  },
  {
   "cell_type": "markdown",
   "id": "be488008-75e4-4d43-84e5-5b0e4628d075",
   "metadata": {},
   "source": [
    "> ## Set Conversion\n",
    "> The `set()` function is used to convert a value to a set\n",
    ">\n",
    "> This can be applied to string, list, tuple, and other iterable data type"
   ]
  },
  {
   "cell_type": "code",
   "execution_count": 16,
   "id": "4e25b6ed-d3c8-404d-8403-b521bf4d39ac",
   "metadata": {},
   "outputs": [
    {
     "data": {
      "text/plain": [
       "{1, 2, 3, 4, 5}"
      ]
     },
     "execution_count": 16,
     "metadata": {},
     "output_type": "execute_result"
    }
   ],
   "source": [
    "# Converting a list with duplicate values to a set\n",
    "list_with_duplicates = [1,2,2,3,4,4,5]\n",
    "set_from_list = set(list_with_duplicates)\n",
    "set_from_list"
   ]
  },
  {
   "cell_type": "code",
   "execution_count": 17,
   "id": "4cecbf15-5eb3-4129-a412-fe8802960cce",
   "metadata": {},
   "outputs": [
    {
     "data": {
      "text/plain": [
       "{1, 2, 3, 4, 5}"
      ]
     },
     "execution_count": 17,
     "metadata": {},
     "output_type": "execute_result"
    }
   ],
   "source": [
    "# Converting a list with duplicate values to a set\n",
    "list_with_duplicates = [1,2,2,3,4,4,5]\n",
    "set_from_list = set(list_with_duplicates)\n",
    "set_from_list"
   ]
  },
  {
   "cell_type": "markdown",
   "id": "5cec4474-ae14-4591-9961-44cc67111aa1",
   "metadata": {},
   "source": [
    "> ## Dict Conversion\n",
    "> The `dict()` function is used to convert a value to a dictionary\n",
    ">\n",
    "> This can be applied to string, list, tuple, set, and other iterable data type"
   ]
  },
  {
   "cell_type": "code",
   "execution_count": 18,
   "id": "ac96e5e9-98d7-40d5-ad06-5cc9b50b6058",
   "metadata": {},
   "outputs": [
    {
     "data": {
      "text/plain": [
       "{'a': 1, 'b': 2, 'c': 3}"
      ]
     },
     "execution_count": 18,
     "metadata": {},
     "output_type": "execute_result"
    }
   ],
   "source": [
    "# Converting a list of tuples to a dictionary\n",
    "list_of_tuples = [('a',1),('b',2),('c',3)]\n",
    "dict_from_list = dict(list_of_tuples)\n",
    "dict_from_list"
   ]
  },
  {
   "cell_type": "code",
   "execution_count": 19,
   "id": "da4fe257-9950-4824-b285-1d799750f569",
   "metadata": {},
   "outputs": [
    {
     "data": {
      "text/plain": [
       "{'e': 5, 'f': 6, 'd': 4}"
      ]
     },
     "execution_count": 19,
     "metadata": {},
     "output_type": "execute_result"
    }
   ],
   "source": [
    "# Converting a set of key-value pairs to a dictionary\n",
    "set_of_pairs = {('d',4),('e',5),('f',6)}\n",
    "dict_from_set = dict(set_of_pairs)\n",
    "dict_from_set"
   ]
  },
  {
   "cell_type": "code",
   "execution_count": 20,
   "id": "3a09cfb1-d6a6-426c-ac23-00f12aff8862",
   "metadata": {},
   "outputs": [
    {
     "data": {
      "text/plain": [
       "{'g': 7, 'h': 8, 'i': 9}"
      ]
     },
     "execution_count": 20,
     "metadata": {},
     "output_type": "execute_result"
    }
   ],
   "source": [
    "# Converting two lists (one for keys and one for values) to a dictionary using zip\n",
    "keys = ['g','h','i']\n",
    "values = [7,8,9]\n",
    "dict_from_zip = dict(zip(keys,values))\n",
    "dict_from_zip"
   ]
  },
  {
   "cell_type": "markdown",
   "id": "955a72b7-b7ab-4ba8-96f4-a102b0f79922",
   "metadata": {},
   "source": [
    "## References"
   ]
  },
  {
   "cell_type": "markdown",
   "id": "00f8d772-276a-413c-8902-9439fc5a72ff",
   "metadata": {},
   "source": [
    "> 1. https://www.geeksforgeeks.org/type-conversion-in-python/\n",
    "> 2. https://www.w3schools.com/python/python_casting.asp\n",
    "> 3. https://www.pythontutorial.net/python-basics/python-type-conversion/"
   ]
  }
 ],
 "metadata": {
  "kernelspec": {
   "display_name": "Python 3 (ipykernel)",
   "language": "python",
   "name": "python3"
  },
  "language_info": {
   "codemirror_mode": {
    "name": "ipython",
    "version": 3
   },
   "file_extension": ".py",
   "mimetype": "text/x-python",
   "name": "python",
   "nbconvert_exporter": "python",
   "pygments_lexer": "ipython3",
   "version": "3.10.9"
  }
 },
 "nbformat": 4,
 "nbformat_minor": 5
}
