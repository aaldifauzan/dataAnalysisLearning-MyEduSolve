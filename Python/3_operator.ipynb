{
 "cells": [
  {
   "cell_type": "markdown",
   "id": "60ef5475-613c-4659-afa6-823bb48c8431",
   "metadata": {},
   "source": [
    "## Python Operator"
   ]
  },
  {
   "cell_type": "markdown",
   "id": "6c554bf2-2f4e-4664-ac8a-3017d328c5fe",
   "metadata": {},
   "source": [
    "> ### Operator\n",
    "> In Python, operators are special symbols, combinations of symbols, or keywords that designate some type of computation. You can combine objects and operators to build expressions that perform the actual computation. \n",
    ">\n",
    ">So, operators are the building blocks of expressions, which you can use to manipulate your data. Therefore, understanding how operators work in Python is essential for you as a programmer.\n",
    ">\n",
    ">In programming, an operator is usually a symbol or combination of symbols that allows you to perform a specific operation. This operation can act on one or more operands. If the operation involves a single operand, then the operator is unary. If the operator involves two operands, then the operator is binary\n",
    ">\n",
    ">You’ll find several categories or groups of operators in Python. Here’s a quick list of those categories:\n",
    ">Arithmetic operators\n",
    ">Comparison operators\n",
    ">Boolean or logical operators\n",
    ">Identity operators\n",
    ">Membership operators\n",
    ">Concatenation and repetition operators\n",
    ">Bitwise operators"
   ]
  },
  {
   "cell_type": "markdown",
   "id": "a0934fdb-a03e-4886-97b9-3bee60df0b74",
   "metadata": {},
   "source": [
    ">### Arithmetic Operator\n",
    ">Arithmetic operators are those operators that allow you to perform arithmetic operations on numeric values. Yes, they come from math, and in most cases, you’ll represent them with the usual math signs. The following table lists the arithmetic operators that Python currently supports:\n",
    ">![](https://studyopedia.com/wp-content/uploads/2020/07/Python-Arithmetic-Operators.png)"
   ]
  },
  {
   "cell_type": "code",
   "execution_count": 1,
   "id": "b479408b-9875-46a8-aa70-9e2367e5d836",
   "metadata": {},
   "outputs": [],
   "source": [
    "# arithmetic operator example\n",
    "a = 5\n",
    "b = 2"
   ]
  },
  {
   "cell_type": "code",
   "execution_count": 2,
   "id": "5f820cb7-c9f6-45fc-b98c-0a3ead3a6a2d",
   "metadata": {},
   "outputs": [
    {
     "name": "stdout",
     "output_type": "stream",
     "text": [
      "a + b = 7\n",
      "a - b = 3\n"
     ]
    }
   ],
   "source": [
    "# addition\n",
    "print(\"a + b =\", a + b)\n",
    "\n",
    "# subtraction\n",
    "print(\"a - b =\", a - b)"
   ]
  },
  {
   "cell_type": "code",
   "execution_count": 3,
   "id": "49886392-b4dc-4019-851b-1594ef1108a3",
   "metadata": {},
   "outputs": [
    {
     "name": "stdout",
     "output_type": "stream",
     "text": [
      "a * b = 10\n",
      "a / b = 2.5\n"
     ]
    }
   ],
   "source": [
    "# multiplication\n",
    "print(\"a * b =\", a * b)\n",
    "\n",
    "# division\n",
    "print(\"a / b =\", a / b)"
   ]
  },
  {
   "cell_type": "code",
   "execution_count": 4,
   "id": "f62d8abe-c7f3-4c2a-a138-01340e68d78d",
   "metadata": {},
   "outputs": [
    {
     "name": "stdout",
     "output_type": "stream",
     "text": [
      "a // b = 2\n",
      "a % b = 1\n",
      "a ** b = 25\n"
     ]
    }
   ],
   "source": [
    "# floor division\n",
    "print(\"a // b =\", a // b)\n",
    "\n",
    "# modulo\n",
    "print(\"a % b =\", a % b)\n",
    "\n",
    "# exponent (a to the power b)\n",
    "print(\"a ** b =\", a ** b)"
   ]
  },
  {
   "cell_type": "markdown",
   "id": "e1256255-a56f-4368-9a22-fc372c2009cb",
   "metadata": {},
   "source": [
    ">### Assignment Operator\n",
    ">The assignment operator is one of the most frequently used operators in Python.\n",
    ">\n",
    ">The operator consists of a single equal sign (=), and it operates on two operands.The left-hand operand is typically a variable, while the right-hand operand is an expression.\n",
    ">\n",
    ">The assignment operator allows you to assign values to variables. Strictly speaking, in Python, this operator makes variables or names refer to specific objects in your computer’s memory. In other words, an assignment creates a reference to a concrete object and attaches that reference to the target variable.\n",
    ">![](https://studyopedia.com/wp-content/uploads/2020/07/Python-Assignment-Operators.png)"
   ]
  },
  {
   "cell_type": "code",
   "execution_count": 5,
   "id": "1f5df612-1138-41de-aebc-53e74caad22e",
   "metadata": {},
   "outputs": [],
   "source": [
    "# assignment operator example\n",
    "a = 10\n",
    "b = 5"
   ]
  },
  {
   "cell_type": "code",
   "execution_count": 6,
   "id": "a6a444f5-0d06-4cbd-a9a4-db8cffb9f10a",
   "metadata": {},
   "outputs": [
    {
     "name": "stdout",
     "output_type": "stream",
     "text": [
      "values of 'a' is  15\n",
      "values of 'b' is  5\n"
     ]
    }
   ],
   "source": [
    "a += b\n",
    "print(\"values of 'a' is \", a)\n",
    "print(\"values of 'b' is \", b)"
   ]
  },
  {
   "cell_type": "code",
   "execution_count": 7,
   "id": "33191a21-5958-44de-b592-e0a490bb211f",
   "metadata": {},
   "outputs": [
    {
     "name": "stdout",
     "output_type": "stream",
     "text": [
      "a-b = 10\n"
     ]
    }
   ],
   "source": [
    "# subtraction\n",
    "a -= b\n",
    "print(\"a-b =\",a)"
   ]
  },
  {
   "cell_type": "code",
   "execution_count": 8,
   "id": "4259ea99-92d5-4ec5-9e2a-50ade44d9d86",
   "metadata": {},
   "outputs": [
    {
     "name": "stdout",
     "output_type": "stream",
     "text": [
      "a*b = 50\n"
     ]
    }
   ],
   "source": [
    "# multiplication\n",
    "a *= b\n",
    "print(\"a*b =\",a)"
   ]
  },
  {
   "cell_type": "code",
   "execution_count": 9,
   "id": "8f2fdce5-c3d7-482b-8cd4-324f40655db8",
   "metadata": {},
   "outputs": [
    {
     "name": "stdout",
     "output_type": "stream",
     "text": [
      "a/b = 10.0\n"
     ]
    }
   ],
   "source": [
    "# division\n",
    "a /= b\n",
    "print(\"a/b =\",a)"
   ]
  },
  {
   "cell_type": "code",
   "execution_count": 10,
   "id": "cbfe7010-ea4c-42f2-b6fc-eff649e648fe",
   "metadata": {},
   "outputs": [
    {
     "name": "stdout",
     "output_type": "stream",
     "text": [
      "a**b = 100000.0\n"
     ]
    }
   ],
   "source": [
    "# exponent\n",
    "a **= b\n",
    "print(\"a**b =\",a)"
   ]
  },
  {
   "cell_type": "markdown",
   "id": "482f440d-6d0f-4a70-9bba-3e132e5bd200",
   "metadata": {},
   "source": [
    ">### Comparison Operator\n",
    ">\n",
    ">The Python comparison operators allow you to compare numerical values and any other objects that support them. The table below lists all the currently available comparison operators in Python:\n",
    ">\n",
    ">![](https://studyopedia.com/wp-content/uploads/2020/07/Python-Assignment-Operators.png)\n",
    ">The comparison operators are all binary. This means that they require left and right operands. \n",
    ">\n",
    ">These operators always return a Boolean value (True or False) that depends on the truth value of the comparison at hand.\n"
   ]
  },
  {
   "cell_type": "code",
   "execution_count": 11,
   "id": "b36cd13c-a292-4dcf-b85e-74599b7e66cf",
   "metadata": {},
   "outputs": [],
   "source": [
    "# comparison operator example\n",
    "a = 5\n",
    "b = 2"
   ]
  },
  {
   "cell_type": "code",
   "execution_count": 12,
   "id": "f8db3916-f008-4386-bf14-14d025fe1a91",
   "metadata": {},
   "outputs": [
    {
     "name": "stdout",
     "output_type": "stream",
     "text": [
      "'a' is less than 'b' = False\n"
     ]
    }
   ],
   "source": [
    "# less than\n",
    "print(\"'a' is less than 'b' =\", a<b)"
   ]
  },
  {
   "cell_type": "code",
   "execution_count": 13,
   "id": "75a9c4d1-cfd7-4176-aea9-581216827378",
   "metadata": {},
   "outputs": [
    {
     "name": "stdout",
     "output_type": "stream",
     "text": [
      "'a' is less than or equal to 'b' = False\n"
     ]
    }
   ],
   "source": [
    "# less than or equal to\n",
    "print(\"'a' is less than or equal to 'b' =\", a<=b)"
   ]
  },
  {
   "cell_type": "code",
   "execution_count": 14,
   "id": "fefc897e-daa2-4891-a4e3-d3bc7809e67e",
   "metadata": {},
   "outputs": [
    {
     "name": "stdout",
     "output_type": "stream",
     "text": [
      "'a' is greater than 'b' = True\n"
     ]
    }
   ],
   "source": [
    "# greater than\n",
    "print(\"'a' is greater than 'b' =\", a>b)"
   ]
  },
  {
   "cell_type": "code",
   "execution_count": 15,
   "id": "855e57b2-8b0b-4566-81ec-cff068762aa5",
   "metadata": {},
   "outputs": [
    {
     "name": "stdout",
     "output_type": "stream",
     "text": [
      "'a' is greater than or equal to 'b' = True\n"
     ]
    }
   ],
   "source": [
    "# greater than or equal to\n",
    "print(\"'a' is greater than or equal to 'b' =\", a>=b)"
   ]
  },
  {
   "cell_type": "code",
   "execution_count": 16,
   "id": "73b845c5-ed79-4226-bec5-5de6cbbe4f0f",
   "metadata": {},
   "outputs": [
    {
     "name": "stdout",
     "output_type": "stream",
     "text": [
      "'a' is equal to 'b'= False\n"
     ]
    }
   ],
   "source": [
    "# equal to\n",
    "print(\"'a' is equal to 'b'=\", a==b)"
   ]
  },
  {
   "cell_type": "code",
   "execution_count": 17,
   "id": "d2a8fa59-cd88-478f-a1d3-3f1ae97ddc26",
   "metadata": {},
   "outputs": [
    {
     "name": "stdout",
     "output_type": "stream",
     "text": [
      "'a' is not equal to 'b'= True\n"
     ]
    }
   ],
   "source": [
    "# not equal to\n",
    "print(\"'a' is not equal to 'b'=\", a!=b)"
   ]
  },
  {
   "cell_type": "markdown",
   "id": "78e476ec-142d-4113-b499-f952be648bca",
   "metadata": {},
   "source": [
    ">### Logical (Boolean) Operation\n",
    ">\n",
    ">Python has three Boolean or logical operators: `and`, `or`, and `not`.\n",
    ">\n",
    ">They define a set of operations denoted by the generic operators `AND`, `OR`, and `NOT`. With these operators, you can create compound conditions.\n",
    ">\n",
    ">![](https://studyopedia.com/wp-content/uploads/2020/07/Python-Logical-Operators.png)\n",
    "\n"
   ]
  },
  {
   "cell_type": "code",
   "execution_count": 18,
   "id": "222eb32f-3d5b-4027-a152-bea8080a1303",
   "metadata": {},
   "outputs": [],
   "source": [
    "a = True\n",
    "b = False"
   ]
  },
  {
   "cell_type": "code",
   "execution_count": 19,
   "id": "29f7cf4c-139e-4ce9-8e2f-e0ae94b6a2d3",
   "metadata": {},
   "outputs": [
    {
     "data": {
      "text/plain": [
       "True"
      ]
     },
     "execution_count": 19,
     "metadata": {},
     "output_type": "execute_result"
    }
   ],
   "source": [
    "# AND\n",
    "(a) and (a)"
   ]
  },
  {
   "cell_type": "code",
   "execution_count": 20,
   "id": "2c19a7f3-232c-4600-b094-cfa9ed75533f",
   "metadata": {},
   "outputs": [],
   "source": [
    "x = 10\n",
    "y = 5"
   ]
  },
  {
   "cell_type": "code",
   "execution_count": 21,
   "id": "83a1ee24-7cbf-43bf-ac45-256d7ea66981",
   "metadata": {},
   "outputs": [
    {
     "data": {
      "text/plain": [
       "True"
      ]
     },
     "execution_count": 21,
     "metadata": {},
     "output_type": "execute_result"
    }
   ],
   "source": [
    "(x > 7) and (y < 8)"
   ]
  },
  {
   "cell_type": "code",
   "execution_count": 22,
   "id": "e97477f7-84da-4aa1-8f9c-310b19708490",
   "metadata": {},
   "outputs": [
    {
     "data": {
      "text/plain": [
       "False"
      ]
     },
     "execution_count": 22,
     "metadata": {},
     "output_type": "execute_result"
    }
   ],
   "source": [
    "# AND\n",
    "(a) and (b)"
   ]
  },
  {
   "cell_type": "code",
   "execution_count": 23,
   "id": "76b20f51-d5f8-4b90-98e0-36cda52ea0f9",
   "metadata": {},
   "outputs": [
    {
     "name": "stdout",
     "output_type": "stream",
     "text": [
      "True False True\n"
     ]
    }
   ],
   "source": [
    "# OR\n",
    "c = a or b\n",
    "print(a,b,c)"
   ]
  },
  {
   "cell_type": "code",
   "execution_count": 24,
   "id": "7d30f25c-2111-4bde-bbb9-a6304c6f4511",
   "metadata": {},
   "outputs": [
    {
     "name": "stdout",
     "output_type": "stream",
     "text": [
      "True False\n"
     ]
    }
   ],
   "source": [
    "# Not\n",
    "c = not a\n",
    "print(a,c)"
   ]
  },
  {
   "cell_type": "code",
   "execution_count": 25,
   "id": "2bee452f-c0e4-4f9c-b9fb-1daaec56903d",
   "metadata": {},
   "outputs": [
    {
     "name": "stdout",
     "output_type": "stream",
     "text": [
      "True\n",
      "False\n",
      "True\n"
     ]
    }
   ],
   "source": [
    "# another example\n",
    "print(5 < 7 and 3 == 3)\n",
    "print(5 < 7 and 3 != 3)\n",
    "print(5 != 7 and 3 == 3)"
   ]
  },
  {
   "cell_type": "markdown",
   "id": "c06a8c94-22a6-4eb6-ad1b-569b36270d41",
   "metadata": {},
   "source": [
    "## References"
   ]
  },
  {
   "cell_type": "markdown",
   "id": "3d005859-8a27-466b-9123-d04ce3519031",
   "metadata": {},
   "source": [
    "1. https://realpython.com/python-operators-expressions/#boolean-operators-and-expressions-in-python\n",
    "2. https://www.w3schools.com/python/python_operators.asp\n",
    "3. https://studyopedia.com/python3/python-operators-with-examples/"
   ]
  },
  {
   "cell_type": "code",
   "execution_count": null,
   "id": "48aabf6d-6339-494c-84ae-ede730b0ec16",
   "metadata": {},
   "outputs": [],
   "source": []
  }
 ],
 "metadata": {
  "kernelspec": {
   "display_name": "Python 3 (ipykernel)",
   "language": "python",
   "name": "python3"
  },
  "language_info": {
   "codemirror_mode": {
    "name": "ipython",
    "version": 3
   },
   "file_extension": ".py",
   "mimetype": "text/x-python",
   "name": "python",
   "nbconvert_exporter": "python",
   "pygments_lexer": "ipython3",
   "version": "3.10.9"
  }
 },
 "nbformat": 4,
 "nbformat_minor": 5
}
