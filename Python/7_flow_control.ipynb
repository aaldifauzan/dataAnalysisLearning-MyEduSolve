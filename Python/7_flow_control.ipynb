{
 "cells": [
  {
   "cell_type": "markdown",
   "id": "a4b5f00b-67aa-4f3f-b41e-2b9a3556ea0c",
   "metadata": {},
   "source": [
    "## Flow Control"
   ]
  },
  {
   "cell_type": "markdown",
   "id": "131e3f18-9377-4273-bada-5d26f18cfe69",
   "metadata": {},
   "source": [
    "> ### Introduction\n",
    "> Conditional statements in Python are used to make decision in the code.\n",
    ">\n",
    "> Python provides various forms of conditional statements including `if`, `if...else`,`if...elif...else`, and nested `if` statements.\n",
    ">\n",
    "> They execute a block of code if a specified condition is true. If the condition is false, another block of code can be executed"
   ]
  },
  {
   "cell_type": "markdown",
   "id": "ac6a4fa5-1e72-41bc-aaeb-3dfbbe47be90",
   "metadata": {},
   "source": [
    "> ### Python IF Statement\n",
    "> The `if` statement is used to test a specific condition. If the condition is true, a block of code (if block) will be executed."
   ]
  },
  {
   "cell_type": "code",
   "execution_count": 11,
   "id": "ccb1ad6b-b51e-45f1-9829-0cd78fee8447",
   "metadata": {},
   "outputs": [
    {
     "name": "stdout",
     "output_type": "stream",
     "text": [
      "10 is greater than 5.\n"
     ]
    }
   ],
   "source": [
    "x = 10\n",
    "if x > 5:\n",
    "    print(f\"{x} is greater than 5.\")"
   ]
  },
  {
   "cell_type": "code",
   "execution_count": 12,
   "id": "6158b76b-3b49-4e19-950e-9a22a2567ac3",
   "metadata": {},
   "outputs": [
    {
     "name": "stdout",
     "output_type": "stream",
     "text": [
      "8 is positive number.\n"
     ]
    }
   ],
   "source": [
    "number = 8\n",
    "if x > 0:\n",
    "    print(f\"{number} is positive number.\")"
   ]
  },
  {
   "cell_type": "markdown",
   "id": "19033e97-7d3d-4a84-b40f-f3073b16153b",
   "metadata": {},
   "source": [
    "> ### Python IF ELSE Statement\n",
    "> The `if...else` statement is used to execute one block of code if a specified condition is true, and another block of code if the condition is false"
   ]
  },
  {
   "cell_type": "code",
   "execution_count": 14,
   "id": "692a262b-c473-4090-9927-b78819f434ae",
   "metadata": {},
   "outputs": [
    {
     "name": "stdout",
     "output_type": "stream",
     "text": [
      "-5 is negative\n"
     ]
    }
   ],
   "source": [
    "number = -5\n",
    "if number >= 0:\n",
    "    print(f'{number} is non-negative')\n",
    "else:\n",
    "    print(f'{number} is negative')"
   ]
  },
  {
   "cell_type": "markdown",
   "id": "f8c3c918-947e-43bf-bdf1-36163ee16133",
   "metadata": {},
   "source": [
    "> ### Python IF ELIF ELSE Statement\n",
    "> The `if...elif...else` statement is used for multiple conditions. It executes different blocks of code for different conditions"
   ]
  },
  {
   "cell_type": "code",
   "execution_count": 16,
   "id": "5ee374f3-9127-4db9-8ac9-dd94dbc95821",
   "metadata": {},
   "outputs": [
    {
     "name": "stdout",
     "output_type": "stream",
     "text": [
      "A\n"
     ]
    }
   ],
   "source": [
    "x = 100\n",
    "if x != 10:\n",
    "    print('A')\n",
    "elif x > 1 and x <= 5:\n",
    "    print('B')\n",
    "elif x > 5 and x <= 10:\n",
    "    print('C')\n",
    "else:\n",
    "    print('D')"
   ]
  },
  {
   "cell_type": "markdown",
   "id": "2ffd8b12-6c4e-4a50-ac99-80780a7a718a",
   "metadata": {},
   "source": [
    "> ### Python Nested IF Statement\n",
    "> You can use a nested `if` statement to check for another condition after a condition resolves to true"
   ]
  },
  {
   "cell_type": "code",
   "execution_count": 20,
   "id": "9530ae9f-323b-4eb0-a95d-59feea09d554",
   "metadata": {},
   "outputs": [],
   "source": [
    "x = 10"
   ]
  },
  {
   "cell_type": "code",
   "execution_count": 21,
   "id": "2e45299e-dfe2-4058-876a-4ff54f5c4382",
   "metadata": {},
   "outputs": [
    {
     "name": "stdout",
     "output_type": "stream",
     "text": [
      "X > 5\n",
      "15\n"
     ]
    }
   ],
   "source": [
    "if x > 5:\n",
    "    print(\"X > 5\")\n",
    "    if x == 10:\n",
    "        print(x+5)"
   ]
  },
  {
   "cell_type": "code",
   "execution_count": 23,
   "id": "f5b4edcf-4f0b-481e-8199-02f40c5b64a4",
   "metadata": {},
   "outputs": [
    {
     "name": "stdout",
     "output_type": "stream",
     "text": [
      "15 is positive\n",
      "15 is also divisible by 5.\n"
     ]
    }
   ],
   "source": [
    "number = 15\n",
    "if number > 0:\n",
    "    print(f\"{number} is positive\")\n",
    "    if number  % 5 == 0:\n",
    "        print(f\"{number} is also divisible by 5.\")"
   ]
  },
  {
   "cell_type": "code",
   "execution_count": 25,
   "id": "945db8df-fcec-4430-af5b-195eefb61dd3",
   "metadata": {},
   "outputs": [
    {
     "name": "stdout",
     "output_type": "stream",
     "text": [
      "This person is teenager\n",
      "This teenager is eligble to drive\n"
     ]
    }
   ],
   "source": [
    "age = 17\n",
    "if age >= 13:\n",
    "    if age <= 19:\n",
    "        print(\"This person is teenager\")\n",
    "        if age >= 16:\n",
    "            print(\"This teenager is eligble to drive\")\n",
    "        else:\n",
    "            print(\"This teenager is not eligble to drive\")"
   ]
  }
 ],
 "metadata": {
  "kernelspec": {
   "display_name": "Python 3 (ipykernel)",
   "language": "python",
   "name": "python3"
  },
  "language_info": {
   "codemirror_mode": {
    "name": "ipython",
    "version": 3
   },
   "file_extension": ".py",
   "mimetype": "text/x-python",
   "name": "python",
   "nbconvert_exporter": "python",
   "pygments_lexer": "ipython3",
   "version": "3.10.9"
  }
 },
 "nbformat": 4,
 "nbformat_minor": 5
}
