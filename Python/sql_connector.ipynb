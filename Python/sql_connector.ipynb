{
 "cells": [
  {
   "cell_type": "markdown",
   "id": "abd437fb-fcaa-41ba-afee-e2658ef5058c",
   "metadata": {
    "id": "abd437fb-fcaa-41ba-afee-e2658ef5058c"
   },
   "source": [
    "# Fetching Data from MySQL into a Pandas DataFrame\n",
    "\n",
    "## Setup\n",
    "\n",
    "Before we begin, you need to ensure that Python is installed on your system. Additionally, we'll be using the `mysql-connector-python` package to connect to our MySQL database and the `pandas` package to work with DataFrames. Install these packages using the following commands:\n",
    "\n",
    "```bash\n",
    "pip install mysql-connector-python\n",
    "```\n",
    "\n",
    "With the installations out of the way, let’s set up our working environment."
   ]
  },
  {
   "cell_type": "code",
   "execution_count": 2,
   "id": "8c804151-cc50-492e-bcd0-56e0c6f2786f",
   "metadata": {
    "id": "8c804151-cc50-492e-bcd0-56e0c6f2786f",
    "tags": []
   },
   "outputs": [
    {
     "name": "stdout",
     "output_type": "stream",
     "text": [
      "Defaulting to user installation because normal site-packages is not writeable\n",
      "Requirement already satisfied: mysql-connector-python in c:\\users\\aldi fauzan\\appdata\\roaming\\python\\python310\\site-packages (8.2.0)\n",
      "Requirement already satisfied: protobuf<=4.21.12,>=4.21.1 in c:\\users\\aldi fauzan\\appdata\\roaming\\python\\python310\\site-packages (from mysql-connector-python) (4.21.12)\n"
     ]
    }
   ],
   "source": [
    "# install mysql connector\n",
    "!pip install mysql-connector-python"
   ]
  },
  {
   "cell_type": "code",
   "execution_count": 3,
   "id": "a68e8563-6812-4ed6-825f-e29f3afa5001",
   "metadata": {
    "id": "a68e8563-6812-4ed6-825f-e29f3afa5001",
    "tags": []
   },
   "outputs": [],
   "source": [
    "# import libraries\n",
    "import mysql.connector\n",
    "from mysql.connector import Error"
   ]
  },
  {
   "cell_type": "markdown",
   "id": "66a7e816-75df-43d7-86a7-dcf03978b404",
   "metadata": {
    "id": "66a7e816-75df-43d7-86a7-dcf03978b404"
   },
   "source": [
    "## Establishing a Connection with MySQL Database\n",
    "\n",
    "To work with a MySQL database from Python, we need to establish a connection. MySQL Connector/Python is a driver that facilitates this. After we import the required module, then we can define a function to handle the database connection.\n",
    "\n",
    "Replace `host_name`, `user_name`, `user_password`, and `db_name` with our MySQL server’s details."
   ]
  },
  {
   "cell_type": "code",
   "execution_count": 7,
   "id": "41ae82e8-1c37-49bf-a6b9-07e8c1f6250c",
   "metadata": {
    "id": "41ae82e8-1c37-49bf-a6b9-07e8c1f6250c",
    "tags": []
   },
   "outputs": [],
   "source": [
    "# function to open connection to db\n",
    "def connect_to_db(host_name, user_name, user_password, db_name):\n",
    "    connection = None\n",
    "    try:\n",
    "        connection = mysql.connector.connect(\n",
    "            host=host_name,\n",
    "            user=user_name,\n",
    "            passwd=user_password,\n",
    "            database=db_name\n",
    "        )\n",
    "        print(\"MySQL Database connection successful\")\n",
    "    except Error as err:\n",
    "        print(f\"Error: '{err}'\")\n",
    "\n",
    "    return connection"
   ]
  },
  {
   "cell_type": "code",
   "execution_count": 12,
   "id": "d54fb2a6-4822-415a-993a-829343410e1f",
   "metadata": {
    "id": "d54fb2a6-4822-415a-993a-829343410e1f",
    "tags": []
   },
   "outputs": [],
   "source": [
    "# define mysql details\n",
    "host   = 'localhost'\n",
    "user   = 'root'\n",
    "passwd = 'Aldi.Fauzan12345'\n",
    "databs = 'sakila'"
   ]
  },
  {
   "cell_type": "code",
   "execution_count": 13,
   "id": "68707ee7-f0c3-46c6-ba80-6847bfc2e200",
   "metadata": {},
   "outputs": [
    {
     "name": "stdout",
     "output_type": "stream",
     "text": [
      "MySQL Database connection successful\n"
     ]
    },
    {
     "data": {
      "text/plain": [
       "<mysql.connector.connection.MySQLConnection at 0x1ba60c77a60>"
      ]
     },
     "execution_count": 13,
     "metadata": {},
     "output_type": "execute_result"
    }
   ],
   "source": [
    "# try to connect to sakila database\n",
    "connect_to_db(host, user, passwd, databs)"
   ]
  },
  {
   "cell_type": "markdown",
   "id": "24777f3b-4c3a-41f0-a043-a902adfd4536",
   "metadata": {
    "id": "24777f3b-4c3a-41f0-a043-a902adfd4536"
   },
   "source": [
    "## Writing the Function to Fetch Data\n",
    "\n",
    "Now, let’s create a function that will use this connection to fetch data and return a pandas DataFrame."
   ]
  },
  {
   "cell_type": "code",
   "execution_count": 14,
   "id": "091bd80c-c0dd-4435-bd60-d7459aa67e52",
   "metadata": {
    "id": "091bd80c-c0dd-4435-bd60-d7459aa67e52",
    "tags": []
   },
   "outputs": [],
   "source": [
    "# import pandas\n",
    "import pandas as pd\n",
    "\n",
    "# import warning to ignore warning\n",
    "import warnings\n",
    "warnings.filterwarnings('ignore')"
   ]
  },
  {
   "cell_type": "code",
   "execution_count": 16,
   "id": "5daae10d-4f2d-45e7-ab64-c0e900df6191",
   "metadata": {
    "id": "5daae10d-4f2d-45e7-ab64-c0e900df6191",
    "tags": []
   },
   "outputs": [],
   "source": [
    "# function to fetch data from database, the connection is closed after use.\n",
    "def fetch_data(host_name, user_name, user_password, db_name, query, params=None):\n",
    "    try:\n",
    "        # use with statement (context manager) to ensure the connection is closed after use\n",
    "        with mysql.connector.connect(\n",
    "            host=host_name,\n",
    "            user=user_name,\n",
    "            password=user_password,\n",
    "            database=db_name\n",
    "        ) as connection:\n",
    "            # read the query to dataframe format\n",
    "            data = pd.read_sql(query, connection, params=params)\n",
    "            return data\n",
    "\n",
    "    except Error as e:\n",
    "        print(f\"Error while connecting to MySQL or fetching data: {e}\")\n",
    "        return None"
   ]
  },
  {
   "cell_type": "markdown",
   "id": "085fe524-707d-4624-a2a5-e9abda415aae",
   "metadata": {
    "id": "085fe524-707d-4624-a2a5-e9abda415aae"
   },
   "source": [
    "Above function uses `pd.read_sql()` from pandas, which runs the SQL query through the provided connection and returns a DataFrame. If you need to pass parameters to your query, you can do so by passing a tuple as the `params` argument."
   ]
  },
  {
   "cell_type": "code",
   "execution_count": 17,
   "id": "e9c2e017-594a-4183-a8ed-ada5d8edc970",
   "metadata": {
    "id": "e9c2e017-594a-4183-a8ed-ada5d8edc970",
    "tags": []
   },
   "outputs": [],
   "source": [
    "# usage example (the mysql detail already defined)\n",
    "# simple query\n",
    "query_actor = \"\"\"\n",
    "\n",
    "select * from actor;\n",
    "\n",
    "\"\"\""
   ]
  },
  {
   "cell_type": "code",
   "execution_count": 18,
   "id": "634618e3-279d-448b-b019-0f2022a98729",
   "metadata": {
    "id": "634618e3-279d-448b-b019-0f2022a98729",
    "tags": []
   },
   "outputs": [],
   "source": [
    "# fetch data using function\n",
    "df = fetch_data(host, user, passwd, databs, query_actor)"
   ]
  },
  {
   "cell_type": "code",
   "execution_count": 19,
   "id": "56cc3a82-1916-48ee-b390-8b47f94e9db8",
   "metadata": {
    "id": "56cc3a82-1916-48ee-b390-8b47f94e9db8",
    "outputId": "18733781-ecf4-41c8-d929-4670b6edfc8d",
    "tags": []
   },
   "outputs": [
    {
     "data": {
      "text/html": [
       "<div>\n",
       "<style scoped>\n",
       "    .dataframe tbody tr th:only-of-type {\n",
       "        vertical-align: middle;\n",
       "    }\n",
       "\n",
       "    .dataframe tbody tr th {\n",
       "        vertical-align: top;\n",
       "    }\n",
       "\n",
       "    .dataframe thead th {\n",
       "        text-align: right;\n",
       "    }\n",
       "</style>\n",
       "<table border=\"1\" class=\"dataframe\">\n",
       "  <thead>\n",
       "    <tr style=\"text-align: right;\">\n",
       "      <th></th>\n",
       "      <th>actor_id</th>\n",
       "      <th>first_name</th>\n",
       "      <th>last_name</th>\n",
       "      <th>last_update</th>\n",
       "    </tr>\n",
       "  </thead>\n",
       "  <tbody>\n",
       "    <tr>\n",
       "      <th>0</th>\n",
       "      <td>1</td>\n",
       "      <td>PENELOPE</td>\n",
       "      <td>GUINESS</td>\n",
       "      <td>2006-02-15 04:34:33</td>\n",
       "    </tr>\n",
       "    <tr>\n",
       "      <th>1</th>\n",
       "      <td>2</td>\n",
       "      <td>NICK</td>\n",
       "      <td>WAHLBERG</td>\n",
       "      <td>2006-02-15 04:34:33</td>\n",
       "    </tr>\n",
       "    <tr>\n",
       "      <th>2</th>\n",
       "      <td>3</td>\n",
       "      <td>ED</td>\n",
       "      <td>CHASE</td>\n",
       "      <td>2006-02-15 04:34:33</td>\n",
       "    </tr>\n",
       "    <tr>\n",
       "      <th>3</th>\n",
       "      <td>4</td>\n",
       "      <td>JENNIFER</td>\n",
       "      <td>DAVIS</td>\n",
       "      <td>2006-02-15 04:34:33</td>\n",
       "    </tr>\n",
       "    <tr>\n",
       "      <th>4</th>\n",
       "      <td>5</td>\n",
       "      <td>JOHNNY</td>\n",
       "      <td>LOLLOBRIGIDA</td>\n",
       "      <td>2006-02-15 04:34:33</td>\n",
       "    </tr>\n",
       "  </tbody>\n",
       "</table>\n",
       "</div>"
      ],
      "text/plain": [
       "   actor_id first_name     last_name         last_update\n",
       "0         1   PENELOPE       GUINESS 2006-02-15 04:34:33\n",
       "1         2       NICK      WAHLBERG 2006-02-15 04:34:33\n",
       "2         3         ED         CHASE 2006-02-15 04:34:33\n",
       "3         4   JENNIFER         DAVIS 2006-02-15 04:34:33\n",
       "4         5     JOHNNY  LOLLOBRIGIDA 2006-02-15 04:34:33"
      ]
     },
     "execution_count": 19,
     "metadata": {},
     "output_type": "execute_result"
    }
   ],
   "source": [
    "# show data\n",
    "df.head()"
   ]
  },
  {
   "cell_type": "code",
   "execution_count": 20,
   "id": "56bef9e0-f74e-4d63-ad17-f3855afe78e5",
   "metadata": {
    "id": "56bef9e0-f74e-4d63-ad17-f3855afe78e5",
    "outputId": "541b8c3e-7533-4f3e-8bd4-4e70396d0aea",
    "tags": []
   },
   "outputs": [
    {
     "name": "stdout",
     "output_type": "stream",
     "text": [
      "<class 'pandas.core.frame.DataFrame'>\n",
      "RangeIndex: 200 entries, 0 to 199\n",
      "Data columns (total 4 columns):\n",
      " #   Column       Non-Null Count  Dtype         \n",
      "---  ------       --------------  -----         \n",
      " 0   actor_id     200 non-null    int64         \n",
      " 1   first_name   200 non-null    object        \n",
      " 2   last_name    200 non-null    object        \n",
      " 3   last_update  200 non-null    datetime64[ns]\n",
      "dtypes: datetime64[ns](1), int64(1), object(2)\n",
      "memory usage: 6.4+ KB\n"
     ]
    }
   ],
   "source": [
    "# show info\n",
    "df.info()"
   ]
  },
  {
   "cell_type": "markdown",
   "id": "048e4c99-e03c-4aa7-bada-8e45f59a521f",
   "metadata": {
    "id": "048e4c99-e03c-4aa7-bada-8e45f59a521f"
   },
   "source": [
    "We can use `SQLAlchemy`, which is another popular Python library to do this job. Using SQLAlchemy can be beneficial for its ORM capabilities and flexibility (simpler code)."
   ]
  },
  {
   "cell_type": "code",
   "execution_count": 21,
   "id": "d38669dd-b2fe-4995-8759-e73295712e8e",
   "metadata": {
    "id": "d38669dd-b2fe-4995-8759-e73295712e8e",
    "tags": []
   },
   "outputs": [
    {
     "name": "stdout",
     "output_type": "stream",
     "text": [
      "Defaulting to user installation because normal site-packages is not writeable\n",
      "Requirement already satisfied: sqlalchemy in c:\\programdata\\anaconda3\\lib\\site-packages (1.4.39)\n",
      "Requirement already satisfied: greenlet!=0.4.17 in c:\\programdata\\anaconda3\\lib\\site-packages (from sqlalchemy) (2.0.1)\n"
     ]
    }
   ],
   "source": [
    "# install sqlalchemy\n",
    "!pip install sqlalchemy"
   ]
  },
  {
   "cell_type": "code",
   "execution_count": 22,
   "id": "8a45ca02-bf8c-4f23-bf4d-9647b9fb8dd8",
   "metadata": {
    "id": "8a45ca02-bf8c-4f23-bf4d-9647b9fb8dd8",
    "tags": []
   },
   "outputs": [],
   "source": [
    "# import sqlalchemy engine\n",
    "import sqlalchemy\n",
    "from sqlalchemy import create_engine"
   ]
  },
  {
   "cell_type": "code",
   "execution_count": 24,
   "id": "7d631b9e-7343-404f-a4ea-cd8fe55e5cda",
   "metadata": {
    "id": "7d631b9e-7343-404f-a4ea-cd8fe55e5cda",
    "tags": []
   },
   "outputs": [],
   "source": [
    "# function to fetch data using sqlalchemy engine\n",
    "def alchemy_fetch_data(host_name, user_name, user_password, db_name, query, params=None):\n",
    "    try:\n",
    "        # format the database URL\n",
    "        database_url = f\"mysql+mysqlconnector://{user_name}:{user_password}@{host_name}/{db_name}\"\n",
    "\n",
    "        # create a database engine\n",
    "        engine = create_engine(database_url)\n",
    "\n",
    "        # fetch data into a pandas df\n",
    "        data = pd.read_sql_query(query, engine, params=params)\n",
    "        return data\n",
    "\n",
    "    except Exception as e:\n",
    "        print(f\"Error: {e}\")\n",
    "        return None\n",
    "\n",
    "    finally:\n",
    "        # dispose the engine\n",
    "        engine.dispose()"
   ]
  },
  {
   "cell_type": "code",
   "execution_count": 25,
   "id": "bd4447d0-09fb-4638-a9b5-7ff3da24626a",
   "metadata": {
    "id": "bd4447d0-09fb-4638-a9b5-7ff3da24626a",
    "tags": []
   },
   "outputs": [],
   "source": [
    "# usage example\n",
    "# simple query with cte\n",
    "query_actor_cte = \"\"\"\n",
    "\n",
    "with films as (\n",
    "    select film_id, title, rating, actor_id\n",
    "    from film\n",
    "    left join film_actor fa using (film_id)\n",
    "), actors as (\n",
    "    select actor_id, first_name, last_name\n",
    "    from actor\n",
    ")\n",
    "select *\n",
    "from films\n",
    "join actors using (actor_id)\n",
    "\n",
    "\"\"\""
   ]
  },
  {
   "cell_type": "code",
   "execution_count": 26,
   "id": "ec2581f2-c167-4279-9b2e-821c17db868b",
   "metadata": {
    "id": "ec2581f2-c167-4279-9b2e-821c17db868b",
    "tags": []
   },
   "outputs": [],
   "source": [
    "# fetch data using sqlalchemy\n",
    "df2 = alchemy_fetch_data(host, user, passwd, databs, query_actor_cte)"
   ]
  },
  {
   "cell_type": "code",
   "execution_count": 29,
   "id": "83c03043-d495-4ce6-ac82-2e97e48b75b9",
   "metadata": {
    "id": "83c03043-d495-4ce6-ac82-2e97e48b75b9",
    "outputId": "0916e910-7042-47ea-ab5e-e482a05fd995",
    "tags": []
   },
   "outputs": [
    {
     "data": {
      "text/html": [
       "<div>\n",
       "<style scoped>\n",
       "    .dataframe tbody tr th:only-of-type {\n",
       "        vertical-align: middle;\n",
       "    }\n",
       "\n",
       "    .dataframe tbody tr th {\n",
       "        vertical-align: top;\n",
       "    }\n",
       "\n",
       "    .dataframe thead th {\n",
       "        text-align: right;\n",
       "    }\n",
       "</style>\n",
       "<table border=\"1\" class=\"dataframe\">\n",
       "  <thead>\n",
       "    <tr style=\"text-align: right;\">\n",
       "      <th></th>\n",
       "      <th>actor_id</th>\n",
       "      <th>film_id</th>\n",
       "      <th>title</th>\n",
       "      <th>rating</th>\n",
       "      <th>first_name</th>\n",
       "      <th>last_name</th>\n",
       "    </tr>\n",
       "  </thead>\n",
       "  <tbody>\n",
       "    <tr>\n",
       "      <th>0</th>\n",
       "      <td>1</td>\n",
       "      <td>1</td>\n",
       "      <td>ACADEMY DINOSAUR</td>\n",
       "      <td>PG</td>\n",
       "      <td>PENELOPE</td>\n",
       "      <td>GUINESS</td>\n",
       "    </tr>\n",
       "    <tr>\n",
       "      <th>1</th>\n",
       "      <td>10</td>\n",
       "      <td>1</td>\n",
       "      <td>ACADEMY DINOSAUR</td>\n",
       "      <td>PG</td>\n",
       "      <td>CHRISTIAN</td>\n",
       "      <td>GABLE</td>\n",
       "    </tr>\n",
       "    <tr>\n",
       "      <th>2</th>\n",
       "      <td>20</td>\n",
       "      <td>1</td>\n",
       "      <td>ACADEMY DINOSAUR</td>\n",
       "      <td>PG</td>\n",
       "      <td>LUCILLE</td>\n",
       "      <td>TRACY</td>\n",
       "    </tr>\n",
       "    <tr>\n",
       "      <th>3</th>\n",
       "      <td>30</td>\n",
       "      <td>1</td>\n",
       "      <td>ACADEMY DINOSAUR</td>\n",
       "      <td>PG</td>\n",
       "      <td>SANDRA</td>\n",
       "      <td>PECK</td>\n",
       "    </tr>\n",
       "    <tr>\n",
       "      <th>4</th>\n",
       "      <td>40</td>\n",
       "      <td>1</td>\n",
       "      <td>ACADEMY DINOSAUR</td>\n",
       "      <td>PG</td>\n",
       "      <td>JOHNNY</td>\n",
       "      <td>CAGE</td>\n",
       "    </tr>\n",
       "  </tbody>\n",
       "</table>\n",
       "</div>"
      ],
      "text/plain": [
       "   actor_id  film_id             title rating first_name last_name\n",
       "0         1        1  ACADEMY DINOSAUR     PG   PENELOPE   GUINESS\n",
       "1        10        1  ACADEMY DINOSAUR     PG  CHRISTIAN     GABLE\n",
       "2        20        1  ACADEMY DINOSAUR     PG    LUCILLE     TRACY\n",
       "3        30        1  ACADEMY DINOSAUR     PG     SANDRA      PECK\n",
       "4        40        1  ACADEMY DINOSAUR     PG     JOHNNY      CAGE"
      ]
     },
     "execution_count": 29,
     "metadata": {},
     "output_type": "execute_result"
    }
   ],
   "source": [
    "# show data\n",
    "df2.head()"
   ]
  },
  {
   "cell_type": "code",
   "execution_count": null,
   "id": "c773bd80-de80-495d-8949-310d064cd7d3",
   "metadata": {
    "id": "c773bd80-de80-495d-8949-310d064cd7d3",
    "outputId": "fcb621ed-c61d-44fd-b813-9bd38624156e",
    "tags": []
   },
   "outputs": [
    {
     "name": "stdout",
     "output_type": "stream",
     "text": [
      "<class 'pandas.core.frame.DataFrame'>\n",
      "RangeIndex: 5462 entries, 0 to 5461\n",
      "Data columns (total 6 columns):\n",
      " #   Column      Non-Null Count  Dtype \n",
      "---  ------      --------------  ----- \n",
      " 0   actor_id    5462 non-null   int64 \n",
      " 1   film_id     5462 non-null   int64 \n",
      " 2   title       5462 non-null   object\n",
      " 3   rating      5462 non-null   object\n",
      " 4   first_name  5462 non-null   object\n",
      " 5   last_name   5462 non-null   object\n",
      "dtypes: int64(2), object(4)\n",
      "memory usage: 256.2+ KB\n"
     ]
    }
   ],
   "source": [
    "# show info()\n",
    "df2.info()"
   ]
  },
  {
   "cell_type": "markdown",
   "id": "6c706cba-b414-4fd1-b5d3-9c7f384484e8",
   "metadata": {
    "id": "6c706cba-b414-4fd1-b5d3-9c7f384484e8",
    "tags": []
   },
   "source": [
    "## Best Practices\n",
    "\n",
    "When working with databases, always ensure that you manage connections carefully. Connections should be opened as late as possible and closed as soon as you're done with them. In the provided functions, we manually close the connection after we're done with our operations.\n",
    "\n",
    "Always validate and sanitize any input that comes from users to protect against SQL injection when building queries. Using parameterized queries, is one of the best practices to mitigate such risks."
   ]
  }
 ],
 "metadata": {
  "colab": {
   "provenance": []
  },
  "kernelspec": {
   "display_name": "Python 3 (ipykernel)",
   "language": "python",
   "name": "python3"
  },
  "language_info": {
   "codemirror_mode": {
    "name": "ipython",
    "version": 3
   },
   "file_extension": ".py",
   "mimetype": "text/x-python",
   "name": "python",
   "nbconvert_exporter": "python",
   "pygments_lexer": "ipython3",
   "version": "3.10.9"
  }
 },
 "nbformat": 4,
 "nbformat_minor": 5
}
