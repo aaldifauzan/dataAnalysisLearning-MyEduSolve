{
 "cells": [
  {
   "cell_type": "markdown",
   "id": "2560c805-b854-4ff0-892e-5daf9c383749",
   "metadata": {},
   "source": [
    "## Python For and While Loop"
   ]
  },
  {
   "cell_type": "markdown",
   "id": "98114b39-9c2b-4419-abd6-8a4263b4e1e2",
   "metadata": {},
   "source": [
    "> #### Python Iterators\n",
    "> In Python, both the terms iterators and iterable are sometimes used interchangeably but the have different meanings.\n",
    ">\n",
    "> An iterator is an object that contains a countable number of values. An iterator is an object that can be iterated upo, meaning that you can traverse through all the values.\n",
    ">\n",
    "> Lists, tuples, dictionaries, and sets are all iterable objects. They are iterable containers which you can get an iterator form\n",
    "> ![](https://d1m75rqqgidzqn.cloudfront.net/wp-data/2020/08/28190200/Iterators-in-Python.jpg)"
   ]
  },
  {
   "cell_type": "markdown",
   "id": "e1a52ef4-dacc-43b9-abad-2d7b9a999117",
   "metadata": {},
   "source": [
    "> #### For Loop\n",
    "> The `for` loop in Python is used to iterate over a sequence (such as a list, tuple, string, or range) or other iterable objects. Iterating over a sequence is called traversal\n"
   ]
  },
  {
   "cell_type": "markdown",
   "id": "24d0e696-043a-4663-8e17-e3cb5aee3fce",
   "metadata": {},
   "source": [
    "> Below is the basic syntax `for` loop in Python:"
   ]
  },
  {
   "cell_type": "code",
   "execution_count": 1,
   "id": "f0482701-5538-49b8-982f-2547725f9d9d",
   "metadata": {},
   "outputs": [
    {
     "ename": "SyntaxError",
     "evalue": "incomplete input (1582891699.py, line 2)",
     "output_type": "error",
     "traceback": [
      "\u001b[1;36m  Cell \u001b[1;32mIn[1], line 2\u001b[1;36m\u001b[0m\n\u001b[1;33m    #code to be executed\u001b[0m\n\u001b[1;37m                        ^\u001b[0m\n\u001b[1;31mSyntaxError\u001b[0m\u001b[1;31m:\u001b[0m incomplete input\n"
     ]
    }
   ],
   "source": [
    "for val in sequence:\n",
    "    #code to be executed"
   ]
  },
  {
   "cell_type": "markdown",
   "id": "795c47e1-0d0c-4850-8c33-6ca1f0bc1ab5",
   "metadata": {},
   "source": [
    "> `val` is the variable that takes the value of the item inside the sequence on each iteration. The block inside the `for` loop is executed once for each item i the sequence"
   ]
  },
  {
   "cell_type": "code",
   "execution_count": 2,
   "id": "cce5ae4e-dfc8-4ddd-800f-7c10bddb9ecb",
   "metadata": {},
   "outputs": [
    {
     "name": "stdout",
     "output_type": "stream",
     "text": [
      "a\n",
      "b\n",
      "c\n",
      "d\n"
     ]
    }
   ],
   "source": [
    "x = ['a', 'b', 'c', 'd']\n",
    "for val in x:\n",
    "    print(val)"
   ]
  },
  {
   "cell_type": "markdown",
   "id": "62cf8f10-e7c2-483b-95e2-a98735c61bd2",
   "metadata": {},
   "source": [
    "> You can also use a `for` loop to iterate over a string\n",
    ">\n",
    "> Below is an example where we use a `for` loop to iterate over the character of a string."
   ]
  },
  {
   "cell_type": "code",
   "execution_count": 3,
   "id": "02272b8d-5a54-4761-8814-10b12e95e4d3",
   "metadata": {},
   "outputs": [
    {
     "name": "stdout",
     "output_type": "stream",
     "text": [
      "H\n",
      "e\n",
      "l\n",
      "l\n",
      "o\n"
     ]
    }
   ],
   "source": [
    "string = 'Hello'\n",
    "for char in string:\n",
    "    print(char)"
   ]
  },
  {
   "cell_type": "markdown",
   "id": "db212d79-377f-4591-916c-38c3e4f20fd5",
   "metadata": {},
   "source": [
    "> The `range()` function to returns a sequence of numbers and is often used for looping a specific number of times in a `for` loop."
   ]
  },
  {
   "cell_type": "code",
   "execution_count": 4,
   "id": "c18d9b18-c350-4b2f-91d6-af6770aa54ba",
   "metadata": {},
   "outputs": [
    {
     "name": "stdout",
     "output_type": "stream",
     "text": [
      "Number 3\n",
      "Number 5\n",
      "Number 7\n",
      "Number 9\n"
     ]
    }
   ],
   "source": [
    "for i in range(3,10,2):\n",
    "    print(f\"Number {i}\")"
   ]
  },
  {
   "cell_type": "markdown",
   "id": "fa66121b-4c77-4ed7-81ba-5f00f4d9989c",
   "metadata": {},
   "source": [
    "> ### For Loop and Else\n",
    "> A `for` loop can have an optional `else` block.\n",
    ">\n",
    "> The `else` block is executed after the `for` loop has exhauster iterating the list.\n",
    ">\n",
    "> The `else` block is not executed if the list is broken by a `break` statement"
   ]
  },
  {
   "cell_type": "code",
   "execution_count": 5,
   "id": "1e86a825-02d7-48cb-a8ca-b823c53b90dc",
   "metadata": {},
   "outputs": [
    {
     "name": "stdout",
     "output_type": "stream",
     "text": [
      "Number 0\n",
      "Number 1\n",
      "Number 2\n",
      "Number 3\n",
      "Hello\n",
      "No more numbers\n"
     ]
    }
   ],
   "source": [
    "for i in range(5):\n",
    "    if i == 4:\n",
    "        print(\"Hello\")\n",
    "    else:\n",
    "        print(f\"Number {i}\")\n",
    "else:\n",
    "    print(\"No more numbers\")"
   ]
  },
  {
   "cell_type": "markdown",
   "id": "75276fc3-b070-45e0-be5d-9a3a45e9e904",
   "metadata": {},
   "source": [
    "> ### While Loop\n",
    "> The `while` loop in Python is used to iterate over a block of code as long as the test expression (condition) is true.\n",
    ">\n",
    "> The `while` loop can be terminated with `break` statement, and the next iteration can be skipped with the `continue` statement"
   ]
  },
  {
   "cell_type": "markdown",
   "id": "b87e1554-5cf2-4f23-991e-968e6335b5fc",
   "metadata": {},
   "source": [
    "> Below is the basic syntax of a `while` loop"
   ]
  },
  {
   "cell_type": "code",
   "execution_count": 6,
   "id": "30f3cd8e-bdac-422d-a294-c7237ad75a42",
   "metadata": {},
   "outputs": [
    {
     "ename": "SyntaxError",
     "evalue": "incomplete input (65504524.py, line 2)",
     "output_type": "error",
     "traceback": [
      "\u001b[1;36m  Cell \u001b[1;32mIn[6], line 2\u001b[1;36m\u001b[0m\n\u001b[1;33m    # code to be executed\u001b[0m\n\u001b[1;37m                         ^\u001b[0m\n\u001b[1;31mSyntaxError\u001b[0m\u001b[1;31m:\u001b[0m incomplete input\n"
     ]
    }
   ],
   "source": [
    "while test_expression:\n",
    "    # code to be executed"
   ]
  },
  {
   "cell_type": "markdown",
   "id": "6c0751c0-f5d0-4e4a-94f9-3f36e2482c19",
   "metadata": {},
   "source": [
    "> The code block inside the `while` loop is executed until the test expression evaluates to `False`"
   ]
  },
  {
   "cell_type": "code",
   "execution_count": 7,
   "id": "ff044d30-6234-4236-a857-41f92ff02cfc",
   "metadata": {},
   "outputs": [
    {
     "name": "stdout",
     "output_type": "stream",
     "text": [
      "Count: 0\n",
      "Count: 1\n",
      "Count: 2\n",
      "Count: 3\n",
      "Count: 4\n"
     ]
    }
   ],
   "source": [
    "count = 0\n",
    "while count < 5:\n",
    "    print(f'Count: {count}')\n",
    "    count += 1"
   ]
  },
  {
   "cell_type": "markdown",
   "id": "6282fd52-37ac-4e4c-82e1-9524bb03ddb4",
   "metadata": {},
   "source": [
    "> ### While Loop  And Else\n",
    "> Similar to the `for` loop, the `while` loop can also have an optional `else` block.\n",
    ">\n",
    "> The else block is executed after the `while` loop has exhausted testing the condition."
   ]
  },
  {
   "cell_type": "code",
   "execution_count": 8,
   "id": "7874b1ff-5987-47fc-8f3d-ddffb6fc602b",
   "metadata": {},
   "outputs": [
    {
     "name": "stdout",
     "output_type": "stream",
     "text": [
      "Count: 0\n",
      "Count: 1\n",
      "Hello\n",
      "Count: 3\n",
      "Count: 4\n",
      "Count: 5\n",
      "No more counts.\n"
     ]
    }
   ],
   "source": [
    "count = 0\n",
    "while count < 6:\n",
    "    if count == 2:\n",
    "        print(f'Hello')\n",
    "        count += 1\n",
    "    else:\n",
    "        print(f'Count: {count}')\n",
    "        count += 1\n",
    "else: \n",
    "    print('No more counts.')"
   ]
  },
  {
   "cell_type": "markdown",
   "id": "8ff0a7ed-45ec-428c-8331-e6027875625a",
   "metadata": {},
   "source": [
    "> ### Python For VS While\n",
    "> Both for and while, loops are used for iteration, but there are some differences in their usage and functionality\n",
    ">\n",
    "> `For` loop is generally used when the number of iterations is known.\n",
    ">\n",
    "> `While` loop is used when the number of iterations is not known and depends on the condition"
   ]
  },
  {
   "cell_type": "markdown",
   "id": "f37b3f8b-1d33-4abe-9022-af62abcbe6d4",
   "metadata": {},
   "source": [
    "> ### Example:\n",
    "\n",
    "> Use a `for` loop to iterate over a list of numbers to calculate their sum"
   ]
  },
  {
   "cell_type": "code",
   "execution_count": 9,
   "id": "0f7c08c2-5594-4509-aa03-887b997551c8",
   "metadata": {},
   "outputs": [
    {
     "name": "stdout",
     "output_type": "stream",
     "text": [
      "Total = 1\n",
      "Total = 3\n",
      "Total = 6\n",
      "Total = 10\n",
      "Total = 15\n",
      "The sum of numbers in the list is: 15\n"
     ]
    }
   ],
   "source": [
    "numbers = [1, 2, 3, 4, 5]\n",
    "total = 0\n",
    "for num in numbers:\n",
    "    total += num\n",
    "    print(f'Total = {total}')\n",
    "print(f'The sum of numbers in the list is: {total}')"
   ]
  },
  {
   "cell_type": "markdown",
   "id": "791759ca-bff8-452c-8c45-725ab78bc8e9",
   "metadata": {},
   "source": [
    "> Use a `while` loop to create countdown from a specified number to zero."
   ]
  },
  {
   "cell_type": "code",
   "execution_count": 10,
   "id": "e3df1f7c-087f-41dd-9893-69522d0e9619",
   "metadata": {},
   "outputs": [
    {
     "name": "stdout",
     "output_type": "stream",
     "text": [
      "5\n",
      "4\n",
      "3\n",
      "2\n",
      "1\n",
      "Close the door!\n"
     ]
    }
   ],
   "source": [
    "count = 5\n",
    "while count > 0:\n",
    "    print(f'{count}')\n",
    "    count -= 1\n",
    "print('Close the door!')"
   ]
  },
  {
   "cell_type": "markdown",
   "id": "f2d7857f-6fec-498b-9404-efde1c01ef21",
   "metadata": {},
   "source": [
    "> Using `for` loop to iterate through a dictionary and print the keys and values"
   ]
  },
  {
   "cell_type": "code",
   "execution_count": 11,
   "id": "19d84ff7-5c67-4f89-9bb8-6aded3def0b0",
   "metadata": {},
   "outputs": [
    {
     "name": "stdout",
     "output_type": "stream",
     "text": [
      "Name : John\n",
      "Age : 30\n",
      "City : New York\n"
     ]
    }
   ],
   "source": [
    "person = {'Name' : 'John',\n",
    "          'Age' : 30,\n",
    "          'City' : 'New York'}\n",
    "for key, value in person.items():\n",
    "    print(f'{key} : {value}')"
   ]
  },
  {
   "cell_type": "markdown",
   "id": "96abe229-2836-4f15-b2d9-58c87913ffe4",
   "metadata": {},
   "source": [
    "> Use `for` loop to check if a number is prime or not"
   ]
  },
  {
   "cell_type": "code",
   "execution_count": 12,
   "id": "3614a7de-b92c-40e9-b0a7-2309d0648a92",
   "metadata": {},
   "outputs": [
    {
     "name": "stdout",
     "output_type": "stream",
     "text": [
      "29 is a prime number.\n"
     ]
    }
   ],
   "source": [
    "num = 29 # Change this value to test other numbers\n",
    "is_prime = True\n",
    "#is prime and num = 1\n",
    "for i in range(2, int(num ** 0.5) + 1):\n",
    "    if num % i == 0:\n",
    "        is_prime = False\n",
    "        break\n",
    "if is_prime and num != 1:\n",
    "    print(f\"{num} is a prime number.\")\n",
    "else:\n",
    "    print(f\"{num} is not a prime number.\")"
   ]
  },
  {
   "cell_type": "markdown",
   "id": "4eff6e30-967a-48b9-a68e-78c7d169efee",
   "metadata": {},
   "source": [
    "### Reference"
   ]
  },
  {
   "cell_type": "markdown",
   "id": "0081dbf5-ed51-4428-8ebf-3ebe8b8d58f5",
   "metadata": {},
   "source": [
    "> 1. https://www.w3schools.com/python/python_for_loops.asp\n",
    "> 2. https://www.geeksforgeeks.org/python-for-loops/?ref=lbp\n",
    "> 3. https://www.w3schools.com/python/ref_func_range.asp"
   ]
  }
 ],
 "metadata": {
  "kernelspec": {
   "display_name": "Python 3 (ipykernel)",
   "language": "python",
   "name": "python3"
  },
  "language_info": {
   "codemirror_mode": {
    "name": "ipython",
    "version": 3
   },
   "file_extension": ".py",
   "mimetype": "text/x-python",
   "name": "python",
   "nbconvert_exporter": "python",
   "pygments_lexer": "ipython3",
   "version": "3.10.9"
  }
 },
 "nbformat": 4,
 "nbformat_minor": 5
}
