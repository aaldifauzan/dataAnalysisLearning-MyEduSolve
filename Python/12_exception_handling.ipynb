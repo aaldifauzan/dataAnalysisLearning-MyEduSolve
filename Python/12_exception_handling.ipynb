{
 "cells": [
  {
   "cell_type": "markdown",
   "id": "64e45cf1-5b65-4e01-b051-462d9fb9d85e",
   "metadata": {},
   "source": [
    "## Exception Handling"
   ]
  },
  {
   "cell_type": "markdown",
   "id": "ffad4813-2b3f-42eb-8812-04c49ca757bb",
   "metadata": {},
   "source": [
    ">In programming, there are two types of errors: syntax errors and exceptions. While syntax errors are straightforward and are detected during the code writing phase, exceptions are more challenging. Exceptions are errors that occur during the execution of the program. These errors can be due to various reasons, such as invalid input file not found, division by zero, etc.\n",
    ">\n",
    ">Handling exceptions is crucial for ensuring that the program doesn't crash unexpectedly and provides a smooth user experience. In this tutorial, we will explore Python's exception handling mechanisms and how to use them effectively."
   ]
  },
  {
   "cell_type": "markdown",
   "id": "10836f4e-121e-4d8b-bb08-b3956ca0b69a",
   "metadata": {},
   "source": [
    "> ### Logical Error (Exceptions)\n",
    ">\n",
    "> Logical errors, often known as exception, occur during the execution of the program. These are not syntax error, but they can cause the program to behave unexpectedly or even crash. For instance, trying to open a file that doesn't exist or attempting to dicide by zero are examples of exceptions.\n",
    ">\n",
    "> Example 2:\n",
    ">\n",
    "> Attempting to divide by zero will raise a `ZeroDivisionError` exception\n",
    ">\n",
    "> result = 10/0\n",
    ">\n",
    "> In both examples above, the code will stop executing at the point of exception, and the rest of the program will not run unless the exception is handled"
   ]
  },
  {
   "cell_type": "code",
   "execution_count": 17,
   "id": "c1af6b09-d97c-4b09-b9fa-95efa500ac38",
   "metadata": {},
   "outputs": [
    {
     "name": "stdin",
     "output_type": "stream",
     "text": [
      "Enter a number:  0\n"
     ]
    },
    {
     "name": "stdout",
     "output_type": "stream",
     "text": [
      "Division by zero is not allowed!\n"
     ]
    }
   ],
   "source": [
    "try:\n",
    "    number = int(input(\"Enter a number: \"))\n",
    "    result = 10 / number\n",
    "except ZeroDivisionError:\n",
    "    print(\"Division by zero is not allowed!\")\n",
    "except ValueError:\n",
    "    print(\"Please enter a valid number.\")"
   ]
  },
  {
   "cell_type": "markdown",
   "id": "10f619f6-a2bf-45d2-a601-067f439eec27",
   "metadata": {},
   "source": [
    "> ### Built-In Exceptions\n",
    ">\n",
    "> Python has several built-in exceptions that can be triggered during the execution of a program. These exception are integrated into the Python runtime and are raised when specific error conditions occur. Some of the commonly encountered built-in exceptions include:\n",
    ">\n",
    "> 1. `ValueError` : Raised when a function receives an argument of the correct type but an inappropriate value\n",
    "> 2. `TypeError` : Raised when an operation or function is applied to an object of an inappropriate type.\n",
    "> 3. `IndexError` : Raised when a sequence subscript is out of range.\n",
    "> 4. `KeyError` : Raised when a dictionary key is not found.\n",
    "> 5. `FileNotFoundError` : Raised when a file or directory is requested but doesn't exist.\n",
    ">\n",
    "> **Example 1:**\n",
    ">\n",
    "> Trying to convert a non-numeric string to an integer will raise a `ValueError`.\n",
    ">\n",
    "> int('abc')\n",
    ">\n",
    "> **Example 2:**\n",
    ">\n",
    "> Attempting to add a string and an integer will result in a `TypeError`.\n",
    ">\n",
    "> '5' + 3\n",
    ">\n",
    "> In the examples above, the first code snippet tries to convert a non-numeric string to an integer, leading to a `ValueError`. The second snippet attempts to add a string and an integer, resulting in a `TypeError`."
   ]
  },
  {
   "cell_type": "markdown",
   "id": "2c1c3d46-bb07-4f43-b796-c460d57031e5",
   "metadata": {},
   "source": [
    "> ### Error and Exception\n",
    "> It's essential to differentiate between errors and exception in Python.\n",
    ">\n",
    "> **Error**: An error is severe issue in the program that prevents it from being executed. It could be due to syntax mistakes or invalid operation. For instance, trying to use an undeclared variable or forgetting a colon at the end of a statement can result in a syntax error.\n",
    ">\n",
    "> **Exception** : An exception is an event that occurs during the execution of a program and disrupts its normal flow. Exception can be handled using specific mechanisms provided by the programming language, allowing the program to continue running or to terminate gracefully\n",
    ">\n",
    "> In Python, all exceptions are instances of a class derived from `BaseException`. While errors cannot be handled, exceptions can be caught and managed using the `try...except` block."
   ]
  },
  {
   "cell_type": "markdown",
   "id": "0ac7099d-e52e-483a-831e-d24ef0074b40",
   "metadata": {},
   "source": [
    "> ### Try Except\n",
    ">\n",
    "> The `try...except` block in Python is used to catch and handle exceptions.\n",
    ">\n",
    "> Python executes code following the `try` keyword as a normal part of the program. The code tha follows the `except` keyword is the program response to any exceptions in the preceding `try` clause"
   ]
  },
  {
   "cell_type": "code",
   "execution_count": 10,
   "id": "0424b1a7-3a26-4bbe-bb10-4a70d56e7d6c",
   "metadata": {},
   "outputs": [
    {
     "name": "stdin",
     "output_type": "stream",
     "text": [
      "Enter a numbers:  10\n"
     ]
    },
    {
     "name": "stdout",
     "output_type": "stream",
     "text": [
      "Success!\n"
     ]
    }
   ],
   "source": [
    "try:\n",
    "    x = int(input('Enter a numbers: '))\n",
    "    print(\"Success!\")\n",
    "except ValueError:\n",
    "    print(\"Not a valid number\")"
   ]
  },
  {
   "cell_type": "markdown",
   "id": "ab7eac26-df26-4735-86f5-505cd7f228d1",
   "metadata": {},
   "source": [
    "> In this example, if the user enter a non-numeric value a `ValueError` exception is raised, and the code inside the `except` block is executed."
   ]
  },
  {
   "cell_type": "code",
   "execution_count": 7,
   "id": "7a1f92eb-980d-4b18-be97-c123b99b126a",
   "metadata": {},
   "outputs": [
    {
     "name": "stdin",
     "output_type": "stream",
     "text": [
      "Enter a numbers:  0\n"
     ]
    },
    {
     "name": "stdout",
     "output_type": "stream",
     "text": [
      "Invalid input\n"
     ]
    }
   ],
   "source": [
    "try:\n",
    "    number = int(input('Enter a numbers: '))\n",
    "    result = 10 / number\n",
    "except (ZeroDivisionError,ValueError):\n",
    "    print(\"Invalid input\")"
   ]
  },
  {
   "cell_type": "markdown",
   "id": "2abea68a-7a25-4b51-8eae-8d2a0ad42dc4",
   "metadata": {},
   "source": [
    "> ### Try Else\n",
    ">\n",
    "> In Python, the `try...except` block can be followed by an `else` clause. The code inside the `else` block is executed if no exceptions are raised in the `try` block. This allows you to separate the code that might rais an exception from the code that should be executed if there are no exceptions."
   ]
  },
  {
   "cell_type": "code",
   "execution_count": 8,
   "id": "f05ec090-8639-4b1f-bfdb-f55ec94b1a6b",
   "metadata": {},
   "outputs": [
    {
     "name": "stdin",
     "output_type": "stream",
     "text": [
      "Enter a numbers:  10\n"
     ]
    },
    {
     "name": "stdout",
     "output_type": "stream",
     "text": [
      "You entered the number 10\n"
     ]
    }
   ],
   "source": [
    "try:\n",
    "    number = int(input('Enter a numbers: '))\n",
    "except:\n",
    "    print(\"Please enter a valid number\")\n",
    "else:\n",
    "    print(f\"You entered the number {number}\")"
   ]
  },
  {
   "cell_type": "code",
   "execution_count": 14,
   "id": "3ff6818f-833e-4a4c-92f6-485592614ea4",
   "metadata": {},
   "outputs": [
    {
     "name": "stdin",
     "output_type": "stream",
     "text": [
      "Enter a numbers:  10\n"
     ]
    },
    {
     "name": "stdout",
     "output_type": "stream",
     "text": [
      "Your Number is 10\n"
     ]
    }
   ],
   "source": [
    "try:\n",
    "    number = int(input('Enter a numbers: '))\n",
    "    result = 10 / number\n",
    "except ValueError:\n",
    "    print(\"Please enter a valid number\")\n",
    "except ZeroDivisionError:\n",
    "    print(\"Division by zero is not allowed!\")\n",
    "else:\n",
    "    print(\"Your Number is\",number)"
   ]
  },
  {
   "cell_type": "markdown",
   "id": "d6f8ef9f-9cd4-4a07-a471-62d7569a457b",
   "metadata": {},
   "source": [
    "> ### Try Except Finally\n",
    ">\n",
    "> The `finally` clause in Python is used to define a block of code that will always be executed, regardless of whether an exception was raised in the `try` block or not.\n",
    ">\n",
    "> This is useful for ensuring that certain cleanup operations are always performed, such as closing files or releasing resources."
   ]
  },
  {
   "cell_type": "code",
   "execution_count": 11,
   "id": "be454f1f-3166-4a38-b9cd-4453ea864755",
   "metadata": {},
   "outputs": [
    {
     "name": "stdin",
     "output_type": "stream",
     "text": [
      "Enter a number:  10\n"
     ]
    },
    {
     "name": "stdout",
     "output_type": "stream",
     "text": [
      "Finally will always be printed\n"
     ]
    }
   ],
   "source": [
    "try:\n",
    "    number = int(input(\"Enter a number: \"))\n",
    "    result = 10/number\n",
    "except ValueError:\n",
    "    print(\"Please enter a valid number.\")\n",
    "except ZeroDivisionError:\n",
    "    print(\"Division by zero is not allowed!\")\n",
    "finally:\n",
    "    print(\"Finally will always be printed\")"
   ]
  },
  {
   "cell_type": "markdown",
   "id": "9b5e3351-83db-45b6-80b8-75427fdf1ac5",
   "metadata": {},
   "source": [
    "## References"
   ]
  },
  {
   "cell_type": "markdown",
   "id": "903f1613-8f2d-46bb-9bfe-619cf7d7f8ae",
   "metadata": {},
   "source": [
    "> 1. https://docs.python.org/3/library/exceptions.html\n",
    "> 2. https://docs.python.org/3/tutorial/errors.html\n",
    "> 3. https://www.w3schools.com/python/python_try_except.asp\n",
    "> 4. https://www.geeksforgeeks.org/python-exception-handling/\n",
    "> 5. https://www.tutorialspoint.com/python/python_exceptions.htm"
   ]
  }
 ],
 "metadata": {
  "kernelspec": {
   "display_name": "Python 3 (ipykernel)",
   "language": "python",
   "name": "python3"
  },
  "language_info": {
   "codemirror_mode": {
    "name": "ipython",
    "version": 3
   },
   "file_extension": ".py",
   "mimetype": "text/x-python",
   "name": "python",
   "nbconvert_exporter": "python",
   "pygments_lexer": "ipython3",
   "version": "3.10.9"
  }
 },
 "nbformat": 4,
 "nbformat_minor": 5
}
