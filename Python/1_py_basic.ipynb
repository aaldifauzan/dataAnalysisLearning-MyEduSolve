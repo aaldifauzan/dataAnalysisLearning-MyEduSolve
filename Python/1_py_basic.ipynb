{
 "cells": [
  {
   "cell_type": "markdown",
   "id": "045efac0-c14f-4de4-9656-8c574a27f7f6",
   "metadata": {
    "tags": []
   },
   "source": [
    "## Introduction to Python"
   ]
  },
  {
   "cell_type": "markdown",
   "id": "e5f19419-d181-46f5-9ce4-778a526ea79b",
   "metadata": {},
   "source": [
    "> ### Python Syntax\n",
    ">\n",
    "> Python syntax can be executed by writing directly in the **Command Line**:\n",
    ">\n",
    "> ``print(\"Hello World\")``\n",
    ">\n",
    "> ``Hello World!``"
   ]
  },
  {
   "cell_type": "code",
   "execution_count": 12,
   "id": "f1b89e8c-b3b2-471c-8393-84e5abe56cb2",
   "metadata": {},
   "outputs": [
    {
     "name": "stdout",
     "output_type": "stream",
     "text": [
      "Hello World!\n"
     ]
    }
   ],
   "source": [
    "print(\"Hello World!\")"
   ]
  },
  {
   "cell_type": "markdown",
   "id": "8598f238-b3c3-4e2e-8a79-ee45fe12221f",
   "metadata": {},
   "source": [
    "> ### Python Comments\n",
    ">\n",
    ">Comments can be used to explain Python code. Comments can be used to make the code more readable. Comments can be used to prevent execution when testing code.\n",
    ">\n",
    ">Comments starts with a #, and Python will ignore them:\n",
    ">\n",
    ">``#This is a comment``\n",
    ">\n",
    "> ``print(\"Hello, World!\")``\n",
    ">\n",
    ">Comments can be placed at the end of a line, and Python will ignore the rest of the line:\n",
    ">\n",
    "> ``print(\"Hello, World!\") #This is a comment``"
   ]
  },
  {
   "cell_type": "code",
   "execution_count": 13,
   "id": "a8b20a1b-e46c-4d57-b4f3-97537835eddc",
   "metadata": {},
   "outputs": [
    {
     "name": "stdout",
     "output_type": "stream",
     "text": [
      "Hello World 1!\n",
      "Hello World 2!\n"
     ]
    }
   ],
   "source": [
    "# fungsi comment\n",
    "print(\"Hello World 1!\") #code 1\n",
    "print(\"Hello World 2!\") #code 2"
   ]
  },
  {
   "cell_type": "markdown",
   "id": "82be6af9-25e4-4668-b657-0c10ba3ff5a8",
   "metadata": {},
   "source": [
    "> ### Multiline Comments\n",
    ">Python does not really have a syntax for multiline comments.\n",
    "To add a multiline comment you could insert a # for each line:\n",
    ">\n",
    "> Or, not quite as intended, you can use a multiline string.\n",
    ">Since Python will ignore string literals that are not assigned to a variable, you can add a multiline string (triple quotes) in your code, and place your comment inside it:\n",
    ">\n",
    ">``\"\"\"\n",
    "This is a comment\n",
    "written in\n",
    "more than just one line\n",
    "\"\"\"``"
   ]
  },
  {
   "cell_type": "code",
   "execution_count": 14,
   "id": "214fce1e-dbec-447f-8946-f2558b61dfd0",
   "metadata": {},
   "outputs": [
    {
     "name": "stdout",
     "output_type": "stream",
     "text": [
      "Hello, World!\n"
     ]
    }
   ],
   "source": [
    "\"\"\"\n",
    "This is a comment\n",
    "written in\n",
    "more than just one line\n",
    "\"\"\"\n",
    "print(\"Hello, World!\")"
   ]
  },
  {
   "cell_type": "markdown",
   "id": "c4e7728e-ad6f-4192-8b43-df4619482146",
   "metadata": {
    "tags": []
   },
   "source": [
    ">### Python Case Style\n",
    ">**Snake case** separates each word with an underscore character (_).\n",
    ">\n",
    ">When using snake case, all letters need to be lowercase. Snake case is used for creating variable and method names.Snake case is also a good choice for naming files, as it keeps names readable. You will typically encounter it the most when programming in Python and not so much when programming in Java, JavaScript, or TypeScript.You will also come across it when working with databases, as it is used for creating table and column names.\n",
    ">\n",
    "> There is also an all-caps version of the snake case where all letters are in the upper case - also known as the screaming snake case."
   ]
  },
  {
   "cell_type": "code",
   "execution_count": 15,
   "id": "22c318d0-91fb-492b-897a-e4a263c1c327",
   "metadata": {},
   "outputs": [
    {
     "name": "stdout",
     "output_type": "stream",
     "text": [
      "snake_case_example\n",
      "var_b\n",
      "hello_world\n",
      "variable_a\n"
     ]
    }
   ],
   "source": [
    "print(\"snake_case_example\")\n",
    "print(\"var_b\")\n",
    "print(\"hello_world\")\n",
    "print(\"variable_a\")"
   ]
  },
  {
   "cell_type": "markdown",
   "id": "0a7e362b-750b-406a-8560-6b00a6b3d59b",
   "metadata": {},
   "source": [
    "> **Camel Case** When using camel case, you start by making the first word lowercase. Then, you capitalize the first letter of each word that follows.\n",
    ">\n",
    ">So, a capital letter appears at the start of the second word and at each new subsequent word that follows it. In the example numberOfDonuts, the first word number is lowercase. Then, the first letter of the second word, Of, is capitalized, as is the first letter of the third word, Donuts. You will encounter camel case in Java, JavaScript, and TypeScript for creating variable, function, and method names."
   ]
  },
  {
   "cell_type": "code",
   "execution_count": 16,
   "id": "95f131a0-c426-42dd-90d7-90c6f2225701",
   "metadata": {},
   "outputs": [
    {
     "name": "stdout",
     "output_type": "stream",
     "text": [
      "CamelCaseExample\n",
      "helloWorld\n",
      "HelloWorld\n",
      "VariableA\n"
     ]
    }
   ],
   "source": [
    "print(\"CamelCaseExample\")\n",
    "print(\"helloWorld\")\n",
    "print(\"HelloWorld\")\n",
    "print(\"VariableA\")"
   ]
  },
  {
   "cell_type": "markdown",
   "id": "9f61595a-7e54-4aea-baf0-e611893dba3f",
   "metadata": {},
   "source": [
    ">The **Dash Case/Kebab Case** is very similar to snake case.\n",
    ">\n",
    ">The difference between snake case and kebab case is that kebab case separates each word with a dash character, -, instead of an underscore. So, all words are lowercase, and each word gets separated by a dash. The kebab case is another one of the most human-readable ways of combining multiple words into a single word."
   ]
  },
  {
   "cell_type": "code",
   "execution_count": 17,
   "id": "7c63a240-87ae-4236-a85b-4b896b60b42f",
   "metadata": {},
   "outputs": [
    {
     "name": "stdout",
     "output_type": "stream",
     "text": [
      "dash-case-example\n",
      "variable-a\n"
     ]
    }
   ],
   "source": [
    "print(\"dash-case-example\")\n",
    "print(\"variable-a\")"
   ]
  },
  {
   "cell_type": "markdown",
   "id": "1fd84bb9-2880-4d86-8adc-3707eaa4f693",
   "metadata": {},
   "source": [
    "## REFERENCES"
   ]
  },
  {
   "cell_type": "markdown",
   "id": "027fbcaa-4ac4-4411-bc08-f4ef0ce2079d",
   "metadata": {},
   "source": [
    "1. https://www.w3schools.com/python/python_comments.asp\n",
    "2. https://www.freecodecamp.org/news/snake-case-vs-camel-case-vs-pascal-case-vs-kebab-case-whats-the-difference/#snake-case\n",
    "3. https://google.github.io/styleguide/pyguide.html"
   ]
  },
  {
   "cell_type": "code",
   "execution_count": null,
   "id": "4009dbf4-9b6d-425b-98ee-2ae610df842d",
   "metadata": {},
   "outputs": [],
   "source": []
  }
 ],
 "metadata": {
  "kernelspec": {
   "display_name": "Python 3 (ipykernel)",
   "language": "python",
   "name": "python3"
  },
  "language_info": {
   "codemirror_mode": {
    "name": "ipython",
    "version": 3
   },
   "file_extension": ".py",
   "mimetype": "text/x-python",
   "name": "python",
   "nbconvert_exporter": "python",
   "pygments_lexer": "ipython3",
   "version": "3.10.9"
  }
 },
 "nbformat": 4,
 "nbformat_minor": 5
}
