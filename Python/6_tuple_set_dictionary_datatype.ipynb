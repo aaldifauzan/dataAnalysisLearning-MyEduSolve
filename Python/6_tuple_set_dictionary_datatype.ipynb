{
 "cells": [
  {
   "cell_type": "markdown",
   "id": "941eeb2f-aa75-48cd-a777-b0ec5e6f666b",
   "metadata": {},
   "source": [
    "## Python Tuple, Set & Dictionary Datatype"
   ]
  },
  {
   "cell_type": "markdown",
   "id": "ac0cd3b2-0346-43a0-b5a7-4057090628e8",
   "metadata": {},
   "source": [
    "> ## **Tuple**\n",
    "> A tuple in Python is similiar to a list. The difference between the two is that tuples are immutable, meaning their elements cannot be modified after creation. Tuples are defined by enclosing the elements in the parentheses `()`.\n",
    ">\n",
    "> Lets dive into each topic with detailed explanations and example"
   ]
  },
  {
   "cell_type": "code",
   "execution_count": 1,
   "id": "35d6e4b5-746e-4aa0-802d-5d47e586ee3c",
   "metadata": {},
   "outputs": [],
   "source": [
    "# Creating a tuple\n",
    "sample_tuple = (10,20,30,40,50)"
   ]
  },
  {
   "cell_type": "markdown",
   "id": "9821398a-f222-441c-823f-d1d44c37e07d",
   "metadata": {},
   "source": [
    "> ### Accessing Element\n",
    "> Accessing elements in a tuple is similar to accessing elements in a list\n",
    ">\n",
    "> You can use the index of the element inside square brackets to access"
   ]
  },
  {
   "cell_type": "code",
   "execution_count": 2,
   "id": "9876dbd6-3168-4f3b-9c9f-f945f2403e4a",
   "metadata": {},
   "outputs": [
    {
     "data": {
      "text/plain": [
       "(10, 30)"
      ]
     },
     "execution_count": 2,
     "metadata": {},
     "output_type": "execute_result"
    }
   ],
   "source": [
    "sample_tuple = (10,20,30,40,50)\n",
    "# Accessing the first element\n",
    "first_element = sample_tuple[0]\n",
    "\n",
    "# Accessing the third element\n",
    "third_element = sample_tuple[2]\n",
    "\n",
    "first_element, third_element"
   ]
  },
  {
   "cell_type": "markdown",
   "id": "81492909-b80c-489b-bcb5-3d756b6f08a9",
   "metadata": {},
   "source": [
    "> ### Indexing and Slicing\n",
    "> Indexing in tuples works the same way as in lists. You can use positive indices to access elements from the beginning of the tuple and negative indices to access element\n",
    ">\n",
    "> You can use the index of the element inside square brackets to access elements from the end of the tuple.\n",
    ">\n",
    "> Slicing in tuples allows you to obtain a subset of the tuple. It is done by specifying two indices separated by a colon `:`. The returned tuple will start from the first index and go up (but not include) the second index."
   ]
  },
  {
   "cell_type": "code",
   "execution_count": 3,
   "id": "c3f306d8-9a3b-4f8f-a9b5-302dcb329bed",
   "metadata": {},
   "outputs": [
    {
     "data": {
      "text/plain": [
       "(50, 40)"
      ]
     },
     "execution_count": 3,
     "metadata": {},
     "output_type": "execute_result"
    }
   ],
   "source": [
    "last_element = sample_tuple[-1]\n",
    "second_last_element = sample_tuple[-2]\n",
    "\n",
    "last_element,second_last_element"
   ]
  },
  {
   "cell_type": "code",
   "execution_count": 4,
   "id": "10b58b5d-d494-4635-809b-616686bc1169",
   "metadata": {},
   "outputs": [
    {
     "data": {
      "text/plain": [
       "(20, 30, 40)"
      ]
     },
     "execution_count": 4,
     "metadata": {},
     "output_type": "execute_result"
    }
   ],
   "source": [
    "sliced_tuple = sample_tuple[1:4]\n",
    "sliced_tuple"
   ]
  },
  {
   "cell_type": "markdown",
   "id": "b6e63be2-47df-48a5-acfa-97149d8591e1",
   "metadata": {},
   "source": [
    "> ### Tuple Method\n",
    "> Tuple has a limited of methods compared to lists due to their immutable nature\n",
    ">\n",
    "> The two main methods available for tuples are `count()` and `index()`. Lets explore these methods."
   ]
  },
  {
   "cell_type": "code",
   "execution_count": 5,
   "id": "dca6e4dc-78aa-48a9-888b-b2fa6d28fd2e",
   "metadata": {},
   "outputs": [
    {
     "data": {
      "text/plain": [
       "1"
      ]
     },
     "execution_count": 5,
     "metadata": {},
     "output_type": "execute_result"
    }
   ],
   "source": [
    "sample_tuple = (10,20,30,40,50)\n",
    "count_of_20 = sample_tuple.count(20)\n",
    "\n",
    "count_of_20"
   ]
  },
  {
   "cell_type": "code",
   "execution_count": 6,
   "id": "28b247a5-31b0-4904-a191-72c4a2400716",
   "metadata": {},
   "outputs": [
    {
     "data": {
      "text/plain": [
       "3"
      ]
     },
     "execution_count": 6,
     "metadata": {},
     "output_type": "execute_result"
    }
   ],
   "source": [
    "sample_tuple = (10,20,30,40,50)\n",
    "index_of_40 = sample_tuple.index(40)\n",
    "\n",
    "index_of_40"
   ]
  },
  {
   "cell_type": "markdown",
   "id": "5ee9abef-57da-4bb0-9606-e98c3f60b3ad",
   "metadata": {},
   "source": [
    "> ### Check Item\n",
    "> To determine if a specific item is present in a tuple, you can use the `in` keyword, similar to lists."
   ]
  },
  {
   "cell_type": "code",
   "execution_count": 7,
   "id": "d2a67339-dc21-4dcc-be94-2017743ef6d8",
   "metadata": {},
   "outputs": [
    {
     "data": {
      "text/plain": [
       "(True, False)"
      ]
     },
     "execution_count": 7,
     "metadata": {},
     "output_type": "execute_result"
    }
   ],
   "source": [
    "is_30_present = 30 in sample_tuple\n",
    "is_100_present = 100 in sample_tuple\n",
    "\n",
    "is_30_present, is_100_present"
   ]
  },
  {
   "cell_type": "markdown",
   "id": "5a6dd2bb-a8cf-44cb-8b16-085cb09f5290",
   "metadata": {},
   "source": [
    "> ### Tuple Vs List\n",
    "> Both tuples and lists are used to store collections of items.\n",
    ">\n",
    "> However, they are some key differences between them:\n",
    ">\n",
    "> 1. **Mutability**: Lists are mutable, meaning you can modify their content. Tuples, on the other hand, are immutable, meaning once they are > created, you cannot modify them.\n",
    "> 2. **Syntax**: Lists are created using square brackets `[]`, while tuples are created using parentheses `()`.\n",
    "> 3. **Methods**: Lists have several built-in methods like `append()`,`remove()`, etc. Tuples have a limited set of methods.\n",
    "> 4. **Use Cases**: Tuples are generally used for hetergeneous (different) data types and lists for homogeneous (similar) data types. Tuples can be used as keys in dictionaries, while lists cannot."
   ]
  },
  {
   "cell_type": "markdown",
   "id": "92421aa9-dfae-48b0-bc4a-2fa7a1a1bdf7",
   "metadata": {},
   "source": [
    "> ## **Set**\n",
    "> A set in Python is an unordered collection of unique items. Sets are defined by enclosing the elements in curly braces `{}`.\n",
    ">\n",
    "> Sets are mutable, meaning you can add and remove items from them.\n",
    ">\n",
    "> However, since sets are unordered, they do not support indexing or slicing like lists and tuples. Lets dive into each topic with detailed explanation and examples."
   ]
  },
  {
   "cell_type": "code",
   "execution_count": 8,
   "id": "07f2f229-d653-482e-96fe-27ea0e0806b5",
   "metadata": {},
   "outputs": [],
   "source": [
    "# Creating a set\n",
    "sample_set = {1, 2, 3, 4, 5}"
   ]
  },
  {
   "cell_type": "code",
   "execution_count": 9,
   "id": "7eb6914d-a90d-40c2-8fbc-2c06fc09ee57",
   "metadata": {},
   "outputs": [
    {
     "data": {
      "text/plain": [
       "{1, 2, 3, 4, 5}"
      ]
     },
     "execution_count": 9,
     "metadata": {},
     "output_type": "execute_result"
    }
   ],
   "source": [
    "sample_set"
   ]
  },
  {
   "cell_type": "markdown",
   "id": "e9066f9e-3a49-4af7-8443-178fee7964ce",
   "metadata": {},
   "source": [
    "> One of the key characteristics of a set is that it cannot have duplicate items. If you try to create a set with duplicate items. Python will automatically remove the duplicates"
   ]
  },
  {
   "cell_type": "code",
   "execution_count": 10,
   "id": "34d82816-064b-4eed-9719-6a422934a8dd",
   "metadata": {},
   "outputs": [
    {
     "data": {
      "text/plain": [
       "{1, 2, 3, 4, 5}"
      ]
     },
     "execution_count": 10,
     "metadata": {},
     "output_type": "execute_result"
    }
   ],
   "source": [
    "set_with_duplicates = {1, 2, 2, 3, 4, 4, 5}\n",
    "set_with_duplicates"
   ]
  },
  {
   "cell_type": "markdown",
   "id": "3523db56-98db-424a-985e-55dbe2d0ecdc",
   "metadata": {},
   "source": [
    "> ### Add and Update Set Items\n",
    "> You can add an item to a set using the `add()` method.\n",
    ">\n",
    "> If you want to add multiple items, you can use the `update()` method. Lets see how to use these methods"
   ]
  },
  {
   "cell_type": "code",
   "execution_count": 11,
   "id": "18ccfad7-fc26-403c-9311-562ba21478bd",
   "metadata": {},
   "outputs": [
    {
     "data": {
      "text/plain": [
       "{1, 2, 3, 4, 5, 6}"
      ]
     },
     "execution_count": 11,
     "metadata": {},
     "output_type": "execute_result"
    }
   ],
   "source": [
    "# Adding a single item to the set using add() method\n",
    "sample_set.add(6)\n",
    "sample_set"
   ]
  },
  {
   "cell_type": "code",
   "execution_count": 12,
   "id": "77ead001-4dbf-4f44-ba66-6c0be3fb80fa",
   "metadata": {},
   "outputs": [
    {
     "data": {
      "text/plain": [
       "{1, 2, 3, 4, 5, 6, 7, 8, 9}"
      ]
     },
     "execution_count": 12,
     "metadata": {},
     "output_type": "execute_result"
    }
   ],
   "source": [
    "# Adding a multiple items to the set using update() method\n",
    "sample_set.update([7, 8, 9])\n",
    "sample_set"
   ]
  },
  {
   "cell_type": "markdown",
   "id": "6820c97c-31e7-40e1-a343-14ccfc580923",
   "metadata": {},
   "source": [
    "> ### Removing Items\n",
    "> You can remove an item from a set using the `remove()` or `discard()`methods.\n",
    ">\n",
    "> The difference between the two is that `remove()` will raise an error if the specified item is not found in the set, while `discard()` will not. Lets see how to use these methods."
   ]
  },
  {
   "cell_type": "code",
   "execution_count": 13,
   "id": "6698ed8c-cc1c-4922-9f1d-4e5a52172545",
   "metadata": {},
   "outputs": [],
   "source": [
    "# Removing an item using remove() method\n",
    "sample_set.remove(6)"
   ]
  },
  {
   "cell_type": "code",
   "execution_count": 14,
   "id": "8934a489-d6ce-492f-b132-f9ff996ff08e",
   "metadata": {},
   "outputs": [
    {
     "data": {
      "text/plain": [
       "{1, 2, 3, 4, 5, 7, 8, 9}"
      ]
     },
     "execution_count": 14,
     "metadata": {},
     "output_type": "execute_result"
    }
   ],
   "source": [
    "sample_set"
   ]
  },
  {
   "cell_type": "code",
   "execution_count": 15,
   "id": "482371dd-6cde-4a57-a099-24e75d48798a",
   "metadata": {},
   "outputs": [],
   "source": [
    "# Removing an item using discard() method\n",
    "sample_set.discard(7)"
   ]
  },
  {
   "cell_type": "code",
   "execution_count": 16,
   "id": "0f027c1d-7e4a-487e-b800-1eb9cad6f043",
   "metadata": {},
   "outputs": [
    {
     "data": {
      "text/plain": [
       "{1, 2, 3, 4, 5, 8, 9}"
      ]
     },
     "execution_count": 16,
     "metadata": {},
     "output_type": "execute_result"
    }
   ],
   "source": [
    "sample_set"
   ]
  },
  {
   "cell_type": "markdown",
   "id": "725009e6-2a56-45f4-9145-2d8da1bea0c8",
   "metadata": {},
   "source": [
    "> ### Set Methods\n",
    "> \n",
    "> Python provides several built-in functions that can be used with sets\n",
    ">\n",
    "> Some of the commonly functions used functions are `len()`,`max()`,`min()`, and `sorted()`.\n",
    ">\n",
    "> More on this: [set_methods](https://www.w3schools.com/python/python_sets_methods.asp)"
   ]
  },
  {
   "cell_type": "code",
   "execution_count": 17,
   "id": "b29e776f-c917-4a51-ae8c-08506dbe0ea0",
   "metadata": {},
   "outputs": [
    {
     "data": {
      "text/plain": [
       "7"
      ]
     },
     "execution_count": 17,
     "metadata": {},
     "output_type": "execute_result"
    }
   ],
   "source": [
    "sample_set = {1, 2, 3, 4, 5, 8, 9}\n",
    "set_length = len(sample_set)\n",
    "\n",
    "set_length"
   ]
  },
  {
   "cell_type": "code",
   "execution_count": 18,
   "id": "e647c880-a268-4203-a02a-7e3580811370",
   "metadata": {},
   "outputs": [
    {
     "data": {
      "text/plain": [
       "9"
      ]
     },
     "execution_count": 18,
     "metadata": {},
     "output_type": "execute_result"
    }
   ],
   "source": [
    "sample_set = {1, 2, 3, 4, 5, 8, 9}\n",
    "max_value = max(sample_set)\n",
    "\n",
    "max_value"
   ]
  },
  {
   "cell_type": "code",
   "execution_count": 19,
   "id": "e3b7b61d-9fa0-48ca-9da3-f00e207e207b",
   "metadata": {},
   "outputs": [
    {
     "data": {
      "text/plain": [
       "1"
      ]
     },
     "execution_count": 19,
     "metadata": {},
     "output_type": "execute_result"
    }
   ],
   "source": [
    "sample_set = {1, 2, 3, 4, 5, 8, 9}\n",
    "min_value = min(sample_set)\n",
    "\n",
    "min_value"
   ]
  },
  {
   "cell_type": "code",
   "execution_count": 20,
   "id": "38568026-d262-4bfe-b8a9-95af974a9246",
   "metadata": {},
   "outputs": [
    {
     "data": {
      "text/plain": [
       "[1, 2, 3, 4, 5, 8, 9]"
      ]
     },
     "execution_count": 20,
     "metadata": {},
     "output_type": "execute_result"
    }
   ],
   "source": [
    "sample_set = {1, 2, 3, 4, 5, 8, 9}\n",
    "sorted_set = sorted(sample_set)\n",
    "\n",
    "sorted_set"
   ]
  },
  {
   "cell_type": "code",
   "execution_count": 21,
   "id": "2a7b0786-baaa-41b5-b99b-b28478876509",
   "metadata": {},
   "outputs": [],
   "source": [
    "# Defining two sets\n",
    "set_A = {1, 2, 3, 4, 5}\n",
    "set_B = {4, 5, 6, 7, 8}\n",
    "set_C = {1, 2, 3}\n",
    "set_D = {4, 5, 6}"
   ]
  },
  {
   "cell_type": "code",
   "execution_count": 22,
   "id": "0e131e14-133a-4143-a67f-b377cce0db2c",
   "metadata": {},
   "outputs": [
    {
     "data": {
      "text/plain": [
       "True"
      ]
     },
     "execution_count": 22,
     "metadata": {},
     "output_type": "execute_result"
    }
   ],
   "source": [
    "# Checking if two sets have no elements in common\n",
    "are_sets_disjoint = set_C.isdisjoint(set_D)\n",
    "are_sets_disjoint"
   ]
  },
  {
   "cell_type": "code",
   "execution_count": 23,
   "id": "1ee51d2b-259c-40f8-b0fb-0321a05a647a",
   "metadata": {},
   "outputs": [],
   "source": [
    "set_A = {1, 2, 3, 4, 5}\n",
    "set_B = {4, 5, 6, 7, 8}\n",
    "set_C = {1, 2, 3}\n",
    "set_D = {4, 5, 6}"
   ]
  },
  {
   "cell_type": "code",
   "execution_count": 24,
   "id": "850a9dc9-7f97-456e-a0e2-a8f4b4dfc250",
   "metadata": {},
   "outputs": [
    {
     "data": {
      "text/plain": [
       "(False, True)"
      ]
     },
     "execution_count": 24,
     "metadata": {},
     "output_type": "execute_result"
    }
   ],
   "source": [
    "# Checking if one set is a subset of another\n",
    "is_C_subset_of_D = set_C.issubset(set_D)\n",
    "is_C_subset_of_A = set_C.issubset(set_A)\n",
    "is_C_subset_of_D, is_C_subset_of_A"
   ]
  },
  {
   "cell_type": "code",
   "execution_count": 25,
   "id": "043503fe-c343-4625-9f06-88e2ead4fc50",
   "metadata": {},
   "outputs": [],
   "source": [
    "# Defining two sets\n",
    "set_A = {1, 2, 3, 4, 5}\n",
    "set_B = {4, 5, 6, 7, 8}\n",
    "set_C = {1, 2, 3}\n",
    "set_D = {4, 5, 6}"
   ]
  },
  {
   "cell_type": "code",
   "execution_count": 26,
   "id": "53c958e8-2f48-42fe-9da5-8f99a1ab6e15",
   "metadata": {},
   "outputs": [
    {
     "data": {
      "text/plain": [
       "True"
      ]
     },
     "execution_count": 26,
     "metadata": {},
     "output_type": "execute_result"
    }
   ],
   "source": [
    "# Checking if one set is a superset of another\n",
    "is_A_superset_of_C = set_A.issuperset(set_C)\n",
    "is_A_superset_of_C"
   ]
  },
  {
   "cell_type": "markdown",
   "id": "ef21f8f5-6e61-4d6c-9f18-b4ead710ebae",
   "metadata": {},
   "source": [
    "> ### Set Operations\n",
    ">\n",
    "> Sets in Python supports various operators like union, intersection, difference, and symmetric difference.\n",
    ">\n",
    "> These operations can be performed using methods or operators. Lets explore these operations."
   ]
  },
  {
   "cell_type": "code",
   "execution_count": 27,
   "id": "728a4ce3-c477-4fd3-b76d-c9a3735cd110",
   "metadata": {},
   "outputs": [
    {
     "data": {
      "text/plain": [
       "{1, 2, 3, 4, 5, 6, 7, 8}"
      ]
     },
     "execution_count": 27,
     "metadata": {},
     "output_type": "execute_result"
    }
   ],
   "source": [
    "set_A = {1, 2, 3, 4, 5}\n",
    "set_B = {4, 5, 6, 7, 8}\n",
    "\n",
    "union_set = set_A | set_B\n",
    "union_set"
   ]
  },
  {
   "cell_type": "code",
   "execution_count": 28,
   "id": "77c2ebc2-1c2e-4147-a3c4-4b2bc91cb730",
   "metadata": {},
   "outputs": [
    {
     "data": {
      "text/plain": [
       "{4, 5}"
      ]
     },
     "execution_count": 28,
     "metadata": {},
     "output_type": "execute_result"
    }
   ],
   "source": [
    "set_A = {1, 2, 3, 4, 5}\n",
    "set_B = {4, 5, 6, 7, 8}\n",
    "\n",
    "intesection_set = set_A & set_B\n",
    "intesection_set"
   ]
  },
  {
   "cell_type": "code",
   "execution_count": 29,
   "id": "383c8e7e-7fba-4812-aabb-7a862be6968c",
   "metadata": {},
   "outputs": [
    {
     "data": {
      "text/plain": [
       "{1, 2, 3}"
      ]
     },
     "execution_count": 29,
     "metadata": {},
     "output_type": "execute_result"
    }
   ],
   "source": [
    "set_A = {1, 2, 3, 4, 5}\n",
    "set_B = {4, 5, 6, 7, 8}\n",
    "\n",
    "difference_set = set_A - set_B\n",
    "difference_set"
   ]
  },
  {
   "cell_type": "code",
   "execution_count": 30,
   "id": "9b06f151-b072-406f-9cb5-a9ca7bd0360f",
   "metadata": {},
   "outputs": [
    {
     "data": {
      "text/plain": [
       "{1, 2, 3, 6, 7, 8}"
      ]
     },
     "execution_count": 30,
     "metadata": {},
     "output_type": "execute_result"
    }
   ],
   "source": [
    "set_A = {1, 2, 3, 4, 5}\n",
    "set_B = {4, 5, 6, 7, 8}\n",
    "\n",
    "symmetric_difference_set = set_A ^ set_B\n",
    "symmetric_difference_set"
   ]
  },
  {
   "cell_type": "markdown",
   "id": "18744a13-8f53-43b5-8b9a-20105390b5a8",
   "metadata": {},
   "source": [
    "> The union of two sets can be obtained using the `union()` method or the `|` operator. It returns a set containing all the elements from both sets, without any duplicates.\n",
    ">\n",
    "> The intersection of two sets can be obtained using the `intersection()` method or the `&` operator. It returns a set containing all the elements that are common to both sets.\n",
    ">\n",
    "> The difference of two sets can be obtained using the `difference()` method or the `-` operator. It returns a set containing all the elements that are present in the first set and not in the second set."
   ]
  },
  {
   "cell_type": "code",
   "execution_count": 31,
   "id": "f03dd431-7e53-4264-b5a6-0e9b548169c1",
   "metadata": {},
   "outputs": [
    {
     "data": {
      "text/plain": [
       "({1, 2, 3, 4, 5, 6, 7, 8}, {4, 5})"
      ]
     },
     "execution_count": 31,
     "metadata": {},
     "output_type": "execute_result"
    }
   ],
   "source": [
    "# Union of two sets using union() method\n",
    "union_using_method = set_A.union(set_B)\n",
    "\n",
    "# Intersection of two sets using intersection() method\n",
    "intersection_using_method = set_A.intersection(set_B)\n",
    "\n",
    "union_using_method, intersection_using_method"
   ]
  },
  {
   "cell_type": "code",
   "execution_count": 32,
   "id": "19064e50-b167-44a7-aae8-350ef8bb13ba",
   "metadata": {},
   "outputs": [
    {
     "data": {
      "text/plain": [
       "{1, 2, 3}"
      ]
     },
     "execution_count": 32,
     "metadata": {},
     "output_type": "execute_result"
    }
   ],
   "source": [
    "# Difference of two sets using difference() method\n",
    "difference_using_method = set_A.difference(set_B)\n",
    "difference_using_method"
   ]
  },
  {
   "cell_type": "markdown",
   "id": "42de02c9-be23-42b0-8807-1c6828b49b55",
   "metadata": {},
   "source": [
    "> ## **Dictionary**\n",
    "> A dictionary in Python is an unordered collection of items. It is a mutable data type that stores mappings of unique keys to values.\n",
    ">\n",
    "> Dictionaries are defined by enclosing a comma-separated sequence of key-value pairs in curly braces `{}`, with a colon `:` separating the keys and values."
   ]
  },
  {
   "cell_type": "code",
   "execution_count": 33,
   "id": "19c45286-c06b-4d37-828a-05c3a2a3fc58",
   "metadata": {},
   "outputs": [],
   "source": [
    "sample_dict = {\n",
    "    'name': 'John',\n",
    "    'age': 30,\n",
    "    'city': 'New York'\n",
    "}"
   ]
  },
  {
   "cell_type": "code",
   "execution_count": 34,
   "id": "12c8bf1c-781a-445f-9b4f-1994a4c709d4",
   "metadata": {},
   "outputs": [
    {
     "name": "stdout",
     "output_type": "stream",
     "text": [
      "{'name': 'John', 'age': 30, 'city': 'New York'}\n"
     ]
    },
    {
     "data": {
      "text/plain": [
       "3"
      ]
     },
     "execution_count": 34,
     "metadata": {},
     "output_type": "execute_result"
    }
   ],
   "source": [
    "print(sample_dict)\n",
    "len(sample_dict)"
   ]
  },
  {
   "cell_type": "markdown",
   "id": "dc12e7ff-c53d-480c-a3d7-77f52b4b46c8",
   "metadata": {},
   "source": [
    ">### Acessing Items and Changing Values\n",
    "> You can access the items of as dictionary by referring to its key name, inside square brackets `[]`, or using the `get()` method.\n",
    ">\n",
    "> You can also add new items to a dictionary by using a new index key and assigning a value to it. \n",
    ">\n",
    "> To remove items, you can use the `pop()` method, `popitem()` method, or the `del` keyword."
   ]
  },
  {
   "cell_type": "code",
   "execution_count": 35,
   "id": "3dc0ea56-a65d-45f2-8128-dcf7dad755d6",
   "metadata": {},
   "outputs": [],
   "source": [
    "# Accesing items using key name\n",
    "name = sample_dict['name']"
   ]
  },
  {
   "cell_type": "code",
   "execution_count": 36,
   "id": "faad22f5-460e-4f32-82c6-adb0eda195d7",
   "metadata": {},
   "outputs": [],
   "source": [
    "# Accesing items using get() method\n",
    "age = sample_dict.get('age')"
   ]
  },
  {
   "cell_type": "code",
   "execution_count": 37,
   "id": "6607c45a-73f1-40e4-bed2-fb5131dcbbc9",
   "metadata": {},
   "outputs": [
    {
     "name": "stdout",
     "output_type": "stream",
     "text": [
      "John 30\n"
     ]
    }
   ],
   "source": [
    "print(name,age)"
   ]
  },
  {
   "cell_type": "code",
   "execution_count": 38,
   "id": "5fdbf18e-d295-411c-9f04-d3c21953d0c4",
   "metadata": {},
   "outputs": [
    {
     "data": {
      "text/plain": [
       "{'name': 'John', 'age': 35, 'city': 'New York'}"
      ]
     },
     "execution_count": 38,
     "metadata": {},
     "output_type": "execute_result"
    }
   ],
   "source": [
    "# Changing the value of the 'age' key\n",
    "sample_dict['age'] = 35\n",
    "sample_dict"
   ]
  },
  {
   "cell_type": "code",
   "execution_count": 39,
   "id": "16219d97-6558-4f04-8b4a-918581d13c74",
   "metadata": {},
   "outputs": [
    {
     "data": {
      "text/plain": [
       "{'name': 'Lennon', 'age': 35, 'city': 'New York'}"
      ]
     },
     "execution_count": 39,
     "metadata": {},
     "output_type": "execute_result"
    }
   ],
   "source": [
    "# Changing the calue of the 'name' key\n",
    "sample_dict[\"name\"] =\"Lennon\"\n",
    "sample_dict"
   ]
  },
  {
   "cell_type": "code",
   "execution_count": 40,
   "id": "a4265b8c-e261-4222-a44c-89ef93153ade",
   "metadata": {},
   "outputs": [
    {
     "data": {
      "text/plain": [
       "{'name': 'Lennon', 'age': 35, 'city': 'New York', 'country': 'USA'}"
      ]
     },
     "execution_count": 40,
     "metadata": {},
     "output_type": "execute_result"
    }
   ],
   "source": [
    "# Adding a new item to the dictionary\n",
    "sample_dict['country'] = 'USA'\n",
    "sample_dict"
   ]
  },
  {
   "cell_type": "code",
   "execution_count": 41,
   "id": "8b4ff8be-842a-4e3b-b3a0-0892b7b7a363",
   "metadata": {},
   "outputs": [
    {
     "data": {
      "text/plain": [
       "'New York'"
      ]
     },
     "execution_count": 41,
     "metadata": {},
     "output_type": "execute_result"
    }
   ],
   "source": [
    "# Removing an item using pop()\n",
    "removed_city = sample_dict.pop('city')\n",
    "removed_city"
   ]
  },
  {
   "cell_type": "code",
   "execution_count": 42,
   "id": "a7390823-6653-4339-ba66-da2178554ef3",
   "metadata": {},
   "outputs": [
    {
     "data": {
      "text/plain": [
       "('country', 'USA')"
      ]
     },
     "execution_count": 42,
     "metadata": {},
     "output_type": "execute_result"
    }
   ],
   "source": [
    "# Removing the last inserted item using popitem()\n",
    "removed_item = sample_dict.popitem()\n",
    "removed_item"
   ]
  },
  {
   "cell_type": "code",
   "execution_count": 43,
   "id": "64d9e38b-a821-4fe7-9827-5ee0d39d92aa",
   "metadata": {},
   "outputs": [
    {
     "data": {
      "text/plain": [
       "{'name': 'Lennon'}"
      ]
     },
     "execution_count": 43,
     "metadata": {},
     "output_type": "execute_result"
    }
   ],
   "source": [
    "# Removing an item using del\n",
    "del sample_dict['age']\n",
    "sample_dict"
   ]
  },
  {
   "cell_type": "markdown",
   "id": "d43c7034-dbad-452a-b362-22483e555a7d",
   "metadata": {},
   "source": [
    "> ### Dictionary Method\n",
    "> Python provides a variety of methods that can be used with dictionaries.\n",
    ">\n",
    "> Some commonly used methods include `clear()`, `copy()`, `keys()`, `values()`, and `item()`.\n",
    ">\n",
    "> Lets see examples of [these methods](https://www.w3schools.com/python/python_dictionaries_methods.asp)"
   ]
  },
  {
   "cell_type": "code",
   "execution_count": 44,
   "id": "d803ee0a-875f-4873-8f42-7e04e442be34",
   "metadata": {},
   "outputs": [],
   "source": [
    "# Reinitializing the sample_dict\n",
    "sample_dict = {\n",
    "    'name' : 'john',\n",
    "    'age' : 35,\n",
    "    'city' : 'New York'\n",
    "}"
   ]
  },
  {
   "cell_type": "code",
   "execution_count": 45,
   "id": "924b1a47-0df3-4d5a-b30a-987a8c5010db",
   "metadata": {},
   "outputs": [
    {
     "data": {
      "text/plain": [
       "{'name': 'john', 'age': 35, 'city': 'New York'}"
      ]
     },
     "execution_count": 45,
     "metadata": {},
     "output_type": "execute_result"
    }
   ],
   "source": [
    "# Using the copy() method to create a copy of the dictionary\n",
    "copied_dict = sample_dict.copy()\n",
    "copied_dict"
   ]
  },
  {
   "cell_type": "code",
   "execution_count": 46,
   "id": "dab8c81e-29fc-4f3d-b2ce-1277b5555e88",
   "metadata": {},
   "outputs": [
    {
     "data": {
      "text/plain": [
       "dict_keys(['name', 'age', 'city'])"
      ]
     },
     "execution_count": 46,
     "metadata": {},
     "output_type": "execute_result"
    }
   ],
   "source": [
    "# Using the keys() method to get all the keys of the dictionary\n",
    "dict_keys = sample_dict.keys()\n",
    "dict_keys"
   ]
  },
  {
   "cell_type": "code",
   "execution_count": 47,
   "id": "031a9c1f-a941-4ac7-80ba-2c12be7fa401",
   "metadata": {},
   "outputs": [
    {
     "ename": "NameError",
     "evalue": "name 'dict_values' is not defined",
     "output_type": "error",
     "traceback": [
      "\u001b[1;31m---------------------------------------------------------------------------\u001b[0m",
      "\u001b[1;31mNameError\u001b[0m                                 Traceback (most recent call last)",
      "Cell \u001b[1;32mIn[47], line 2\u001b[0m\n\u001b[0;32m      1\u001b[0m \u001b[38;5;66;03m# Using the values() method to get all the values of the dictionarydict_values = sample_dict.values()\u001b[39;00m\n\u001b[1;32m----> 2\u001b[0m \u001b[43mdict_values\u001b[49m\n",
      "\u001b[1;31mNameError\u001b[0m: name 'dict_values' is not defined"
     ]
    }
   ],
   "source": [
    "# Using the values() method to get all the values of the dictionarydict_values = sample_dict.values()\n",
    "dict_values"
   ]
  },
  {
   "cell_type": "code",
   "execution_count": 48,
   "id": "ac7d50fe-7e2c-4c9b-a460-50badf3afbe1",
   "metadata": {},
   "outputs": [
    {
     "data": {
      "text/plain": [
       "dict_items([('name', 'john'), ('age', 35), ('city', 'New York')])"
      ]
     },
     "execution_count": 48,
     "metadata": {},
     "output_type": "execute_result"
    }
   ],
   "source": [
    "# Using the items() method to get all the items of the dictionary\n",
    "dict_items = sample_dict.items()\n",
    "dict_items"
   ]
  },
  {
   "cell_type": "code",
   "execution_count": 49,
   "id": "da7b18d0-6a45-4e55-8e64-8dea4ecad2ea",
   "metadata": {},
   "outputs": [
    {
     "data": {
      "text/plain": [
       "{}"
      ]
     },
     "execution_count": 49,
     "metadata": {},
     "output_type": "execute_result"
    }
   ],
   "source": [
    "# Using the clear() method to remove all items from the dictionary\n",
    "sample_dict.clear()\n",
    "sample_dict"
   ]
  },
  {
   "cell_type": "markdown",
   "id": "9a95b316-7b25-4883-b451-842b27ba4b1b",
   "metadata": {},
   "source": [
    "> ### Membership Check\n",
    "> You can check if a key is in dictionary by using the `in` keyword"
   ]
  },
  {
   "cell_type": "code",
   "execution_count": 50,
   "id": "ea0576e5-6649-48ff-ace9-4e26cfbb807a",
   "metadata": {},
   "outputs": [
    {
     "data": {
      "text/plain": [
       "(True, False)"
      ]
     },
     "execution_count": 50,
     "metadata": {},
     "output_type": "execute_result"
    }
   ],
   "source": [
    "is_name_in_dict = 'name' in copied_dict\n",
    "\n",
    "is_address_in_dict = 'address' in copied_dict\n",
    "\n",
    "is_name_in_dict, is_address_in_dict"
   ]
  },
  {
   "cell_type": "markdown",
   "id": "fd1406aa-d171-4ab6-9f3d-3f31c0279943",
   "metadata": {},
   "source": [
    "## References"
   ]
  },
  {
   "cell_type": "markdown",
   "id": "064fe34d-5623-4b9c-908e-b9b5450cc96b",
   "metadata": {},
   "source": [
    "> 1. https://docs.python.org/3/tutorial/datastructures.html\n",
    "> 2. https://www.geeksforgeeks.org/python-set-3-strings-lists-tuples-iterations/?ref=lbp\n",
    "> 3. https://realpython.com/python-sets/"
   ]
  }
 ],
 "metadata": {
  "kernelspec": {
   "display_name": "Python 3 (ipykernel)",
   "language": "python",
   "name": "python3"
  },
  "language_info": {
   "codemirror_mode": {
    "name": "ipython",
    "version": 3
   },
   "file_extension": ".py",
   "mimetype": "text/x-python",
   "name": "python",
   "nbconvert_exporter": "python",
   "pygments_lexer": "ipython3",
   "version": "3.10.9"
  }
 },
 "nbformat": 4,
 "nbformat_minor": 5
}
