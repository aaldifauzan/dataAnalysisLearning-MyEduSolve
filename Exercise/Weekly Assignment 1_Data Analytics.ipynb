{
 "cells": [
  {
   "cell_type": "markdown",
   "id": "b6f9fa0f-93d8-485c-8289-84e40e3161ce",
   "metadata": {},
   "source": [
    "## TAKE HOME TEST - DATA PREPARATION"
   ]
  },
  {
   "cell_type": "markdown",
   "id": "7433aedc-9b07-4d69-b8be-374a9852c7ac",
   "metadata": {},
   "source": [
    "> ### Objective: \n",
    "> - To demonstrate practical skills in data preprocessing by cleansing and preparing the data.\n",
    "> \n",
    "> ### Dataset: \n",
    "> - The Adult dataset, available at [UCI Machine Learning Repository - Adult Dataset](https://archive.ics.uci.edu/dataset/2/adult). \n",
    "> - The dataset aims to predict whether an individual's income exceeds $50K/yr based on census data."
   ]
  },
  {
   "cell_type": "markdown",
   "id": "2dce7ccc-ab50-44d4-a6de-0235d18946ea",
   "metadata": {},
   "source": [
    "### 1. DATA QUALITY ASSESSMENT\n",
    "> Load the dataset into a suitable data structure. \n",
    ">\n",
    "> Perform an initial inspection of the dataset, and identify:\n",
    "> - Number of rows and columns.\n",
    "> - Data types of each column.\n",
    "> - Missing values of each column.\n",
    "> - Any initial observations or issues you notice (if any)."
   ]
  },
  {
   "cell_type": "code",
   "execution_count": 1,
   "id": "2b565419-2e76-42ac-95d0-810f55a5658b",
   "metadata": {},
   "outputs": [],
   "source": [
    "import numpy as np\n",
    "import pandas as pd\n",
    "import seaborn as sns\n",
    "import matplotlib.pyplot as plt"
   ]
  },
  {
   "cell_type": "code",
   "execution_count": 2,
   "id": "54f7347b-e7d8-4eb5-ae33-873100d43f1f",
   "metadata": {},
   "outputs": [],
   "source": [
    "data = \"data/adult_csv.csv\"\n",
    "\n",
    "df = pd.read_csv(data)"
   ]
  },
  {
   "cell_type": "code",
   "execution_count": 3,
   "id": "fb0b0383-42ce-48cf-9d25-27549d92bf22",
   "metadata": {},
   "outputs": [
    {
     "name": "stdout",
     "output_type": "stream",
     "text": [
      "Rows x Columns: (48842, 15)\n"
     ]
    }
   ],
   "source": [
    "print(\"Rows x Columns:\", df.shape)"
   ]
  },
  {
   "cell_type": "code",
   "execution_count": 4,
   "id": "f54958ae-f082-412c-8ce5-3547bf628b56",
   "metadata": {},
   "outputs": [
    {
     "name": "stdout",
     "output_type": "stream",
     "text": [
      "<class 'pandas.core.frame.DataFrame'>\n",
      "RangeIndex: 48842 entries, 0 to 48841\n",
      "Data columns (total 15 columns):\n",
      " #   Column          Non-Null Count  Dtype \n",
      "---  ------          --------------  ----- \n",
      " 0   age             48842 non-null  int64 \n",
      " 1   workclass       46043 non-null  object\n",
      " 2   fnlwgt          48842 non-null  int64 \n",
      " 3   education       48842 non-null  object\n",
      " 4   education-num   48842 non-null  int64 \n",
      " 5   marital-status  48842 non-null  object\n",
      " 6   occupation      46033 non-null  object\n",
      " 7   relationship    48842 non-null  object\n",
      " 8   race            48842 non-null  object\n",
      " 9   sex             48842 non-null  object\n",
      " 10  capitalgain     48842 non-null  int64 \n",
      " 11  capitalloss     48842 non-null  int64 \n",
      " 12  hoursperweek    48842 non-null  int64 \n",
      " 13  native-country  47985 non-null  object\n",
      " 14  class           48842 non-null  object\n",
      "dtypes: int64(6), object(9)\n",
      "memory usage: 5.6+ MB\n"
     ]
    }
   ],
   "source": [
    "df.info()"
   ]
  },
  {
   "cell_type": "code",
   "execution_count": 5,
   "id": "f54803d4-bdc7-44b6-9670-892109c7597a",
   "metadata": {},
   "outputs": [
    {
     "data": {
      "text/plain": [
       "age                  0\n",
       "workclass         2799\n",
       "fnlwgt               0\n",
       "education            0\n",
       "education-num        0\n",
       "marital-status       0\n",
       "occupation        2809\n",
       "relationship         0\n",
       "race                 0\n",
       "sex                  0\n",
       "capitalgain          0\n",
       "capitalloss          0\n",
       "hoursperweek         0\n",
       "native-country     857\n",
       "class                0\n",
       "dtype: int64"
      ]
     },
     "execution_count": 5,
     "metadata": {},
     "output_type": "execute_result"
    }
   ],
   "source": [
    "df.isna().sum()"
   ]
  },
  {
   "cell_type": "code",
   "execution_count": 6,
   "id": "60d87bfa-8cdd-4768-bb0d-102f5604f47c",
   "metadata": {},
   "outputs": [
    {
     "data": {
      "text/html": [
       "<div>\n",
       "<style scoped>\n",
       "    .dataframe tbody tr th:only-of-type {\n",
       "        vertical-align: middle;\n",
       "    }\n",
       "\n",
       "    .dataframe tbody tr th {\n",
       "        vertical-align: top;\n",
       "    }\n",
       "\n",
       "    .dataframe thead th {\n",
       "        text-align: right;\n",
       "    }\n",
       "</style>\n",
       "<table border=\"1\" class=\"dataframe\">\n",
       "  <thead>\n",
       "    <tr style=\"text-align: right;\">\n",
       "      <th></th>\n",
       "      <th>age</th>\n",
       "      <th>workclass</th>\n",
       "      <th>fnlwgt</th>\n",
       "      <th>education</th>\n",
       "      <th>education-num</th>\n",
       "      <th>marital-status</th>\n",
       "      <th>occupation</th>\n",
       "      <th>relationship</th>\n",
       "      <th>race</th>\n",
       "      <th>sex</th>\n",
       "      <th>capitalgain</th>\n",
       "      <th>capitalloss</th>\n",
       "      <th>hoursperweek</th>\n",
       "      <th>native-country</th>\n",
       "      <th>class</th>\n",
       "    </tr>\n",
       "  </thead>\n",
       "  <tbody>\n",
       "    <tr>\n",
       "      <th>0</th>\n",
       "      <td>2</td>\n",
       "      <td>State-gov</td>\n",
       "      <td>77516</td>\n",
       "      <td>Bachelors</td>\n",
       "      <td>13</td>\n",
       "      <td>Never-married</td>\n",
       "      <td>Adm-clerical</td>\n",
       "      <td>Not-in-family</td>\n",
       "      <td>White</td>\n",
       "      <td>Male</td>\n",
       "      <td>1</td>\n",
       "      <td>0</td>\n",
       "      <td>2</td>\n",
       "      <td>United-States</td>\n",
       "      <td>&lt;=50K</td>\n",
       "    </tr>\n",
       "    <tr>\n",
       "      <th>1</th>\n",
       "      <td>3</td>\n",
       "      <td>Self-emp-not-inc</td>\n",
       "      <td>83311</td>\n",
       "      <td>Bachelors</td>\n",
       "      <td>13</td>\n",
       "      <td>Married-civ-spouse</td>\n",
       "      <td>Exec-managerial</td>\n",
       "      <td>Husband</td>\n",
       "      <td>White</td>\n",
       "      <td>Male</td>\n",
       "      <td>0</td>\n",
       "      <td>0</td>\n",
       "      <td>0</td>\n",
       "      <td>United-States</td>\n",
       "      <td>&lt;=50K</td>\n",
       "    </tr>\n",
       "    <tr>\n",
       "      <th>2</th>\n",
       "      <td>2</td>\n",
       "      <td>Private</td>\n",
       "      <td>215646</td>\n",
       "      <td>HS-grad</td>\n",
       "      <td>9</td>\n",
       "      <td>Divorced</td>\n",
       "      <td>Handlers-cleaners</td>\n",
       "      <td>Not-in-family</td>\n",
       "      <td>White</td>\n",
       "      <td>Male</td>\n",
       "      <td>0</td>\n",
       "      <td>0</td>\n",
       "      <td>2</td>\n",
       "      <td>United-States</td>\n",
       "      <td>&lt;=50K</td>\n",
       "    </tr>\n",
       "    <tr>\n",
       "      <th>3</th>\n",
       "      <td>3</td>\n",
       "      <td>Private</td>\n",
       "      <td>234721</td>\n",
       "      <td>11th</td>\n",
       "      <td>7</td>\n",
       "      <td>Married-civ-spouse</td>\n",
       "      <td>Handlers-cleaners</td>\n",
       "      <td>Husband</td>\n",
       "      <td>Black</td>\n",
       "      <td>Male</td>\n",
       "      <td>0</td>\n",
       "      <td>0</td>\n",
       "      <td>2</td>\n",
       "      <td>United-States</td>\n",
       "      <td>&lt;=50K</td>\n",
       "    </tr>\n",
       "    <tr>\n",
       "      <th>4</th>\n",
       "      <td>1</td>\n",
       "      <td>Private</td>\n",
       "      <td>338409</td>\n",
       "      <td>Bachelors</td>\n",
       "      <td>13</td>\n",
       "      <td>Married-civ-spouse</td>\n",
       "      <td>Prof-specialty</td>\n",
       "      <td>Wife</td>\n",
       "      <td>Black</td>\n",
       "      <td>Female</td>\n",
       "      <td>0</td>\n",
       "      <td>0</td>\n",
       "      <td>2</td>\n",
       "      <td>Cuba</td>\n",
       "      <td>&lt;=50K</td>\n",
       "    </tr>\n",
       "  </tbody>\n",
       "</table>\n",
       "</div>"
      ],
      "text/plain": [
       "   age         workclass  fnlwgt  education  education-num  \\\n",
       "0    2         State-gov   77516  Bachelors             13   \n",
       "1    3  Self-emp-not-inc   83311  Bachelors             13   \n",
       "2    2           Private  215646    HS-grad              9   \n",
       "3    3           Private  234721       11th              7   \n",
       "4    1           Private  338409  Bachelors             13   \n",
       "\n",
       "       marital-status         occupation   relationship   race     sex  \\\n",
       "0       Never-married       Adm-clerical  Not-in-family  White    Male   \n",
       "1  Married-civ-spouse    Exec-managerial        Husband  White    Male   \n",
       "2            Divorced  Handlers-cleaners  Not-in-family  White    Male   \n",
       "3  Married-civ-spouse  Handlers-cleaners        Husband  Black    Male   \n",
       "4  Married-civ-spouse     Prof-specialty           Wife  Black  Female   \n",
       "\n",
       "   capitalgain  capitalloss  hoursperweek native-country  class  \n",
       "0            1            0             2  United-States  <=50K  \n",
       "1            0            0             0  United-States  <=50K  \n",
       "2            0            0             2  United-States  <=50K  \n",
       "3            0            0             2  United-States  <=50K  \n",
       "4            0            0             2           Cuba  <=50K  "
      ]
     },
     "execution_count": 6,
     "metadata": {},
     "output_type": "execute_result"
    }
   ],
   "source": [
    "df.head()"
   ]
  },
  {
   "cell_type": "markdown",
   "id": "5e07abc2-2a28-4e60-ae2c-49a6961762fb",
   "metadata": {},
   "source": [
    "### 2. DATA TYPE TRANSFORMATION\n",
    "> Identify columns that are not of the appropriate data type:\n",
    "> - Suggest a more suitable data type for these columns.\n",
    "> - Transform the identified columns to the suggested data types."
   ]
  },
  {
   "cell_type": "code",
   "execution_count": 7,
   "id": "57ac8e7a-e03a-4232-a05b-db5fa7f28077",
   "metadata": {},
   "outputs": [
    {
     "name": "stdout",
     "output_type": "stream",
     "text": [
      "<class 'pandas.core.frame.DataFrame'>\n",
      "RangeIndex: 48842 entries, 0 to 48841\n",
      "Data columns (total 15 columns):\n",
      " #   Column          Non-Null Count  Dtype  \n",
      "---  ------          --------------  -----  \n",
      " 0   age             48842 non-null  int64  \n",
      " 1   workclass       46043 non-null  object \n",
      " 2   fnlwgt          48842 non-null  float64\n",
      " 3   education       48842 non-null  object \n",
      " 4   education-num   48842 non-null  int64  \n",
      " 5   marital-status  48842 non-null  object \n",
      " 6   occupation      46033 non-null  object \n",
      " 7   relationship    48842 non-null  object \n",
      " 8   race            48842 non-null  object \n",
      " 9   sex             48842 non-null  object \n",
      " 10  capitalgain     48842 non-null  int64  \n",
      " 11  capitalloss     48842 non-null  int64  \n",
      " 12  hoursperweek    48842 non-null  float64\n",
      " 13  native-country  47985 non-null  object \n",
      " 14  class           48842 non-null  object \n",
      "dtypes: float64(2), int64(4), object(9)\n",
      "memory usage: 5.6+ MB\n"
     ]
    }
   ],
   "source": [
    "columns_to_float = ['fnlwgt', 'hoursperweek']\n",
    "df[columns_to_float] = df[columns_to_float].astype(float)\n",
    "\n",
    "df.info()"
   ]
  },
  {
   "cell_type": "code",
   "execution_count": 8,
   "id": "eb28741c-76bd-4c7a-bf67-9592659029b0",
   "metadata": {},
   "outputs": [
    {
     "data": {
      "text/html": [
       "<div>\n",
       "<style scoped>\n",
       "    .dataframe tbody tr th:only-of-type {\n",
       "        vertical-align: middle;\n",
       "    }\n",
       "\n",
       "    .dataframe tbody tr th {\n",
       "        vertical-align: top;\n",
       "    }\n",
       "\n",
       "    .dataframe thead th {\n",
       "        text-align: right;\n",
       "    }\n",
       "</style>\n",
       "<table border=\"1\" class=\"dataframe\">\n",
       "  <thead>\n",
       "    <tr style=\"text-align: right;\">\n",
       "      <th></th>\n",
       "      <th>age</th>\n",
       "      <th>workclass</th>\n",
       "      <th>fnlwgt</th>\n",
       "      <th>education</th>\n",
       "      <th>education-num</th>\n",
       "      <th>marital-status</th>\n",
       "      <th>occupation</th>\n",
       "      <th>relationship</th>\n",
       "      <th>race</th>\n",
       "      <th>sex</th>\n",
       "      <th>capitalgain</th>\n",
       "      <th>capitalloss</th>\n",
       "      <th>hoursperweek</th>\n",
       "      <th>native-country</th>\n",
       "      <th>class</th>\n",
       "    </tr>\n",
       "  </thead>\n",
       "  <tbody>\n",
       "    <tr>\n",
       "      <th>0</th>\n",
       "      <td>2</td>\n",
       "      <td>State-gov</td>\n",
       "      <td>77516.0</td>\n",
       "      <td>Bachelors</td>\n",
       "      <td>13</td>\n",
       "      <td>Never-married</td>\n",
       "      <td>Adm-clerical</td>\n",
       "      <td>Not-in-family</td>\n",
       "      <td>White</td>\n",
       "      <td>Male</td>\n",
       "      <td>1</td>\n",
       "      <td>0</td>\n",
       "      <td>2.0</td>\n",
       "      <td>United-States</td>\n",
       "      <td>&lt;=50K</td>\n",
       "    </tr>\n",
       "    <tr>\n",
       "      <th>1</th>\n",
       "      <td>3</td>\n",
       "      <td>Self-emp-not-inc</td>\n",
       "      <td>83311.0</td>\n",
       "      <td>Bachelors</td>\n",
       "      <td>13</td>\n",
       "      <td>Married-civ-spouse</td>\n",
       "      <td>Exec-managerial</td>\n",
       "      <td>Husband</td>\n",
       "      <td>White</td>\n",
       "      <td>Male</td>\n",
       "      <td>0</td>\n",
       "      <td>0</td>\n",
       "      <td>0.0</td>\n",
       "      <td>United-States</td>\n",
       "      <td>&lt;=50K</td>\n",
       "    </tr>\n",
       "    <tr>\n",
       "      <th>2</th>\n",
       "      <td>2</td>\n",
       "      <td>Private</td>\n",
       "      <td>215646.0</td>\n",
       "      <td>HS-grad</td>\n",
       "      <td>9</td>\n",
       "      <td>Divorced</td>\n",
       "      <td>Handlers-cleaners</td>\n",
       "      <td>Not-in-family</td>\n",
       "      <td>White</td>\n",
       "      <td>Male</td>\n",
       "      <td>0</td>\n",
       "      <td>0</td>\n",
       "      <td>2.0</td>\n",
       "      <td>United-States</td>\n",
       "      <td>&lt;=50K</td>\n",
       "    </tr>\n",
       "    <tr>\n",
       "      <th>3</th>\n",
       "      <td>3</td>\n",
       "      <td>Private</td>\n",
       "      <td>234721.0</td>\n",
       "      <td>11th</td>\n",
       "      <td>7</td>\n",
       "      <td>Married-civ-spouse</td>\n",
       "      <td>Handlers-cleaners</td>\n",
       "      <td>Husband</td>\n",
       "      <td>Black</td>\n",
       "      <td>Male</td>\n",
       "      <td>0</td>\n",
       "      <td>0</td>\n",
       "      <td>2.0</td>\n",
       "      <td>United-States</td>\n",
       "      <td>&lt;=50K</td>\n",
       "    </tr>\n",
       "    <tr>\n",
       "      <th>4</th>\n",
       "      <td>1</td>\n",
       "      <td>Private</td>\n",
       "      <td>338409.0</td>\n",
       "      <td>Bachelors</td>\n",
       "      <td>13</td>\n",
       "      <td>Married-civ-spouse</td>\n",
       "      <td>Prof-specialty</td>\n",
       "      <td>Wife</td>\n",
       "      <td>Black</td>\n",
       "      <td>Female</td>\n",
       "      <td>0</td>\n",
       "      <td>0</td>\n",
       "      <td>2.0</td>\n",
       "      <td>Cuba</td>\n",
       "      <td>&lt;=50K</td>\n",
       "    </tr>\n",
       "  </tbody>\n",
       "</table>\n",
       "</div>"
      ],
      "text/plain": [
       "   age         workclass    fnlwgt  education  education-num  \\\n",
       "0    2         State-gov   77516.0  Bachelors             13   \n",
       "1    3  Self-emp-not-inc   83311.0  Bachelors             13   \n",
       "2    2           Private  215646.0    HS-grad              9   \n",
       "3    3           Private  234721.0       11th              7   \n",
       "4    1           Private  338409.0  Bachelors             13   \n",
       "\n",
       "       marital-status         occupation   relationship   race     sex  \\\n",
       "0       Never-married       Adm-clerical  Not-in-family  White    Male   \n",
       "1  Married-civ-spouse    Exec-managerial        Husband  White    Male   \n",
       "2            Divorced  Handlers-cleaners  Not-in-family  White    Male   \n",
       "3  Married-civ-spouse  Handlers-cleaners        Husband  Black    Male   \n",
       "4  Married-civ-spouse     Prof-specialty           Wife  Black  Female   \n",
       "\n",
       "   capitalgain  capitalloss  hoursperweek native-country  class  \n",
       "0            1            0           2.0  United-States  <=50K  \n",
       "1            0            0           0.0  United-States  <=50K  \n",
       "2            0            0           2.0  United-States  <=50K  \n",
       "3            0            0           2.0  United-States  <=50K  \n",
       "4            0            0           2.0           Cuba  <=50K  "
      ]
     },
     "execution_count": 8,
     "metadata": {},
     "output_type": "execute_result"
    }
   ],
   "source": [
    "df.head()"
   ]
  },
  {
   "cell_type": "markdown",
   "id": "d7f52fef-45db-4adb-90e1-931f6c1f9d2e",
   "metadata": {},
   "source": [
    "### 3. MISSING VALUES HANDLING\n",
    "> For each missing values in each column:\n",
    "> - Identify any columns that have missing values, you can also show the number and percentage of missing values.\n",
    "> - Propose and justify your chosen method(s) for handling the missing values in each column.\n",
    "> - Implement your chosen method(s) to handle the missing values."
   ]
  },
  {
   "cell_type": "code",
   "execution_count": 9,
   "id": "fa525289-2400-4bb1-89df-52e1683a4521",
   "metadata": {},
   "outputs": [
    {
     "name": "stdout",
     "output_type": "stream",
     "text": [
      "Number of missing values:\n",
      "\n",
      "age                  0\n",
      "workclass         2799\n",
      "fnlwgt               0\n",
      "education            0\n",
      "education-num        0\n",
      "marital-status       0\n",
      "occupation        2809\n",
      "relationship         0\n",
      "race                 0\n",
      "sex                  0\n",
      "capitalgain          0\n",
      "capitalloss          0\n",
      "hoursperweek         0\n",
      "native-country     857\n",
      "class                0\n",
      "dtype: int64\n"
     ]
    }
   ],
   "source": [
    "print(\"Number of missing values:\\n\")\n",
    "print(df.isna().sum())"
   ]
  },
  {
   "cell_type": "code",
   "execution_count": 10,
   "id": "156e9924-c979-4374-9fbd-fbca61c16814",
   "metadata": {},
   "outputs": [
    {
     "name": "stdout",
     "output_type": "stream",
     "text": [
      "Percentage of missing values:\n",
      "\n"
     ]
    },
    {
     "data": {
      "text/plain": [
       "age                0.0%\n",
       "workclass         5.73%\n",
       "fnlwgt             0.0%\n",
       "education          0.0%\n",
       "education-num      0.0%\n",
       "marital-status     0.0%\n",
       "occupation        5.75%\n",
       "relationship       0.0%\n",
       "race               0.0%\n",
       "sex                0.0%\n",
       "capitalgain        0.0%\n",
       "capitalloss        0.0%\n",
       "hoursperweek       0.0%\n",
       "native-country    1.75%\n",
       "class              0.0%\n",
       "dtype: object"
      ]
     },
     "execution_count": 10,
     "metadata": {},
     "output_type": "execute_result"
    }
   ],
   "source": [
    "print(\"Percentage of missing values:\\n\")\n",
    "(df.isnull().mean() * 100).round(2).astype(str) + '%'"
   ]
  },
  {
   "cell_type": "code",
   "execution_count": 11,
   "id": "21291282-9e2c-4097-a9d2-bdef6c72f879",
   "metadata": {},
   "outputs": [
    {
     "name": "stdout",
     "output_type": "stream",
     "text": [
      "Missing values after handling:\n",
      "age               0\n",
      "workclass         0\n",
      "fnlwgt            0\n",
      "education         0\n",
      "education-num     0\n",
      "marital-status    0\n",
      "occupation        0\n",
      "relationship      0\n",
      "race              0\n",
      "sex               0\n",
      "capitalgain       0\n",
      "capitalloss       0\n",
      "hoursperweek      0\n",
      "native-country    0\n",
      "class             0\n",
      "dtype: int64\n"
     ]
    }
   ],
   "source": [
    "df[['workclass', 'occupation', 'native-country']] = df[['workclass', 'occupation', 'native-country']].fillna(0)\n",
    "\n",
    "print(\"Missing values after handling:\")\n",
    "print(df.isnull().sum())"
   ]
  },
  {
   "cell_type": "markdown",
   "id": "fbc9e581-0198-4714-92e2-09ce205afbcb",
   "metadata": {},
   "source": [
    "### 4. DETECTING AND HANDLING OUTLIERS\n",
    "> Using suitable techniques, identify columns that have outliers: \n",
    "> - Report these columns and the number of outliers detected.\n",
    "> - Propose a strategy to handle the outliers. Justify your choice of strategy.\n",
    "> - Implement the chosen strategies to handle the outliers."
   ]
  },
  {
   "cell_type": "code",
   "execution_count": 12,
   "id": "57f509b2-51fc-4936-b414-cff542297afb",
   "metadata": {},
   "outputs": [],
   "source": [
    "df_num = df.select_dtypes(include = ['int64','float64'])"
   ]
  },
  {
   "cell_type": "code",
   "execution_count": 13,
   "id": "8766a59e-eb96-458a-afef-3a0bc47f9312",
   "metadata": {},
   "outputs": [
    {
     "data": {
      "image/png": "[encoded data removed]",
      "text/plain": [
       "<Figure size 640x480 with 1 Axes>"
      ]
     },
     "metadata": {},
     "output_type": "display_data"
    },
    {
     "data": {
      "image/png": "[encoded data removed]",
      "text/plain": [
       "<Figure size 640x480 with 1 Axes>"
      ]
     },
     "metadata": {},
     "output_type": "display_data"
    },
    {
     "data": {
      "image/png": "[encoded data removed]",
      "text/plain": [
       "<Figure size 640x480 with 1 Axes>"
      ]
     },
     "metadata": {},
     "output_type": "display_data"
    },
    {
     "data": {
      "image/png": "[encoded data removed]",
      "text/plain": [
       "<Figure size 640x480 with 1 Axes>"
      ]
     },
     "metadata": {},
     "output_type": "display_data"
    },
    {
     "data": {
      "image/png": "[encoded data removed]",
      "text/plain": [
       "<Figure size 640x480 with 1 Axes>"
      ]
     },
     "metadata": {},
     "output_type": "display_data"
    },
    {
     "data": {
      "image/png": "[encoded data removed]",
      "text/plain": [
       "<Figure size 640x480 with 1 Axes>"
      ]
     },
     "metadata": {},
     "output_type": "display_data"
    }
   ],
   "source": [
    "for i in df_num:\n",
    "    sns.boxplot(data= df_num, x=i)\n",
    "    plt.show()"
   ]
  },
  {
   "cell_type": "code",
   "execution_count": 14,
   "id": "71b473b1-2494-4156-8cf9-c5d473f842b5",
   "metadata": {},
   "outputs": [],
   "source": [
    "# function to find outliers,using numpy\n",
    "def find_outliers(yourlist):\n",
    "    Q1 = np.quantile(yourlist, .25)\n",
    "    Q2 = np.quantile(yourlist, .50)\n",
    "    Q3 = np.quantile(yourlist, .75)\n",
    "    \n",
    "    IQR = (Q3 - Q1) * 1.5\n",
    "    batas_bawah = Q1 - IQR\n",
    "    batas_atas = Q3 + IQR\n",
    "    \n",
    "    outlier = ''\n",
    "    outlier_rows = []\n",
    "    \n",
    "    for i in range(len(yourlist)):\n",
    "        if yourlist[i] > batas_atas:\n",
    "            outlier = outlier + str(yourlist[i]) + ', '\n",
    "        if yourlist[i] < batas_bawah:\n",
    "            outlier = outlier + str(yourlist[i]) + ', '\n",
    "    return outlier"
   ]
  },
  {
   "cell_type": "code",
   "execution_count": 15,
   "id": "0fd47a52-1a9b-4039-8e09-8d704d4e655c",
   "metadata": {},
   "outputs": [
    {
     "name": "stdout",
     "output_type": "stream",
     "text": [
      "Jumlah outlier feature age yaitu: 0\n"
     ]
    }
   ],
   "source": [
    "age = df['age'].sort_values().values.tolist()\n",
    "print('Jumlah outlier feature age yaitu:', len(find_outliers(age)))"
   ]
  },
  {
   "cell_type": "code",
   "execution_count": 16,
   "id": "29d979ac-0ae8-4fbd-ad6c-b516a894b963",
   "metadata": {},
   "outputs": [
    {
     "name": "stdout",
     "output_type": "stream",
     "text": [
      "Jumlah outlier feature fnlwgt yaitu: 14548\n"
     ]
    }
   ],
   "source": [
    "fnlwgt = df['fnlwgt'].sort_values().values.tolist()\n",
    "print('Jumlah outlier feature fnlwgt yaitu:', len(find_outliers(fnlwgt)))"
   ]
  },
  {
   "cell_type": "code",
   "execution_count": 17,
   "id": "be95aaf0-6031-42b4-8c69-c8a7b6ef604d",
   "metadata": {},
   "outputs": [
    {
     "name": "stdout",
     "output_type": "stream",
     "text": [
      "Jumlah outlier feature capitalgain yaitu: 12105\n"
     ]
    }
   ],
   "source": [
    "capitalgain = df['capitalgain'].sort_values().values.tolist()\n",
    "print('Jumlah outlier feature capitalgain yaitu:', len(find_outliers(capitalgain)))"
   ]
  },
  {
   "cell_type": "code",
   "execution_count": 18,
   "id": "e71035c6-54a5-4c0b-84de-80ea00f122fc",
   "metadata": {},
   "outputs": [
    {
     "name": "stdout",
     "output_type": "stream",
     "text": [
      "Jumlah outlier feature capitalloss yaitu: 6846\n"
     ]
    }
   ],
   "source": [
    "capitalloss = df['capitalloss'].sort_values().values.tolist()\n",
    "print('Jumlah outlier feature capitalloss yaitu:', len(find_outliers(capitalloss)))"
   ]
  },
  {
   "cell_type": "code",
   "execution_count": 19,
   "id": "15b375cf-035f-4fc4-a353-05fd9c67b432",
   "metadata": {},
   "outputs": [
    {
     "name": "stdout",
     "output_type": "stream",
     "text": [
      "Jumlah outlier feature education-num yaitu: 5382\n"
     ]
    }
   ],
   "source": [
    "education_num = df['education-num'].sort_values().values.tolist()\n",
    "print('Jumlah outlier feature education-num yaitu:', len(find_outliers(education_num)))"
   ]
  },
  {
   "cell_type": "code",
   "execution_count": 20,
   "id": "82b290ea-51ff-4611-a975-ff3667f1ed71",
   "metadata": {},
   "outputs": [
    {
     "name": "stdout",
     "output_type": "stream",
     "text": [
      "Jumlah outlier feature hoursperweek yaitu: 105165\n"
     ]
    }
   ],
   "source": [
    "hoursperweek = df['hoursperweek'].sort_values().values.tolist()\n",
    "print('Jumlah outlier feature hoursperweek yaitu:', len(find_outliers(hoursperweek)))"
   ]
  }
 ],
 "metadata": {
  "kernelspec": {
   "display_name": "Python 3 (ipykernel)",
   "language": "python",
   "name": "python3"
  },
  "language_info": {
   "codemirror_mode": {
    "name": "ipython",
    "version": 3
   },
   "file_extension": ".py",
   "mimetype": "text/x-python",
   "name": "python",
   "nbconvert_exporter": "python",
   "pygments_lexer": "ipython3",
   "version": "3.10.9"
  }
 },
 "nbformat": 4,
 "nbformat_minor": 5
}
