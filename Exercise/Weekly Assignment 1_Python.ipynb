{
 "cells": [
  {
   "cell_type": "markdown",
   "id": "5d91ee82-2809-4edc-93f4-012064a79a1d",
   "metadata": {},
   "source": [
    "## Tugas 1"
   ]
  },
  {
   "cell_type": "markdown",
   "id": "5f944061-4674-4b1b-9f4a-70e2edf347ad",
   "metadata": {},
   "source": [
    "#### Soal 1\n",
    "Melalui rumus di bawah ini, hitunglah berapa nilai w jika diketahui : \n",
    "\n",
    "Nilai x = 4, y = 3, dan z = 2"
   ]
  },
  {
   "cell_type": "markdown",
   "id": "f0e52e3a-11e6-4dcb-a5d8-3d40b0f2a6ca",
   "metadata": {},
   "source": [
    "# $w = (\\frac{x\\:+\\:y\\:\\times\\:z}{x\\:\\times\\:y})^z$"
   ]
  },
  {
   "cell_type": "markdown",
   "id": "6eed5ce8-dc1f-4eaa-98d2-7ceb50e97796",
   "metadata": {},
   "source": [
    "#### Jawab"
   ]
  },
  {
   "cell_type": "code",
   "execution_count": 133,
   "id": "510aab26-cfce-4787-9fed-b0ddc88158e3",
   "metadata": {},
   "outputs": [],
   "source": [
    "x = 4\n",
    "y = 3\n",
    "z = 2"
   ]
  },
  {
   "cell_type": "code",
   "execution_count": 134,
   "id": "36a6e521-66fc-4be2-be6f-cb59e307cfff",
   "metadata": {},
   "outputs": [
    {
     "name": "stdout",
     "output_type": "stream",
     "text": [
      "0.6944444444444445\n"
     ]
    }
   ],
   "source": [
    "w = ((x+y*z)/(x*y))** z\n",
    "print(w)"
   ]
  },
  {
   "cell_type": "markdown",
   "id": "e1758a25-33b3-4ae5-b3a2-c7fdab89186e",
   "metadata": {},
   "source": [
    "#### Soal 2\n",
    "Asnawi sedang mengikuti suatu bootcamp. Ia baru menjalani 5, dari total 6 kali ujian yang diujikan dengan perolehan nilai sebagai berikut : 68, 70, 75, 78, 70.\n",
    "\n",
    "Agar dapat dinyatakan lulus bootcamp, total nilai rata-rata dari tiap peserta harus berada diatas 75.\n",
    "\n",
    "Hitunglah :\n",
    "\n",
    "- a) Berapa total nilai rata-rata Asnawi sekarang?\n",
    "- b) Agar dinyatakan lulus, maka berapakah nilai minimal pada ujian terakhir (ke-6) yang harus didapat Asnawi?"
   ]
  },
  {
   "cell_type": "markdown",
   "id": "5a9b3b2f-81a1-413c-9d31-781bdae7ad4e",
   "metadata": {},
   "source": [
    "#### Jawab"
   ]
  },
  {
   "cell_type": "code",
   "execution_count": 135,
   "id": "3e0280ce-1df3-4c5d-abbf-df8efd4a7280",
   "metadata": {},
   "outputs": [],
   "source": [
    "score = (68, 70, 75, 78, 70)\n",
    "\n",
    "total_score = sum(score)\n",
    "\n",
    "jumlah_ujian = len(score)\n",
    "\n",
    "avg = total_score / jumlah_ujian\n",
    "\n",
    "minimal_score = 75 * (jumlah_ujian + 1) - total_score"
   ]
  },
  {
   "cell_type": "code",
   "execution_count": 136,
   "id": "85236648-134b-466a-b121-400126b5dc7b",
   "metadata": {},
   "outputs": [
    {
     "name": "stdout",
     "output_type": "stream",
     "text": [
      "a) Total nilai rata-rata Asnawi sekarang: 72.2\n",
      "b) Nilai minimal yang harus didapat pada ujian terakhir agar dinyatakan lulus: 89\n"
     ]
    }
   ],
   "source": [
    "print(\"a) Total nilai rata-rata Asnawi sekarang:\", avg)\n",
    "print(\"b) Nilai minimal yang harus didapat pada ujian terakhir agar dinyatakan lulus:\", minimal_score)"
   ]
  },
  {
   "cell_type": "markdown",
   "id": "ebc2c785-738f-47d9-8cb7-c57c1980441b",
   "metadata": {},
   "source": [
    "#### Soal 3\n",
    "Egy mempunyai gaji Rp 10,000,000,- dan dengan gajinya tersebut, ia berniat membeli sebuah kamera seharga Rp 3,500,000,- (sebelum diskon).  \n",
    "Selain itu, Egy juga telah membelanjakan uangnya sebesar Rp 1,500,000,- untuk keperluan lain. \n",
    "\n",
    "Hitunglah berapa sisa uang Egy saat ini, jika harga diskon kamera tersebut adalah sebesar 15%?"
   ]
  },
  {
   "cell_type": "markdown",
   "id": "4727c681-ee19-442c-b766-db80055166bb",
   "metadata": {},
   "source": [
    "#### Jawab"
   ]
  },
  {
   "cell_type": "code",
   "execution_count": 137,
   "id": "a53907a6-bedb-4981-a90b-d5c7e8f736f0",
   "metadata": {},
   "outputs": [],
   "source": [
    "gaji = 10000000\n",
    "kamera = 3500000\n",
    "pengeluaran_lain = 1500000\n",
    "\n",
    "disc_kamera = kamera * (1 - 0.15) \n",
    "\n",
    "total = disc_kamera + pengeluaran_lain\n",
    "\n",
    "sisa_uang = gaji - total"
   ]
  },
  {
   "cell_type": "code",
   "execution_count": 138,
   "id": "43acbdc9-b0cb-4c42-a265-c2c65b81a0e0",
   "metadata": {},
   "outputs": [
    {
     "name": "stdout",
     "output_type": "stream",
     "text": [
      "Sisa uang Egy = Rp. 5525000.0\n"
     ]
    }
   ],
   "source": [
    "print(\"Sisa uang Egy = Rp.\", sisa_uang)"
   ]
  },
  {
   "cell_type": "markdown",
   "id": "a38dcf8d-0cd8-4073-82f2-29c805c4912b",
   "metadata": {},
   "source": [
    "#### Soal 4\n",
    "Diketahui jarak antara Kota A dan Kota B adalah 400 km. Jika Firman berangkat dari Kota A menuju Kota B pukul 09.00 pagi dengan mobil yang memiliki kecepatan 60 km/jam. Sedangkan pada waktu dan rute yang sama, Utina berangkat dari Kota B menuju Kota A dengan mengendarai mobil yang kecepatannya 80 km/jam.\n",
    "\n",
    "Jika kita asumsikan bahwa kecepatan dari kedua mobil tersebut stabil, maka pada pukul berapakah Firman dan Utina berpapasan?"
   ]
  },
  {
   "cell_type": "code",
   "execution_count": 139,
   "id": "3d943302-40e8-41d7-b7db-d841cd31a683",
   "metadata": {},
   "outputs": [],
   "source": [
    "jarak = 400\n",
    "\n",
    "jam_awal = 9.00\n",
    "\n",
    "kecepatan_firman = 60\n",
    "kecepatan_utina = 80\n",
    "\n",
    "waktu_berpapasan = jarak / (kecepatan_firman + kecepatan_utina)\n",
    "jam = int(jam_awal + waktu_berpapasan)\n",
    "menit = int((waktu_berpapasan - int(waktu_berpapasan)) * 60)"
   ]
  },
  {
   "cell_type": "code",
   "execution_count": 144,
   "id": "ea2a6e1b-fbdd-4813-991e-305c4edf70da",
   "metadata": {},
   "outputs": [
    {
     "name": "stdout",
     "output_type": "stream",
     "text": [
      "Firman dan Utina akan berpapasan pukul 11:51\n"
     ]
    }
   ],
   "source": [
    "print(\"Firman dan Utina akan berpapasan pukul {:02d}:{:02d}\".format(jam, menit))"
   ]
  },
  {
   "cell_type": "markdown",
   "id": "d9cfc13d-bce1-437d-88eb-f6ceb3b2d504",
   "metadata": {},
   "source": [
    "#### Soal 5\n",
    "Andik merupakan seorang importir dan pedagang baju premium. Ia berdagang dengan cara membeli baju premium dari luar negeri, kemudian dijual kembali di dalam negeri. Harga baju yang dibeli Andik tersebut, jika di rupiahkan adalah sekitar Rp 1,000,000,- per piece, dan kemudian dijual kembali dengan harga Rp 1,700,000,- per piece. Saat ini, Andik hanya memiliki modal sekitar Rp 40,000,000,- yang bisa ia alokasikan setiap bulannya.\n",
    "\n",
    "Jika pajak PPN barang impor adalah sebesar 10%, dan kita asumsikan bahwa setiap bulan baju yang dijual Andik selalu habis terjual, maka hitunglah:\n",
    "\n",
    "- a) Berapa piece baju yang optimal untuk Andik jual setiap bulan?\n",
    "- b) Berapa keuntungan optimal Andik setiap bulan?\n",
    "- c) Berapa persentase keuntungan yang diperoleh Andik setiap bulan?\n",
    "- d) Jika Andik memutuskan untuk beristirahat pada bulan November dan Desember, maka berapa rata-rata keuntungan per tahun nya?"
   ]
  },
  {
   "cell_type": "code",
   "execution_count": 141,
   "id": "5a23af50-87ae-471c-8c50-1c1635788d59",
   "metadata": {},
   "outputs": [],
   "source": [
    "modal_bulanan = 40000000\n",
    "harga_beli = 1000000\n",
    "harga_jual = 1700000\n",
    "ppn = 0.1"
   ]
  },
  {
   "cell_type": "code",
   "execution_count": 142,
   "id": "0086710f-943f-4230-9f79-04ec541c3b5d",
   "metadata": {},
   "outputs": [],
   "source": [
    "ppn = harga_beli * 0.1\n",
    "keuntungan_per_piece = harga_jual - harga_beli - ppn\n",
    "jumlah_baju = modal_bulanan / (harga_beli + ppn)\n",
    "jumlah_baju_bulat = int(jumlah_baju)\n",
    "\n",
    "keuntungan_bulanan = jumlah_baju_bulat * keuntungan_per_piece\n",
    "\n",
    "persentase_bulanan = (keuntungan_bulanan / modal_bulanan) * 100\n",
    "\n",
    "keuntungan_tahunan = keuntungan_bulanan * 10"
   ]
  },
  {
   "cell_type": "code",
   "execution_count": 143,
   "id": "095240b8-bec4-4b2c-8534-ead059cb431a",
   "metadata": {},
   "outputs": [
    {
     "name": "stdout",
     "output_type": "stream",
     "text": [
      "a) Jumlah piece baju yang optimal untuk Andik jual setiap bulan adalah 36\n",
      "b) Keuntungan optimal Andik setiap bulan adalah Rp. 21600000\n",
      "c) Persentase keuntungan yang diperoleh Andik setiap bulan adalah 54.00%\n",
      "d) Rata-rata keuntungan Andik per tahunnya (Tanpa Bulan November & Desember) adalah Rp. 216000000\n"
     ]
    }
   ],
   "source": [
    "print(\"a) Jumlah piece baju yang optimal untuk Andik jual setiap bulan adalah\", jumlah_baju_bulat)\n",
    "print(\"b) Keuntungan optimal Andik setiap bulan adalah Rp.\", int(keuntungan_bulanan))\n",
    "print(\"c) Persentase keuntungan yang diperoleh Andik setiap bulan adalah {:.2f}%\".format(persentase_bulanan))\n",
    "print(\"d) Rata-rata keuntungan Andik per tahunnya (Tanpa Bulan November & Desember) adalah Rp.\", int(keuntungan_tahunan))"
   ]
  }
 ],
 "metadata": {
  "kernelspec": {
   "display_name": "Python 3 (ipykernel)",
   "language": "python",
   "name": "python3"
  },
  "language_info": {
   "codemirror_mode": {
    "name": "ipython",
    "version": 3
   },
   "file_extension": ".py",
   "mimetype": "text/x-python",
   "name": "python",
   "nbconvert_exporter": "python",
   "pygments_lexer": "ipython3",
   "version": "3.10.9"
  }
 },
 "nbformat": 4,
 "nbformat_minor": 5
}
