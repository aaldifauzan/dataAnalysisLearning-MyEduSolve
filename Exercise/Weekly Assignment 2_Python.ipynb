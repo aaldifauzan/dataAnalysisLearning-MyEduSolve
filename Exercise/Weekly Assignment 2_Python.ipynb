{
 "cells": [
  {
   "cell_type": "markdown",
   "metadata": {
    "id": "gVpBcsgXQEZk"
   },
   "source": [
    "## TUGAS BASIC PYTHON 2"
   ]
  },
  {
   "cell_type": "markdown",
   "metadata": {
    "id": "y54FlpGvQEZo"
   },
   "source": [
    "### SOAL 1"
   ]
  },
  {
   "cell_type": "markdown",
   "metadata": {
    "id": "jMnyS_uyQEZp"
   },
   "source": [
    "Dengan menggunakan loop, buatlah program yang menerima dan membalikkan suatu **input** dari suatu string.\n",
    "\n",
    "Contoh:"
   ]
  },
  {
   "cell_type": "raw",
   "metadata": {
    "id": "zNp_Y2d6QEZq"
   },
   "source": [
    "Input  : \"Hello\"\n",
    "Output : \"olleH\""
   ]
  },
  {
   "cell_type": "markdown",
   "metadata": {
    "id": "65MBj53QQEZq"
   },
   "source": [
    "### SOAL 2"
   ]
  },
  {
   "cell_type": "markdown",
   "metadata": {
    "id": "LVhNFkhaQEZq"
   },
   "source": [
    "Dengan menggunakan loop, buatlah program yang menerima dan memisahkan nilai positif dan nilai negatif pada **input** dari suatu list deret angka.\n",
    "\n",
    "Contoh:"
   ]
  },
  {
   "cell_type": "raw",
   "metadata": {
    "id": "VatIrj0YQEZr"
   },
   "source": [
    "Input  : [10, 5, -6, 23, -9, 21, 3, -45]\n",
    "Output : Positif : [10, 5, 23, 21, 3]\n",
    "         Negatif : [-6, -45, -9]"
   ]
  },
  {
   "cell_type": "markdown",
   "metadata": {
    "id": "D5zAd7sAQEZr"
   },
   "source": [
    "### SOAL 3"
   ]
  },
  {
   "cell_type": "markdown",
   "metadata": {
    "id": "5xQCyevQQEZr"
   },
   "source": [
    "Dengan menggunakan loop, buatlah program yang menerima dan memisahkan bilangan ganjil dan genap pada **input** dari suatu list deret angka.\n",
    "\n",
    "Contoh:"
   ]
  },
  {
   "cell_type": "raw",
   "metadata": {
    "id": "QYvde1O2QEZs"
   },
   "source": [
    "Input  : [10, 23, 24, 35, 65, 78]\n",
    "Output : Genap  : [10, 24, 78]\n",
    "         Ganjil : [23, 35, 65]"
   ]
  },
  {
   "cell_type": "markdown",
   "metadata": {
    "id": "0ZO1wC5uQEZs"
   },
   "source": [
    "### SOAL 4"
   ]
  },
  {
   "cell_type": "markdown",
   "metadata": {
    "id": "vQ2mwQiAQEZs"
   },
   "source": [
    "Dengan menggunakan loop, buatlah program yang menerima dan memisahkan huruf vokal (a,i,u,e,o) pada **input** dari suatu string.\n",
    "\n",
    "Contoh:"
   ]
  },
  {
   "cell_type": "raw",
   "metadata": {
    "id": "f_LqkbeXQEZs"
   },
   "source": [
    "Input  : \"Hello World\"\n",
    "Output : \"Hll Wrld\""
   ]
  },
  {
   "cell_type": "markdown",
   "metadata": {
    "id": "UL2qzQETQEZt"
   },
   "source": [
    "### SOAL 5"
   ]
  },
  {
   "cell_type": "markdown",
   "metadata": {
    "id": "eHFSgw1ZQEZt"
   },
   "source": [
    "Hilangkanlah kata yang berulang pada string dibawah ini:"
   ]
  },
  {
   "cell_type": "markdown",
   "metadata": {
    "id": "6byILNslQEZt"
   },
   "source": [
    "> ##### *HALO HALO BANDUNG IBU KOTA PERIANGAN. HALO HALO BANDUNG KOTA KENANG KENANGAN. SUDAH LAMA BETA TIDAK BERJUMPA DENGAN KAU. SEKARANG TELAH MENJADI LAUTAN API MARI BUNG REBUT KEMBALI*"
   ]
  },
  {
   "cell_type": "markdown",
   "metadata": {
    "id": "NZbyB2rYQEZt"
   },
   "source": [
    "## JAWABAN"
   ]
  },
  {
   "cell_type": "code",
   "execution_count": 74,
   "metadata": {
    "id": "uqRwk5w2QEZt"
   },
   "outputs": [
    {
     "name": "stdin",
     "output_type": "stream",
     "text": [
      "Input:   Hello\n"
     ]
    },
    {
     "name": "stdout",
     "output_type": "stream",
     "text": [
      "Output:  olleH\n"
     ]
    }
   ],
   "source": [
    "# NO 1\n",
    "str = input(\"Input:  \")\n",
    "reversed = ''\n",
    "for c in str:\n",
    "    reversed = c + reversed\n",
    "print(\"Output: \", reversed)"
   ]
  },
  {
   "cell_type": "code",
   "execution_count": 33,
   "metadata": {},
   "outputs": [
    {
     "name": "stdout",
     "output_type": "stream",
     "text": [
      "Positive:  [10, 5, 23, 21, 3]\n",
      "Negative:  [-6, -9, -45]\n"
     ]
    }
   ],
   "source": [
    "# NO 2\n",
    "num = [10, 5, -6, 23, -9, 21, 3, -45]\n",
    "positive = []\n",
    "negative = []\n",
    "\n",
    "for x in num:\n",
    "    if x > 0 :\n",
    "        positive.append(x)\n",
    "    else:\n",
    "        negative.append(x)\n",
    "        \n",
    "print(\"Positive: \", positive)\n",
    "print(\"Negative: \", negative)"
   ]
  },
  {
   "cell_type": "code",
   "execution_count": 46,
   "metadata": {},
   "outputs": [
    {
     "name": "stdout",
     "output_type": "stream",
     "text": [
      "Genap:   [10, 24, 78]\n",
      "Ganjil:  [23, 35, 65]\n"
     ]
    }
   ],
   "source": [
    "# NO 3\n",
    "num = [10, 23, 24, 35, 65, 78]\n",
    "even = [] # genap\n",
    "odd = [] # ganjil\n",
    "\n",
    "for x in num:\n",
    "    if x % 2 == 0:\n",
    "        even.append(x)\n",
    "    else:\n",
    "        odd.append(x)\n",
    "print(\"Genap:  \", even)\n",
    "print(\"Ganjil: \", odd)"
   ]
  },
  {
   "cell_type": "code",
   "execution_count": 69,
   "metadata": {},
   "outputs": [
    {
     "name": "stdin",
     "output_type": "stream",
     "text": [
      "Input:   Hello World\n"
     ]
    },
    {
     "name": "stdout",
     "output_type": "stream",
     "text": [
      "Output:  Hll Wrld\n"
     ]
    }
   ],
   "source": [
    "# NO 4S\n",
    "str = input(\"Input:  \")\n",
    "output = \"\"\n",
    "for char in str:\n",
    "  if char not in (\"a\", \"i\", \"u\", \"e\", \"o\"):\n",
    "    output += char\n",
    "print(\"Output: \",output)"
   ]
  },
  {
   "cell_type": "code",
   "execution_count": 45,
   "metadata": {},
   "outputs": [
    {
     "name": "stdout",
     "output_type": "stream",
     "text": [
      "HALO BANDUNG IBU KOTA PERIANGAN. KENANG KENANGAN. SUDAH LAMA BETA TIDAK BERJUMPA DENGAN KAU. SEKARANG TELAH MENJADI LAUTAN API MARI BUNG REBUT KEMBALI\n"
     ]
    }
   ],
   "source": [
    "# NO 5\n",
    "str = \"HALO HALO BANDUNG IBU KOTA PERIANGAN. HALO HALO BANDUNG KOTA KENANG KENANGAN. SUDAH LAMA BETA TIDAK BERJUMPA DENGAN KAU. SEKARANG TELAH MENJADI LAUTAN API MARI BUNG REBUT KEMBALI\"\n",
    "l = str.split()h\n",
    "temp = []\n",
    "for x in l:\n",
    "    if x not in temp:\n",
    "        temp.append(x)\n",
    "print(' '.join(temp))"
   ]
  },
  {
   "cell_type": "code",
   "execution_count": null,
   "metadata": {},
   "outputs": [],
   "source": []
  }
 ],
 "metadata": {
  "colab": {
   "provenance": []
  },
  "kernelspec": {
   "display_name": "Python 3 (ipykernel)",
   "language": "python",
   "name": "python3"
  },
  "language_info": {
   "codemirror_mode": {
    "name": "ipython",
    "version": 3
   },
   "file_extension": ".py",
   "mimetype": "text/x-python",
   "name": "python",
   "nbconvert_exporter": "python",
   "pygments_lexer": "ipython3",
   "version": "3.10.9"
  }
 },
 "nbformat": 4,
 "nbformat_minor": 4
}
