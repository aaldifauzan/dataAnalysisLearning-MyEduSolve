{
 "cells": [
  {
   "cell_type": "markdown",
   "id": "866ee6d8-6086-4072-acfd-1ead0c39c3c7",
   "metadata": {
    "tags": []
   },
   "source": [
    "## Introduction to Inferential Statistics\n",
    "\n",
    "While descriptive statistics summarize the characteristics of a d set, inferential statistics help you come to conclusions and make predictions based on your data.\n",
    "\n",
    "\n",
    "When you have collected data from a sample, you can use inferential statistics to understand the larger population from which the sample is taken.\n",
    "\n",
    "![](https://datatab.net/assets/tutorial/Descriptive_statistics_and_inferential_statistics.png)\n",
    "\n",
    "Inferential statistics have two main uses:\n",
    "1. Making estimates about populations (for example, the mean SAT score of all 11th graders in the US).\n",
    "2. Testing hypotheses to draw conclusions about populations (for example the relationship between SAT scores and family income)."
   ]
  },
  {
   "cell_type": "code",
   "execution_count": 1,
   "id": "dbd541fe-0ef7-4079-a0ac-26bd76f93ef8",
   "metadata": {},
   "outputs": [],
   "source": [
    "# Importing libraries\n",
    "\n",
    "import numpy as np\n",
    "import pandas as pd\n",
    "import seaborn as sns\n",
    "import matplotlib.pyplot as plt\n",
    "\n",
    "import warnings\n",
    "warnings.filterwarnings('ignore')"
   ]
  },
  {
   "cell_type": "code",
   "execution_count": 2,
   "id": "b6610a97-f721-4018-8336-cc2abffccd75",
   "metadata": {},
   "outputs": [],
   "source": [
    "df = pd.read_csv(\"data/train.csv.xls\")"
   ]
  },
  {
   "cell_type": "code",
   "execution_count": 3,
   "id": "9d0d506b-a01f-4418-990c-ef0d80059966",
   "metadata": {},
   "outputs": [
    {
     "data": {
      "text/plain": [
       "(1460, 81)"
      ]
     },
     "execution_count": 3,
     "metadata": {},
     "output_type": "execute_result"
    }
   ],
   "source": [
    "df.shape"
   ]
  },
  {
   "cell_type": "code",
   "execution_count": 4,
   "id": "f77bef6a-18fa-4792-a11c-23f034ca6905",
   "metadata": {},
   "outputs": [
    {
     "name": "stdout",
     "output_type": "stream",
     "text": [
      "<class 'pandas.core.frame.DataFrame'>\n",
      "RangeIndex: 1460 entries, 0 to 1459\n",
      "Data columns (total 81 columns):\n",
      " #   Column         Non-Null Count  Dtype  \n",
      "---  ------         --------------  -----  \n",
      " 0   Id             1460 non-null   int64  \n",
      " 1   MSSubClass     1460 non-null   int64  \n",
      " 2   MSZoning       1460 non-null   object \n",
      " 3   LotFrontage    1201 non-null   float64\n",
      " 4   LotArea        1460 non-null   int64  \n",
      " 5   Street         1460 non-null   object \n",
      " 6   Alley          91 non-null     object \n",
      " 7   LotShape       1460 non-null   object \n",
      " 8   LandContour    1460 non-null   object \n",
      " 9   Utilities      1460 non-null   object \n",
      " 10  LotConfig      1460 non-null   object \n",
      " 11  LandSlope      1460 non-null   object \n",
      " 12  Neighborhood   1460 non-null   object \n",
      " 13  Condition1     1460 non-null   object \n",
      " 14  Condition2     1460 non-null   object \n",
      " 15  BldgType       1460 non-null   object \n",
      " 16  HouseStyle     1460 non-null   object \n",
      " 17  OverallQual    1460 non-null   int64  \n",
      " 18  OverallCond    1460 non-null   int64  \n",
      " 19  YearBuilt      1460 non-null   int64  \n",
      " 20  YearRemodAdd   1460 non-null   int64  \n",
      " 21  RoofStyle      1460 non-null   object \n",
      " 22  RoofMatl       1460 non-null   object \n",
      " 23  Exterior1st    1460 non-null   object \n",
      " 24  Exterior2nd    1460 non-null   object \n",
      " 25  MasVnrType     1452 non-null   object \n",
      " 26  MasVnrArea     1452 non-null   float64\n",
      " 27  ExterQual      1460 non-null   object \n",
      " 28  ExterCond      1460 non-null   object \n",
      " 29  Foundation     1460 non-null   object \n",
      " 30  BsmtQual       1423 non-null   object \n",
      " 31  BsmtCond       1423 non-null   object \n",
      " 32  BsmtExposure   1422 non-null   object \n",
      " 33  BsmtFinType1   1423 non-null   object \n",
      " 34  BsmtFinSF1     1460 non-null   int64  \n",
      " 35  BsmtFinType2   1422 non-null   object \n",
      " 36  BsmtFinSF2     1460 non-null   int64  \n",
      " 37  BsmtUnfSF      1460 non-null   int64  \n",
      " 38  TotalBsmtSF    1460 non-null   int64  \n",
      " 39  Heating        1460 non-null   object \n",
      " 40  HeatingQC      1460 non-null   object \n",
      " 41  CentralAir     1460 non-null   object \n",
      " 42  Electrical     1459 non-null   object \n",
      " 43  1stFlrSF       1460 non-null   int64  \n",
      " 44  2ndFlrSF       1460 non-null   int64  \n",
      " 45  LowQualFinSF   1460 non-null   int64  \n",
      " 46  GrLivArea      1460 non-null   int64  \n",
      " 47  BsmtFullBath   1460 non-null   int64  \n",
      " 48  BsmtHalfBath   1460 non-null   int64  \n",
      " 49  FullBath       1460 non-null   int64  \n",
      " 50  HalfBath       1460 non-null   int64  \n",
      " 51  BedroomAbvGr   1460 non-null   int64  \n",
      " 52  KitchenAbvGr   1460 non-null   int64  \n",
      " 53  KitchenQual    1460 non-null   object \n",
      " 54  TotRmsAbvGrd   1460 non-null   int64  \n",
      " 55  Functional     1460 non-null   object \n",
      " 56  Fireplaces     1460 non-null   int64  \n",
      " 57  FireplaceQu    770 non-null    object \n",
      " 58  GarageType     1379 non-null   object \n",
      " 59  GarageYrBlt    1379 non-null   float64\n",
      " 60  GarageFinish   1379 non-null   object \n",
      " 61  GarageCars     1460 non-null   int64  \n",
      " 62  GarageArea     1460 non-null   int64  \n",
      " 63  GarageQual     1379 non-null   object \n",
      " 64  GarageCond     1379 non-null   object \n",
      " 65  PavedDrive     1460 non-null   object \n",
      " 66  WoodDeckSF     1460 non-null   int64  \n",
      " 67  OpenPorchSF    1460 non-null   int64  \n",
      " 68  EnclosedPorch  1460 non-null   int64  \n",
      " 69  3SsnPorch      1460 non-null   int64  \n",
      " 70  ScreenPorch    1460 non-null   int64  \n",
      " 71  PoolArea       1460 non-null   int64  \n",
      " 72  PoolQC         7 non-null      object \n",
      " 73  Fence          281 non-null    object \n",
      " 74  MiscFeature    54 non-null     object \n",
      " 75  MiscVal        1460 non-null   int64  \n",
      " 76  MoSold         1460 non-null   int64  \n",
      " 77  YrSold         1460 non-null   int64  \n",
      " 78  SaleType       1460 non-null   object \n",
      " 79  SaleCondition  1460 non-null   object \n",
      " 80  SalePrice      1460 non-null   int64  \n",
      "dtypes: float64(3), int64(35), object(43)\n",
      "memory usage: 924.0+ KB\n"
     ]
    }
   ],
   "source": [
    "df.info()"
   ]
  },
  {
   "cell_type": "markdown",
   "id": "afa01e1f-9f7f-46f4-958b-4ef9abb95b21",
   "metadata": {},
   "source": [
    "**Basic Probability**\n",
    "\n",
    "- Let's start with a simple example: Say, we flip a fair coin\n",
    "- Intuitively, there's a 50% chance of getting heads, and a 50% chance of getting tails. This is because there are only two possible outcomes, and each event is equally likely.\n",
    "- Therefore, we can say that the Probability of getting a Heads is 0.5. Similarly, Probability of getting a Tails is 0.5\n",
    "- Probability can roughly be described as **the chance of an event or sequence of events occurring**\n"
   ]
  },
  {
   "cell_type": "markdown",
   "id": "07920ce5-870b-4652-96f5-a8be0c741c58",
   "metadata": {},
   "source": [
    "- **Experiment** - are the uncertain situations which could have multiple outcomes. A coin toss is an experiment\n",
    "- **Outcome** is the result of a single trial. So, if head lands, the outcome of or coin toss experiment is \"Heads\" \n",
    "- **Event** is one or more outcomes from an experiment. \"Tails\" is one of the possible events for this experiment."
   ]
  },
  {
   "cell_type": "markdown",
   "id": "e84ea78a-e365-4150-bf2b-0202f8887404",
   "metadata": {},
   "source": [
    "**Rules**\n",
    "- The Probability that an event occurs with certainty is 1\n",
    "- The Probability that an event will not occur surely is 0\n",
    "- The Probability of the complement of an event is 1 minus the probability of that event.\n",
    "- The probability of at least 1 of 2 (or more) things that can not simultaneously occur (mutually exclusive) is the sum of their respective probabilities\n",
    "- **Mutually exclusive is a statistical term describing two or more events that cannot occur simultaneously. For example, it is impossible to roll a five and a three on a single die at the same time.**\n",
    "\n",
    "For any 2 events A & B the probability that at least one occurs is the sum of their individual probabilities minus the probability of their intersection. i.e."
   ]
  },
  {
   "cell_type": "markdown",
   "id": "8476e285-fa9d-4cef-9c4d-6af571424a3e",
   "metadata": {},
   "source": [
    "<center>\n",
    "  <i><b>P(A ∪ B) = P(A) + P(B) - P(A ∩ B)</b></i>\n",
    "</center>\n"
   ]
  },
  {
   "cell_type": "markdown",
   "id": "9bd10521-c06a-4f42-9ad7-32473bbeeb88",
   "metadata": {},
   "source": [
    "**Example**\n",
    "\n",
    "The National Sleep Foundation reports that around 3% of the American population has sleep-breathing issues. They also report that around 10% of the American population has restless leg syndrome. Does this imply that 13% of people will have at least one of these problems?\n",
    "\n",
    "Answer: No, the events can occur simultaneously and so are not mutually exclusive. To elaborate:"
   ]
  },
  {
   "cell_type": "markdown",
   "id": "bf82017a-d083-4229-949e-c1178456f86e",
   "metadata": {},
   "source": [
    "- **Let's check out the Probability of picking a house in the Neighborhood - \"OldTown\"**\n",
    "\n",
    "No, of house in OldTown no. of house Let's go through this in Python"
   ]
  },
  {
   "cell_type": "code",
   "execution_count": 5,
   "id": "29302e4d-1897-4440-bb5c-73d8a88d22a0",
   "metadata": {},
   "outputs": [
    {
     "data": {
      "text/plain": [
       "NAmes      225\n",
       "CollgCr    150\n",
       "OldTown    113\n",
       "Edwards    100\n",
       "Somerst     86\n",
       "Gilbert     79\n",
       "NridgHt     77\n",
       "Sawyer      74\n",
       "NWAmes      73\n",
       "SawyerW     59\n",
       "BrkSide     58\n",
       "Crawfor     51\n",
       "Mitchel     49\n",
       "NoRidge     41\n",
       "Timber      38\n",
       "IDOTRR      37\n",
       "ClearCr     28\n",
       "StoneBr     25\n",
       "SWISU       25\n",
       "MeadowV     17\n",
       "Blmngtn     17\n",
       "BrDale      16\n",
       "Veenker     11\n",
       "NPkVill      9\n",
       "Blueste      2\n",
       "Name: Neighborhood, dtype: int64"
      ]
     },
     "execution_count": 5,
     "metadata": {},
     "output_type": "execute_result"
    }
   ],
   "source": [
    "# Let's check the different neighborhood\n",
    "df['Neighborhood'].value_counts()"
   ]
  },
  {
   "cell_type": "code",
   "execution_count": 6,
   "id": "366ae98e-21c2-40c3-82ed-7b5cf7854f4e",
   "metadata": {},
   "outputs": [
    {
     "name": "stdout",
     "output_type": "stream",
     "text": [
      "Total Number of Houses in the Neighborhood: 1460\n"
     ]
    }
   ],
   "source": [
    "# Total number of houses in the neighborhood\n",
    "all_houses = len(df)\n",
    "print(\"Total Number of Houses in the Neighborhood:\",all_houses)"
   ]
  },
  {
   "cell_type": "code",
   "execution_count": 7,
   "id": "6daebbb5-1857-4e47-965f-20f1b48c5c4f",
   "metadata": {},
   "outputs": [
    {
     "name": "stdout",
     "output_type": "stream",
     "text": [
      "Total Number of Houses in the Old Town Road: 113\n"
     ]
    }
   ],
   "source": [
    "# Total number of houses in the Old town neighborhood\n",
    "houses_in_OldTown = len(df[df['Neighborhood']== 'OldTown'])\n",
    "print(\"Total Number of Houses in the Old Town Road:\",houses_in_OldTown)"
   ]
  },
  {
   "cell_type": "code",
   "execution_count": 8,
   "id": "14deb49f-4130-4369-beb9-d5605248acff",
   "metadata": {},
   "outputs": [
    {
     "name": "stdout",
     "output_type": "stream",
     "text": [
      "Probility of picking a house in OldTown: 7.74%\n"
     ]
    }
   ],
   "source": [
    "# Find the probability of picking a House in the Old Town\n",
    "probability = (houses_in_OldTown/all_houses)*100\n",
    "print(\"Probility of picking a house in OldTown: {0:.2f}\".format(probability)+'%')"
   ]
  },
  {
   "cell_type": "markdown",
   "id": "d6facfef-d671-4b83-8595-45f7aa6cfff4",
   "metadata": {},
   "source": [
    "## Conditional Probability"
   ]
  },
  {
   "cell_type": "markdown",
   "id": "2b2ab783-fadc-476e-afc7-ace1977e8ba3",
   "metadata": {},
   "source": [
    "- There are 10 candies in a bag: 5 green, and 5 blue.\n",
    "- What is the probability of getting 3 blue candies in a row?\n",
    "- The probability of getting the first blue candy is 5/10 or 1/2.\n",
    "\n",
    "When we pick a blue candy, though, we remove it from the bag. We're left with 9 candies in total with (5-1 =)4 Blue ones. So the probability of getting another blue is 4/9. Similarly, the probability of picking a third blue candy is 3/8\n",
    "\n",
    "Since we're calculating the probability of picking 1 Blue Candy AND 1 Blue Candy AND 1 Blue Candy\n",
    "\n",
    "- Our final probability is **1/2 * 4/9 * 3/8, or .0833**. So, there is an 8.3% chance of picking three blue candies in a row. Simple tricks: Whenever you have to verbally say AND (like we just did above), you will want to MULTIPLY the probabilities whenever you have to verbally say OR, you will want to ADD the probabilities"
   ]
  },
  {
   "cell_type": "markdown",
   "id": "eee69c2f-0b5e-4c60-bc8b-a56aa4078075",
   "metadata": {},
   "source": [
    "**GIVEN that we have the probability of picking a house in \"Old Town\" neighborhood, we go a step further and AGAIN pick a house from the SAME neighborhood?**"
   ]
  },
  {
   "cell_type": "code",
   "execution_count": 9,
   "id": "6d378cf2-4433-4d60-988f-2df9f0675706",
   "metadata": {},
   "outputs": [
    {
     "name": "stdout",
     "output_type": "stream",
     "text": [
      "The probability of Picking a house in Old Town and again picking a house from the same neighborhood is 0.594139352\n"
     ]
    }
   ],
   "source": [
    "# Enter conditional probability code\n",
    "cond_prob = (houses_in_OldTown/all_houses)* ((houses_in_OldTown-1)/(all_houses-1))\n",
    "print(\"The probability of Picking a house in Old Town and again picking a house from the same neighborhood is {:.9f}\".format(cond_prob*100))"
   ]
  },
  {
   "cell_type": "markdown",
   "id": "679af8b8-e4ff-4595-bbde-6a4f3e2f83e6",
   "metadata": {
    "tags": []
   },
   "source": [
    "## Conditional Probability"
   ]
  },
  {
   "cell_type": "markdown",
   "id": "609eb4cc-4782-4906-af6a-ec5034ab084c",
   "metadata": {},
   "source": [
    "- Let take an example, that we throw a dice of containing six faces.\n",
    "- So, there are Total no. of Combinations = 6*6 = 36\n",
    "\n",
    "Let's see how:\n",
    "\n",
    "2 {{1,1}} => 1/36\n",
    "\n",
    "3 {{1,2}, {2,1}} => 2/36\n",
    "\n",
    "4 {{2,2}, {3,1}, {1,3}} => 3/36\n",
    "\n",
    "5 {{1,4}, {4,1}, {2,3}, {3,2}} => 4/36\n",
    "\n",
    "6 {{3,3}, {1,5}, {5,1}, {2,4}, {4,2}} => 5/36\n",
    "\n",
    "7 {{1,6}, {6,1}, {2,5}, {5,2}, {3,4}, {4,3}} => 6/36\n",
    "\n",
    "8 {{2,6}, {6,2}, {3,5}, {5,3}, {4,4}} => 5/36\n",
    "\n",
    "9 {{3,6}, {6,3}, {5,4}, {4,5}} => 4/36\n",
    "\n",
    "10 {4,6}, {6,4}, {5,5}} => 3/36\n",
    "\n",
    "11 {{5,6}, {6,5}} => 2/36\n",
    "\n",
    "12 {{6,6}} => 1/36"
   ]
  },
  {
   "cell_type": "markdown",
   "id": "fbf947a9-527b-43dc-ab2d-0835c7bbc8db",
   "metadata": {},
   "source": [
    "## PDF and IMF"
   ]
  },
  {
   "cell_type": "markdown",
   "id": "7c14f1fe-7a9b-41e6-a3da-8f667d13cf02",
   "metadata": {},
   "source": [
    "- The probability distribution for a discrete randomanable is the **probability mass function** for that variable and similarly and if our random variable takes continuous values the distribution is called a **probability density function**.\n",
    "- In the previous what we plotted was the Probability Mass Function of a Discrete Random Variable (X which is the sum of two fair dies)\n",
    "- One of the most common Probability Distribution Functions is the Normal Distribution"
   ]
  },
  {
   "cell_type": "markdown",
   "id": "9a45c1f3-07cb-44af-97bc-de3c92702fee",
   "metadata": {},
   "source": [
    "## Normal Distribution"
   ]
  },
  {
   "cell_type": "markdown",
   "id": "2095982b-70f4-45e7-984a-5971f1d5d528",
   "metadata": {},
   "source": [
    "- Normal distribution, also known as the Gaussian distribution, is a probability distribution that is symmetric about the mean, showing that data near the mean are more frequent in occurrence than data far from the mean. In graph form normal distribution will appear as a bell curve."
   ]
  },
  {
   "cell_type": "markdown",
   "id": "2da4041c-8533-4050-9e2a-d645be0c9a03",
   "metadata": {},
   "source": [
    "## Checking for Skewness of the data"
   ]
  },
  {
   "cell_type": "markdown",
   "id": "816dc1b7-6312-4fd3-918d-4fe95cf4dc0c",
   "metadata": {},
   "source": [
    "- We Generally check Askewness in the Target Columns of the data.\n",
    "- Skewness is a state of distribution where the distribution is highly biased towards the right or left side of the plot."
   ]
  },
  {
   "cell_type": "code",
   "execution_count": 10,
   "id": "87922170-7943-48b7-acc7-9dcac08750db",
   "metadata": {
    "tags": []
   },
   "outputs": [
    {
     "data": {
      "image/png": "[encoded data removed]",
      "text/plain": [
       "<Figure size 800x550 with 1 Axes>"
      ]
     },
     "metadata": {},
     "output_type": "display_data"
    }
   ],
   "source": [
    "plt.rcParams['figure.figsize'] = (11, 4)\n",
    "plt.style.use('seaborn')\n",
    "\n",
    "plt.xticks(rotation=30)\n",
    "sns.distplot(df['SalePrice'])\n",
    "plt.title('Distribution of Target Column')\n",
    "plt.show()"
   ]
  },
  {
   "cell_type": "markdown",
   "id": "6dfcb1d6-2b23-402b-b520-0a537109fed7",
   "metadata": {},
   "source": [
    "- The distribution for our target variable aka SalePrice does'nt resemble a normal distribution, it is skewed to the right\n",
    "- If we remove the outlier, it'd somewhat resemble a Normal Distribution."
   ]
  },
  {
   "cell_type": "code",
   "execution_count": 11,
   "id": "1f88f68d-e47d-46f8-84bb-059bb4374b57",
   "metadata": {},
   "outputs": [
    {
     "data": {
      "text/plain": [
       "1.8828757597682129"
      ]
     },
     "execution_count": 11,
     "metadata": {},
     "output_type": "execute_result"
    }
   ],
   "source": [
    "# Computing the skewness for each feature\n",
    "df['SalePrice'].skew()"
   ]
  },
  {
   "cell_type": "markdown",
   "id": "f006fab9-9ade-4c7d-ba80-bf8d04eeab7c",
   "metadata": {},
   "source": [
    "## Z-Score"
   ]
  },
  {
   "cell_type": "markdown",
   "id": "1dcdd10c-a47b-42ce-8c57-9055e23029f4",
   "metadata": {},
   "source": [
    "- The number of standard deviations from the mean is also called the \"Standard Score\", \"Sigma\" or \"Z-Score\"\n",
    "\n",
    "![](https://image.slidesharecdn.com/lecbio5-120420150958-phpapp02/85/lec-bio-5-13-320.jpg?cb=1669275232)"
   ]
  },
  {
   "cell_type": "markdown",
   "id": "d403c424-7a20-4679-a8bc-89fd611a59c9",
   "metadata": {},
   "source": [
    "- Let's take an example to better understand the meaning of z-score\n",
    "    - Let's Suppose the average height of a Student in a class is 1.4 meters\n",
    "     - In that same class one of the students is 1.85m tall\n",
    "     - You can see on the bell curve that 1.85m is 3 standard deviations from the mean of 14.\n",
    "     - so, the student with 1.85m height **has a z-score\" of 3.0.**"
   ]
  },
  {
   "cell_type": "markdown",
   "id": "02b8cc96-e13c-410f-a57f-57a54fc9614b",
   "metadata": {},
   "source": [
    "### Inference"
   ]
  },
  {
   "cell_type": "markdown",
   "id": "6f60b92b-a20a-4da2-bbd9-746356cba700",
   "metadata": {},
   "source": [
    "### Sample Mean and population Mean\n",
    "- Let's consider a sample of 500 houses at random from 1460 houses and plot it's mean\n",
    "- But the mean of these 500 houses can be near or pretty far away from the mean of the 1460 houses calculated earlier."
   ]
  },
  {
   "cell_type": "code",
   "execution_count": 12,
   "id": "6cce2590-0d37-4fcf-a2ce-bca3c9835983",
   "metadata": {},
   "outputs": [
    {
     "name": "stdout",
     "output_type": "stream",
     "text": [
      "Sample mean:  180879.64333333334\n",
      "Sample median:  158950.0\n",
      "Sample std:  83886.28589244762\n",
      "Population mean:  180921.19589041095\n",
      "Population median:  163000.0\n",
      "Population std:  79442.50288288663\n"
     ]
    }
   ],
   "source": [
    "# lets take seed so that everytime the random values come out to be constant\n",
    "np.random.seed(100)\n",
    "# Lets take 500 sample values from the dataset of 1460 values \n",
    "sample_ages = np.random.choice(a=df['SalePrice'], size=300)\n",
    "\n",
    "# getting the sample mean\n",
    "print (\"Sample mean: \", sample_ages.mean())\n",
    "print (\"Sample median: \", np.median(sample_ages))\n",
    "print (\"Sample std: \", np.std(sample_ages))\n",
    "\n",
    "# getting the population mean\n",
    "print(\"Population mean: \", df['SalePrice'].mean())\n",
    "print(\"Population median: \", df['SalePrice'].median())\n",
    "print(\"Population std: \", df['SalePrice'].std())"
   ]
  },
  {
   "cell_type": "markdown",
   "id": "01ca5e54-6845-4a42-b972-9580faf040d6",
   "metadata": {},
   "source": [
    "> From above information we can infer that the sample mean, median, and std are not far from the population, hence..."
   ]
  },
  {
   "cell_type": "code",
   "execution_count": 13,
   "id": "356007ce-27eb-4509-9d9c-5cf5cbec9818",
   "metadata": {},
   "outputs": [
    {
     "data": {
      "image/png": "[encoded data removed]",
      "text/plain": [
       "<Figure size 800x550 with 1 Axes>"
      ]
     },
     "metadata": {},
     "output_type": "display_data"
    }
   ],
   "source": [
    "sns.distplot(sample_ages)\n",
    "plt.show()"
   ]
  },
  {
   "cell_type": "markdown",
   "id": "2c5bc6a4-5654-4051-ba8c-20935f357be9",
   "metadata": {},
   "source": [
    "## Confidence Interval"
   ]
  },
  {
   "cell_type": "markdown",
   "id": "e8bd7884-a95a-4e32-af85-ff2621afc768",
   "metadata": {},
   "source": [
    "![](https://analystprep.com/cfa-level-1-exam/wp-content/uploads/2019/10/page-159.jpg)\n",
    "\n",
    "**Confidence Interval (CI)** is a type of estimate computed from the statistics of the observed data. This proposes a range of plausible values for an unknown parameter (for example, the mean). The interval has an associated confidence level that the true parameter is in the proposed range.\n",
    "\n",
    "The 95% confidence interval defines a range of values that you can be 95% certain contains the population mean. With large samples, you know that mean with much more precision than you do with a small sample, so the confidence interval is quite narrow when computed from a large sample."
   ]
  },
  {
   "cell_type": "code",
   "execution_count": 14,
   "id": "9126b9c4-e1d0-4560-b485-3cab7d43067e",
   "metadata": {},
   "outputs": [],
   "source": [
    "# import the scipy packages\n",
    "import scipy.stats as stats\n",
    "import math\n",
    "\n",
    "# lets seed the random values\n",
    "np.random.seed(10)\n",
    "\n",
    "# lets take a sample size\n",
    "sample_size = 1000\n",
    "sample = np.random.choice(a= df['SalePrice'], size = sample_size)\n",
    "sample_mean = sample.mean()"
   ]
  },
  {
   "cell_type": "code",
   "execution_count": 15,
   "id": "d1a3aec5-bf83-46ab-aeee-e0d8e8acee24",
   "metadata": {},
   "outputs": [
    {
     "name": "stdout",
     "output_type": "stream",
     "text": [
      "z-critical value:  1.6448536269514722\n"
     ]
    }
   ],
   "source": [
    "# get the z-critical value\n",
    "z_critical = stats.norm.ppf(q = 0.95)\n",
    "\n",
    "# check the z-critical value\n",
    "print(\"z-critical value: \", z_critical)"
   ]
  },
  {
   "cell_type": "code",
   "execution_count": 16,
   "id": "aefef4c0-2e35-4102-b166-79db5b20e9f2",
   "metadata": {},
   "outputs": [],
   "source": [
    "# Get the population standard deviation\n",
    "pop_stdev = df['SalePrice'].std()\n",
    "\n",
    "# Checking the margin of error\n",
    "margin_of_error = z_critical * (pop_stdev/math.sqrt(sample_size))\n",
    "\n",
    "# Defining our cofidence interval\n",
    "confidence_interval = (sample_mean - margin_of_error,\n",
    "                       sample_mean - margin_of_error,)"
   ]
  },
  {
   "cell_type": "code",
   "execution_count": 17,
   "id": "02948f63-4949-4d9b-82c9-2a7114553681",
   "metadata": {},
   "outputs": [
    {
     "data": {
      "text/plain": [
       "(79442.50288288663, 4132.188980333281)"
      ]
     },
     "execution_count": 17,
     "metadata": {},
     "output_type": "execute_result"
    }
   ],
   "source": [
    "pop_stdev, margin_of_error"
   ]
  },
  {
   "cell_type": "code",
   "execution_count": 18,
   "id": "da44e7a2-ca44-45c2-9c37-fed355cb3484",
   "metadata": {},
   "outputs": [
    {
     "name": "stdout",
     "output_type": "stream",
     "text": [
      "Confidence interval:  (178338.05201966673, 178338.05201966673)\n",
      "True mean: 180921.19589041095\n"
     ]
    }
   ],
   "source": [
    "# Print the result\n",
    "print(\"Confidence interval: \",end=\" \")\n",
    "print(confidence_interval)\n",
    "print(\"True mean: {}\".format(df['SalePrice'].mean()))"
   ]
  },
  {
   "cell_type": "markdown",
   "id": "9f79d70e-2719-4716-a57b-4862739b9483",
   "metadata": {},
   "source": [
    "### References"
   ]
  },
  {
   "cell_type": "markdown",
   "id": "923daf87-decd-4ddb-b2c8-26e0e2b0501c",
   "metadata": {
    "tags": []
   },
   "source": [
    "1. https://datatab.net/tutorial/descriptive-inferential-statistics\n",
    "2. https://www.scribbr.com/statistics/inferential-statistics/\n",
    "3. https://www.questionpro.com/blog/inferential-statistics/\n",
    "4. https://www.geeksforgeeks.org/style-plots-using-matplotlib/"
   ]
  },
  {
   "cell_type": "markdown",
   "id": "57e45e09-c33c-4b8b-b268-4ae11a329060",
   "metadata": {},
   "source": [
    "### Hypothesis Testing\n",
    "\n",
    "- Statistical Hypothesis, sometimes called confirmatory data analysis, is a hypothesis that is testable on the basis of observing a process that is modeled via a set of random variables. A statistical hypothesis test is a method of statistical inference.\n",
    "\n",
    "### Null Hypothesis\n",
    "- In inferential Statistics. **The Null Hypothesis is a general statement or default position that there is no relationship between two measured phenomena or no association among groups.**\n",
    "- Statistical hypothesis tests are based on a statement called the null hypothesis that assumes nothing interesting is going on between whatever variables you are testing.\n",
    "- Therefore, in our case the Null Hypothesis would be: **The Mean of House Prices in Old Town is not different from the houses of other neighborhoods**\n",
    "\n",
    "### Alternate Hypothesis\n",
    "- The alternate hypothesis is just an alternative to the null. For example, if your null is **I'm going to win up to 1000** then your alternate is **I'm going to win more than 1000**. Basically, you're looking at whether there's enough change (with the alternate hypothesis) to be able to reject the null hypothesis\n",
    "\n",
    "### The Null Hypothesis is assumed to be true and Statistical evidence is required to reject it in favor of an Alternative Hypothesis.\n",
    "\n",
    "1. Once you have the null and alternative hypothesis in hand, you choose a significance level (often denoted by the Greek letter a). The significance level is a probability threshold that determines when you reject the null hypothesis.\n",
    "\n",
    "2. After carrying out a test, if the probability of getting a result as extreme as the one you observe due to chance is lower than the significance level, you reject the null hypothesis in favor of the alternative.\n",
    "\n",
    "3. This probability of seeing a result as extreme or more extreme than the one observed is known as the p-value."
   ]
  },
  {
   "cell_type": "markdown",
   "id": "c76f068f-312b-4a3b-bc4c-044e4f6bc38f",
   "metadata": {},
   "source": [
    "### P Value\n",
    "- In statistical hypothesis testing **the p-value or probability value** is the probability of obtaining test results at least as extreme as the results actually observed during the test, assuming that the null hypothesis is correct\n",
    "- So now say that we have put a significance (a)=0.05\n",
    "- This means that if we see a p-value of lesser than 0.05, we reject our Null and accept the Alternative to be true\n",
    "\n",
    "\n",
    "**Hypothesis: Are house prices in Old Town really different from the House Prices of Other Neighborhoods?**"
   ]
  },
  {
   "cell_type": "code",
   "execution_count": 19,
   "id": "846cdad1-2af7-40a8-aaeb-9d49602cb153",
   "metadata": {},
   "outputs": [],
   "source": [
    "# lets import z test from stats models\n",
    "from statsmodels.stats.weightstats import ztest"
   ]
  },
  {
   "cell_type": "code",
   "execution_count": 20,
   "id": "4546bb16-47ca-42fd-903c-426a2dac554a",
   "metadata": {},
   "outputs": [
    {
     "name": "stdout",
     "output_type": "stream",
     "text": [
      "Z-Statistics is: -10.639294263334575\n",
      "P-Value is: 0.00000000000000000000000001956052602626001826532572\n"
     ]
    }
   ],
   "source": [
    "z_statistic, p_value = ztest(x1 = df[df['Neighborhood'] == 'OldTown']['SalePrice'],\n",
    "                            value = df['SalePrice'].mean())\n",
    "\n",
    "print(\"Z-Statistics is: {}\".format(z_statistic))\n",
    "print(\"P-Value is: {:.50f}\".format(p_value))"
   ]
  },
  {
   "cell_type": "code",
   "execution_count": 21,
   "id": "8c70497e-2a17-4ed3-84b0-c571f81111f6",
   "metadata": {},
   "outputs": [
    {
     "name": "stdout",
     "output_type": "stream",
     "text": [
      "No Accepted\n"
     ]
    }
   ],
   "source": [
    "# Hypothesis result\n",
    "if p_value > 0.05:\n",
    "    print(\"No Rejected\")\n",
    "else:\n",
    "    print(\"No Accepted\")"
   ]
  },
  {
   "cell_type": "markdown",
   "id": "9ba46844-9ffa-487d-bb2b-9695a4d4ca42",
   "metadata": {},
   "source": [
    "- If the P value if less than 0.05 then we can reject our null hypothesis against the alternate hypothesis.\n",
    "\n",
    "- **The Probability of getting the given distribution of houseprices in OldTown under the assumption that its mean, is the same as the mean of all house prices.**"
   ]
  },
  {
   "cell_type": "markdown",
   "id": "f63f5772-87c7-457f-8b89-8d04c92591cb",
   "metadata": {},
   "source": [
    "### Another way to test: Gossel's (Student's) t-test\n",
    "\n",
    "- The T-test is a statistical test used to determined whether a numeric data sample differs significantly from the population or whether two sample differ from one another.\n",
    "- A z-test assumes a sample size > 30 to work, but what if our sample is less than 30?\n",
    "- A-test solves this problem and gives us a way to do a hypothesis test on a smaller sample.\n",
    "- Now, let's also see if house proces in Stone Brook neighborhood are different from the houses in the rest of the neighborhoods."
   ]
  },
  {
   "cell_type": "markdown",
   "id": "8ef23b4b-e358-4c9e-b5db-a2d5768d7599",
   "metadata": {},
   "source": [
    "**Now, let's also see if house prices in Stone Brook neighborhood are different from the houses in the rest of the neighborhoods.**"
   ]
  },
  {
   "cell_type": "code",
   "execution_count": 22,
   "id": "ef769a89-1638-4948-9718-bef215154244",
   "metadata": {},
   "outputs": [
    {
     "name": "stdout",
     "output_type": "stream",
     "text": [
      "No of houses in Stone Brook: 25\n"
     ]
    }
   ],
   "source": [
    "print(\"No of houses in Stone Brook: {}\"\\\n",
    "      .format(df['Neighborhood'].value_counts()['StoneBr']))"
   ]
  },
  {
   "cell_type": "code",
   "execution_count": 23,
   "id": "3b6199ad-660b-44cd-8563-60b902d033b7",
   "metadata": {},
   "outputs": [],
   "source": [
    "# getting stat values and pvalues\n",
    "stats, p_val = stats.ttest_1samp(a = df[df['Neighborhood'] == 'StoneBr']['SalePrice'],\n",
    "                                 popmean = df['SalePrice'].mean())"
   ]
  },
  {
   "cell_type": "code",
   "execution_count": 24,
   "id": "5e33904d-59d9-4ff5-9889-398482a1588d",
   "metadata": {},
   "outputs": [
    {
     "name": "stdout",
     "output_type": "stream",
     "text": [
      "t_stat: 5.735070151700397 p_val: 6.558704101036394e-06\n"
     ]
    }
   ],
   "source": [
    "print(\"t_stat:\", stats,\"p_val:\",p_val)"
   ]
  },
  {
   "cell_type": "code",
   "execution_count": 25,
   "id": "c800e5a4-d519-4c42-8311-0b3efcc26abc",
   "metadata": {},
   "outputs": [
    {
     "name": "stdout",
     "output_type": "stream",
     "text": [
      "No Accepted\n"
     ]
    }
   ],
   "source": [
    "# Hypothesis result\n",
    "if p_value > 0.05:\n",
    "    print(\"No Rejected\")\n",
    "else:\n",
    "    print(\"No Accepted\")"
   ]
  },
  {
   "cell_type": "markdown",
   "id": "39f85b0d-eb98-4afe-bcae-4a630882fa78",
   "metadata": {},
   "source": [
    "The p-value in this case again is low and we can reject our null hypoythesis"
   ]
  },
  {
   "cell_type": "markdown",
   "id": "00c9c499-13fa-4ab4-aea6-1ebae3373c27",
   "metadata": {},
   "source": [
    "### Chi-Squared Goodness of fit Test\n",
    "\n",
    "The term \"chi-squared test,\" also written as χ2 test, refers to certain types of statistical hypothesis tests that are valid to perform when the test statistic is chi-squared distributed under the null hypothesis. Often, however, the term is used to refer to Pearson's chi-squared test and variants thereof.\n",
    "\n",
    "**A chi-squared goodness of fit tests whether the distribution of sample categorical data matches an expected distribution.**\n",
    "\n",
    "For example,\n",
    "- You could use a chi-squared goodness-of-fit test to check whether the race demographics of members at your church or school match that of the entire population of your country. \n",
    "- You could check whether the computer browser preferences of your friends match those of Internet uses as a whole.\n",
    "- When working with categorical data the values the observations themselves aren't of much use for statistical testing because categories like \"male\" \"female\" and \"other\" have no mathematical meaning"
   ]
  },
  {
   "cell_type": "markdown",
   "id": "0f917771-8419-4030-b519-24cbf2717a84",
   "metadata": {},
   "source": [
    "**Let's generate some fake demographic data for U.S. and Minnesota and walk through the chi-square goodness of fit test to check whether they are different**"
   ]
  },
  {
   "cell_type": "code",
   "execution_count": 26,
   "id": "f4837d72-3e83-45f5-8497-93fab0e27d17",
   "metadata": {},
   "outputs": [],
   "source": [
    "# Generate data\n",
    "national = pd.DataFrame([\"white\"]*100000 + [\"hispanic\"]*6000+\\\n",
    "                        [\"black\"]*50000 + [\"asian\"]*15000 + [\"other\"]*35000)\n",
    "minnesota = pd.DataFrame([\"white\"]*600 + [\"hispanic\"]*300+\\\n",
    "                        [\"black\"]*250 + [\"asian\"]*75 + [\"other\"]*150)"
   ]
  },
  {
   "cell_type": "code",
   "execution_count": 27,
   "id": "78bf62a2-6bea-4a05-b1c4-6f8b7699f7c3",
   "metadata": {},
   "outputs": [],
   "source": [
    "# Generate table\n",
    "national_table = pd.crosstab(index=national[0], columns=\"count\")\n",
    "minnesota_table = pd.crosstab(index=minnesota[0], columns=\"count\")"
   ]
  },
  {
   "cell_type": "code",
   "execution_count": 28,
   "id": "63ee02ed-fdc2-43aa-a388-99b58ca9eaf4",
   "metadata": {},
   "outputs": [
    {
     "name": "stdout",
     "output_type": "stream",
     "text": [
      "National\n",
      "col_0      count\n",
      "0               \n",
      "asian      15000\n",
      "black      50000\n",
      "hispanic    6000\n",
      "other      35000\n",
      "white     100000\n",
      "minnesota\n",
      "col_0     count\n",
      "0              \n",
      "asian        75\n",
      "black       250\n",
      "hispanic    300\n",
      "other       150\n",
      "white       600\n"
     ]
    }
   ],
   "source": [
    "print(\"National\")\n",
    "print(national_table)\n",
    "print(\"minnesota\")\n",
    "print(minnesota_table)"
   ]
  },
  {
   "cell_type": "markdown",
   "id": "a11cd7c2-6a2f-46fd-bd9a-f414929c6ff3",
   "metadata": {},
   "source": [
    "![](data:image/png;base64,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)"
   ]
  },
  {
   "cell_type": "markdown",
   "id": "544cc56c-f2ac-447e-9350-24e416bb3f69",
   "metadata": {},
   "source": [
    "- **Good Fit**: If the significance value that is p-value associated with chi-square statistics is 0.002, there is very strong evidence of rejecting the null hypothesis of no fit. It means good fit."
   ]
  },
  {
   "cell_type": "code",
   "execution_count": 40,
   "id": "4ff04902-bbb0-463e-afd8-3bc1a37bdcf3",
   "metadata": {},
   "outputs": [
    {
     "name": "stdout",
     "output_type": "stream",
     "text": [
      "Chi-Squared: 1751.3844155844156\n"
     ]
    }
   ],
   "source": [
    "# calculate ch2\n",
    "observed = minnesota_table\n",
    "national_ratios = national_table/len(national)  # Get population ratios\n",
    "expected = national_ratios * len(minnesota)   # Get expected counts\n",
    "chi_squared_stat = (((observed-expected)**2)/expected).sum()\n",
    "\n",
    "print(\"Chi-Squared:\", chi_squared_stat[0])"
   ]
  },
  {
   "cell_type": "code",
   "execution_count": 41,
   "id": "8a3af50f-81b1-4133-9dd8-7d0dbcdc50d4",
   "metadata": {},
   "outputs": [
    {
     "name": "stdout",
     "output_type": "stream",
     "text": [
      "Defaulting to user installation because normal site-packages is not writeable\n",
      "Requirement already satisfied: statsmodels in c:\\programdata\\anaconda3\\lib\\site-packages (0.13.5)\n",
      "Requirement already satisfied: packaging>=21.3 in c:\\programdata\\anaconda3\\lib\\site-packages (from statsmodels) (22.0)\n",
      "Requirement already satisfied: pandas>=0.25 in c:\\programdata\\anaconda3\\lib\\site-packages (from statsmodels) (1.5.3)\n",
      "Requirement already satisfied: patsy>=0.5.2 in c:\\programdata\\anaconda3\\lib\\site-packages (from statsmodels) (0.5.3)\n",
      "Requirement already satisfied: scipy>=1.3 in c:\\programdata\\anaconda3\\lib\\site-packages (from statsmodels) (1.10.0)\n",
      "Requirement already satisfied: numpy>=1.22.3 in c:\\programdata\\anaconda3\\lib\\site-packages (from statsmodels) (1.23.5)\n",
      "Requirement already satisfied: pytz>=2020.1 in c:\\programdata\\anaconda3\\lib\\site-packages (from pandas>=0.25->statsmodels) (2022.7)\n",
      "Requirement already satisfied: python-dateutil>=2.8.1 in c:\\programdata\\anaconda3\\lib\\site-packages (from pandas>=0.25->statsmodels) (2.8.2)\n",
      "Requirement already satisfied: six in c:\\programdata\\anaconda3\\lib\\site-packages (from patsy>=0.5.2->statsmodels) (1.16.0)\n"
     ]
    }
   ],
   "source": [
    "!pip install statsmodels"
   ]
  },
  {
   "cell_type": "markdown",
   "id": "74b94c5d-71c9-4a0f-8995-6c3cbc835690",
   "metadata": {},
   "source": [
    "### Effect of LandContour on SalePrice"
   ]
  },
  {
   "cell_type": "code",
   "execution_count": 31,
   "id": "fac54b7a-dfb5-4002-a039-4d0ba467d7ce",
   "metadata": {},
   "outputs": [
    {
     "name": "stdout",
     "output_type": "stream",
     "text": [
      "Frequency table\n",
      "============================\n",
      "SalePrice    High  Medium  Low\n",
      "LandContour                   \n",
      "Bnk            32      20   11\n",
      "HLS            10      12   28\n",
      "Low             8      11   17\n",
      "Lvl           437     447  427\n",
      "============================\n",
      "ChiSquare test statistic:  26.252544346201447\n",
      "p-value:  0.00019976918050008285\n"
     ]
    }
   ],
   "source": [
    "# Let's test if knowing LandContour which is the overall flatness of the property tells us anything about the price\n",
    "\n",
    "# For this let's divide the SalePrice in three buckets - High, Medium, Low\n",
    "\n",
    "import scipy.stats as sp\n",
    "def compute_freq_chi2(x,y):\n",
    "    freqtab = pd.crosstab(x,y)\n",
    "    print(\"Frequency table\")\n",
    "    print(\"============================\")\n",
    "    print(freqtab)\n",
    "    print(\"============================\")\n",
    "    chi2, pval, dof, expected = sp.chi2_contingency(freqtab)\n",
    "    print(\"ChiSquare test statistic: \",chi2)\n",
    "    print(\"p-value: \",pval)\n",
    "    return\n",
    "\n",
    "\n",
    "price = pd.qcut(df['SalePrice'], 3, labels = ['High', 'Medium', 'Low'])\n",
    "compute_freq_chi2(df.LandContour, price)"
   ]
  },
  {
   "cell_type": "markdown",
   "id": "2f7f2b04-f3c2-4396-b68f-7cf24a6c5dcd",
   "metadata": {},
   "source": [
    "- The low p-value tells us that the two variables aren't independent and knowing the LandContour of a house does tells us something about its SalePrice."
   ]
  },
  {
   "cell_type": "markdown",
   "id": "ff34add6-af73-4479-aa7a-3d0697bc5a8e",
   "metadata": {},
   "source": [
    "**The frequency distribution reflects this**\n",
    "\n",
    "- Houses that are Near Flat/Level(Lvl) have an equal distribution of SalePrice.\n",
    "- On the other hand houses that are at a Hillside i.e., Significant slope from side to side (HLS) have almost thrice as much houses with low price than high prices."
   ]
  },
  {
   "cell_type": "code",
   "execution_count": 32,
   "id": "5a6a3202-a53a-4497-a815-a838d99a838d",
   "metadata": {
    "tags": []
   },
   "outputs": [],
   "source": [
    "# !pip install statsmodels\n",
    "# !pip install pylab"
   ]
  },
  {
   "cell_type": "code",
   "execution_count": 33,
   "id": "5b850558-9b47-41d1-9e99-bfa56649761b",
   "metadata": {},
   "outputs": [],
   "source": [
    "# use qplot\n",
    "import statsmodels.api as sm\n",
    "import pylab"
   ]
  },
  {
   "cell_type": "code",
   "execution_count": 34,
   "id": "ce8a9e6f-272e-40d3-b205-b2e7a5486d7f",
   "metadata": {},
   "outputs": [],
   "source": [
    "# create function to plot the quantile\n",
    "def create_qqplot(data,title):\n",
    "    sm.qqplot(data, line = '45')\n",
    "    plt.title(title)\n",
    "    pylab.show()"
   ]
  },
  {
   "cell_type": "code",
   "execution_count": 35,
   "id": "35b37b0e-b3fb-4745-a4e2-3cd02e699935",
   "metadata": {},
   "outputs": [
    {
     "data": {
      "image/png": "[encoded data removed]",
      "text/plain": [
       "<Figure size 800x550 with 1 Axes>"
      ]
     },
     "metadata": {},
     "output_type": "display_data"
    }
   ],
   "source": [
    "# create qq plot\n",
    "create_qqplot(df[\"SalePrice\"], 'Sale Price')"
   ]
  },
  {
   "cell_type": "code",
   "execution_count": 36,
   "id": "d1c588be-e4fc-48d6-904b-d6bf964efa8e",
   "metadata": {},
   "outputs": [],
   "source": [
    "# Use the Normality Test\n",
    "from scipy.stats import shapiro, normaltest, anderson"
   ]
  },
  {
   "cell_type": "code",
   "execution_count": 37,
   "id": "319e1ada-d625-4f22-8177-124edbbc5328",
   "metadata": {},
   "outputs": [],
   "source": [
    "# function to test normality\n",
    "def try_normal(data):\n",
    "    result = {'Anderson' : {i:j for i,j in zip(anderson(data)[2], anderson(data)[1])},\n",
    "              'Shapiro': shapiro(data)[1],\n",
    "              'K^2': normaltest(data)[1]}\n",
    "    result['Anderson']['stat'] = anderson(data)[0]\n",
    "    return result"
   ]
  },
  {
   "cell_type": "code",
   "execution_count": 38,
   "id": "3733898a-0e75-4b7d-9102-ae734c5f4321",
   "metadata": {},
   "outputs": [
    {
     "data": {
      "text/plain": [
       "{'Anderson': {15.0: 0.574,\n",
       "  10.0: 0.654,\n",
       "  5.0: 0.785,\n",
       "  2.5: 0.916,\n",
       "  1.0: 1.089,\n",
       "  'stat': 41.69199630641583},\n",
       " 'Shapiro': 3.2072044604461286e-33,\n",
       " 'K^2': 2.283848353787728e-133}"
      ]
     },
     "execution_count": 38,
     "metadata": {},
     "output_type": "execute_result"
    }
   ],
   "source": [
    "# check using anderson\n",
    "try_normal(df['SalePrice'])"
   ]
  },
  {
   "cell_type": "markdown",
   "id": "8ef762c8-6c4a-4cfe-bac2-f56272afb01e",
   "metadata": {},
   "source": [
    "**Anderson is stat < critical value for accepting H0 (fall to reject H0) then data is normal distributed (or the designed dist)**\n",
    "\n",
    "**Anderson is stat > critical value for rejecting H0 (Accept H1) then data is not normal distributed (or the designed dist)**"
   ]
  }
 ],
 "metadata": {
  "kernelspec": {
   "display_name": "Python 3 (ipykernel)",
   "language": "python",
   "name": "python3"
  },
  "language_info": {
   "codemirror_mode": {
    "name": "ipython",
    "version": 3
   },
   "file_extension": ".py",
   "mimetype": "text/x-python",
   "name": "python",
   "nbconvert_exporter": "python",
   "pygments_lexer": "ipython3",
   "version": "3.10.9"
  }
 },
 "nbformat": 4,
 "nbformat_minor": 5
}
